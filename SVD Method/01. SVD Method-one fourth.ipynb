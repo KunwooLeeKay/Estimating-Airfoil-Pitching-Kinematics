{
 "cells": [
  {
   "cell_type": "code",
   "execution_count": 1,
   "id": "8848fdd2",
   "metadata": {},
   "outputs": [],
   "source": [
    "import cvxpy as cp\n",
    "import numpy as np\n",
    "import matplotlib.pyplot as plt\n",
    "from collections import Counter\n",
    "from sklearn.metrics import classification_report, confusion_matrix\n",
    "import time\n",
    "import pickle"
   ]
  },
  {
   "cell_type": "code",
   "execution_count": 2,
   "id": "46f31e40",
   "metadata": {},
   "outputs": [],
   "source": [
    "np.set_printoptions(precision=4)"
   ]
  },
  {
   "cell_type": "code",
   "execution_count": 3,
   "id": "6afa7e73",
   "metadata": {},
   "outputs": [],
   "source": [
    "import itertools\n",
    "def plot_confusion_matrix(cm, classes,\n",
    "                          normalize=False,\n",
    "                          title='Confusion matrix',\n",
    "                          cmap=plt.cm.Blues, cbar = False):\n",
    "    \"\"\"\n",
    "    This function prints and plots the confusion matrix.\n",
    "    Normalization can be applied by setting `normalize=True`.\n",
    "    \"\"\"\n",
    "    if normalize:\n",
    "        cm = cm.astype('float') / cm.sum(axis=1)[:, np.newaxis]\n",
    "        print(\"Normalized confusion matrix\")\n",
    "    else:\n",
    "        print('Confusion matrix, without normalization')\n",
    "\n",
    "    plt.imshow(cm, interpolation='nearest', cmap=cmap)\n",
    "    plt.title(title)\n",
    "    if cbar == True:\n",
    "        plt.colorbar()\n",
    "    tick_marks = np.arange(len(classes))\n",
    "    plt.xticks(tick_marks, classes, rotation=45)\n",
    "    plt.yticks(tick_marks, classes)\n",
    "\n",
    "    fmt = '.2f' if normalize else 'd'\n",
    "    thresh = cm.max() / 2.\n",
    "    for i, j in itertools.product(range(cm.shape[0]), range(cm.shape[1])):\n",
    "        plt.text(j, i, format(cm[i, j], fmt),\n",
    "                 horizontalalignment=\"center\",\n",
    "                 color=\"white\" if cm[i, j] > thresh else \"black\")\n",
    "\n",
    "    plt.tight_layout()\n",
    "    plt.ylabel('True label')\n",
    "    plt.xlabel('Predicted label')"
   ]
  },
  {
   "cell_type": "markdown",
   "id": "0719d10d",
   "metadata": {},
   "source": [
    "# One Fourth Ratio"
   ]
  },
  {
   "cell_type": "code",
   "execution_count": 4,
   "id": "0bedcd19",
   "metadata": {},
   "outputs": [],
   "source": [
    "boa = [25., 30.]\n",
    "freq = [0.05, 0.1, 0.2, 0.25, 0.3, 0.35, 0.4, 0.5]\n",
    "\n",
    "categories = {}\n",
    "\n",
    "i = 0\n",
    "for b in boa:\n",
    "    for f in freq:\n",
    "        categories[i] = str(b) + ', ' + str(f)\n",
    "        i+=1"
   ]
  },
  {
   "cell_type": "code",
   "execution_count": 5,
   "id": "c158f5e6",
   "metadata": {},
   "outputs": [],
   "source": [
    "train_X = np.load(\"/Volumes/KleeFD/dataset/window_normalized/Window Size/one fourth/train_X.npy\")\n",
    "train_Y = np.load(\"/Volumes/KleeFD/dataset/window_normalized/Window Size/one fourth/train_Y.npy\")\n",
    "\n",
    "ratio = '1/4'\n",
    "size = 150 * 150\n",
    "rPODeach = 10\n",
    "\n",
    "\n",
    "s = np.where((train_Y[:,0] == 25.) & (train_Y[:,1] == 0.3))\n",
    "\n",
    "Data_split = [] # split the data into categories, to create the library.\n",
    "\n",
    "i = 0\n",
    "\n",
    "\n",
    "for b in boa:\n",
    "    for f in freq:\n",
    "        s = np.where((train_Y[:,0] == b) & (train_Y[:,1] == f))\n",
    "        if s[0].shape[0] == 0:\n",
    "            print(b, f)\n",
    "            break\n",
    "        # print(b,f, ' : category', i)\n",
    "        i += 1\n",
    "        Data_split.append(train_X[s])\n",
    "        \n",
    "\n",
    "Library = np.empty((size,0))\n",
    "\n",
    "for cat in range(16):\n",
    "    DataVecsTrain = np.zeros((size, len(Data_split[cat])))\n",
    "\n",
    "    for i, d in enumerate(Data_split[cat]):\n",
    "        DataVecsTrain[:,i] = d.reshape(-1)\n",
    "        \n",
    "    U, S, Vt = np.linalg.svd(DataVecsTrain, full_matrices = False)\n",
    "    Library = np.column_stack((Library, U[:,:rPODeach]))"
   ]
  },
  {
   "cell_type": "code",
   "execution_count": 6,
   "id": "c24e8158",
   "metadata": {},
   "outputs": [],
   "source": [
    "# Load Testing Data\n",
    "\n",
    "test_X = np.load(\"/Volumes/KleeFD/dataset/window_normalized/Window Size/one fourth/test_X.npy\")\n",
    "test_Y = np.load(\"/Volumes/KleeFD/dataset/window_normalized/Window Size/one fourth/test_Y.npy\")\n",
    "\n",
    "true_label = np.zeros((len(test_Y), 1), dtype = '<U10')\n",
    "for i in range(len(test_Y)):\n",
    "    true_label[i] = (str(test_Y[i,0])+', '+ str(test_Y[i, 1]))"
   ]
  },
  {
   "cell_type": "code",
   "execution_count": 7,
   "id": "04c2e11e",
   "metadata": {},
   "outputs": [
    {
     "name": "stdout",
     "output_type": "stream",
     "text": [
      "Time spent: 2865.8254442214966 seconds\n"
     ]
    }
   ],
   "source": [
    "# Solve\n",
    "\n",
    "# Record the start time\n",
    "start_time = time.time()\n",
    "\n",
    "nModesSparse = 2*8*rPODeach\n",
    "\n",
    "answers = []\n",
    "\n",
    "testing_number = len(test_Y) # takes too long to test for every case. testing for only 100 cases\n",
    "\n",
    "# Make input image parameter, to solve problem without initializing problem everytime\n",
    "X = cp.Parameter((size))\n",
    "s = cp.Variable(nModesSparse)\n",
    "objective = cp.Minimize(cp.norm(s, 1) + 100*cp.norm(Library @ s - X, 2))\n",
    "prob = cp.Problem(objective)\n",
    "\n",
    "\n",
    "for i in range(testing_number):\n",
    "    \n",
    "    X.value = test_X[i].reshape(-1)\n",
    "    prob.solve(solver = cp.MOSEK, verbose = False)\n",
    "    \n",
    "    answers.append(s.value)\n",
    "    \n",
    "# Record the end time\n",
    "end_time = time.time()\n",
    "\n",
    "# Calculate the time spent\n",
    "execution_time = end_time - start_time\n",
    "\n",
    "# Print the execution time\n",
    "print(f\"Time spent: {execution_time} seconds\")"
   ]
  },
  {
   "cell_type": "code",
   "execution_count": 8,
   "id": "a6b59a46",
   "metadata": {},
   "outputs": [
    {
     "name": "stdout",
     "output_type": "stream",
     "text": [
      "              precision    recall  f1-score   support\n",
      "\n",
      "  25.0, 0.05       0.91      0.73      0.81        56\n",
      "   25.0, 0.1       0.97      1.00      0.98        56\n",
      "   25.0, 0.2       0.71      1.00      0.83        52\n",
      "  25.0, 0.25       0.83      0.92      0.87        52\n",
      "   25.0, 0.3       0.98      1.00      0.99        55\n",
      "  25.0, 0.35       0.92      1.00      0.96        56\n",
      "   25.0, 0.4       1.00      1.00      1.00        67\n",
      "   25.0, 0.5       0.89      1.00      0.94        57\n",
      "  30.0, 0.05       0.59      0.18      0.27       154\n",
      "   30.0, 0.1       0.78      0.52      0.62       154\n",
      "   30.0, 0.2       0.99      1.00      1.00       158\n",
      "  30.0, 0.25       1.00      1.00      1.00       158\n",
      "   30.0, 0.3       0.92      1.00      0.96       155\n",
      "  30.0, 0.35       0.52      0.75      0.61       154\n",
      "   30.0, 0.4       0.58      0.68      0.62       143\n",
      "   30.0, 0.5       0.88      1.00      0.94       153\n",
      "\n",
      "    accuracy                           0.82      1680\n",
      "   macro avg       0.84      0.86      0.84      1680\n",
      "weighted avg       0.82      0.82      0.80      1680\n",
      "\n"
     ]
    }
   ],
   "source": [
    "# print(answer)\n",
    "predictions = []\n",
    "\n",
    "for answer in answers:\n",
    "    \n",
    "    l2each = []\n",
    "    for i in range(len(answer)):\n",
    "        if i%rPODeach == 0:\n",
    "            l2each.append(sum(abs(answer[i:i + rPODeach])))\n",
    "    l2each = np.array(l2each)\n",
    "    pred = np.argmax(l2each)\n",
    "    predictions.append(categories[pred])\n",
    "\n",
    "c_report = classification_report(true_label[:testing_number], predictions, zero_division = 0)    \n",
    "print(c_report)"
   ]
  },
  {
   "cell_type": "code",
   "execution_count": 9,
   "id": "1d948874",
   "metadata": {},
   "outputs": [
    {
     "name": "stdout",
     "output_type": "stream",
     "text": [
      "Confusion matrix, without normalization\n"
     ]
    },
    {
     "data": {
      "image/png": "[encoded data removed]",
      "text/plain": [
       "<Figure size 720x720 with 1 Axes>"
      ]
     },
     "metadata": {
      "needs_background": "light"
     },
     "output_type": "display_data"
    }
   ],
   "source": [
    "cnf_matrix = confusion_matrix(true_label[:testing_number], predictions)\n",
    "\n",
    "plt.figure(figsize=(10,10))\n",
    "plot_confusion_matrix(cnf_matrix, classes = categories, normalize=False,\n",
    "                      title=ratio + ' Prediction')\n",
    "plt.show()"
   ]
  },
  {
   "cell_type": "code",
   "execution_count": 10,
   "id": "db06f030",
   "metadata": {},
   "outputs": [],
   "source": [
    "save_path = '/Users/kunwoosmac/Library/Mobile Documents/com~apple~CloudDocs/Mac/Armour R&D/SVD reconstruction/1. one fourth/'\n",
    "\n",
    "with open(save_path + 'pred.pickle', 'wb') as file:\n",
    "    pickle.dump(predictions, file)\n",
    "    \n",
    "with open(save_path + 'true.pickle', 'wb') as file:\n",
    "    pickle.dump(true_label, file)\n",
    "    \n",
    "with open(save_path + 'cnfmatrix.pickle', 'wb') as file:\n",
    "    pickle.dump(cnf_matrix, file)\n",
    "    \n",
    "with open(save_path + 'creport.pickle', 'wb') as file:\n",
    "    pickle.dump(c_report, file)\n",
    "    \n",
    "with open(save_path + 'time.pickle', 'wb') as file:\n",
    "    pickle.dump(execution_time, file)"
   ]
  }
 ],
 "metadata": {
  "kernelspec": {
   "display_name": "tf_metal",
   "language": "python",
   "name": "tf25"
  },
  "language_info": {
   "codemirror_mode": {
    "name": "ipython",
    "version": 3
   },
   "file_extension": ".py",
   "mimetype": "text/x-python",
   "name": "python",
   "nbconvert_exporter": "python",
   "pygments_lexer": "ipython3",
   "version": "3.8.16"
  }
 },
 "nbformat": 4,
 "nbformat_minor": 5
}

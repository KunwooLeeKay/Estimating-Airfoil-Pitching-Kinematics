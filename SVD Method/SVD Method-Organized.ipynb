{
 "cells": [
  {
   "cell_type": "code",
   "execution_count": 1,
   "id": "8848fdd2",
   "metadata": {},
   "outputs": [],
   "source": [
    "import cvxpy as cp\n",
    "import numpy as np\n",
    "import matplotlib.pyplot as plt\n",
    "from collections import Counter\n",
    "from sklearn.metrics import classification_report, confusion_matrix"
   ]
  },
  {
   "cell_type": "code",
   "execution_count": 2,
   "id": "46f31e40",
   "metadata": {},
   "outputs": [],
   "source": [
    "np.set_printoptions(precision=4)"
   ]
  },
  {
   "cell_type": "code",
   "execution_count": 3,
   "id": "6afa7e73",
   "metadata": {},
   "outputs": [],
   "source": [
    "import itertools\n",
    "def plot_confusion_matrix(cm, classes,\n",
    "                          normalize=False,\n",
    "                          title='Confusion matrix',\n",
    "                          cmap=plt.cm.Blues, cbar = False):\n",
    "    \"\"\"\n",
    "    This function prints and plots the confusion matrix.\n",
    "    Normalization can be applied by setting `normalize=True`.\n",
    "    \"\"\"\n",
    "    if normalize:\n",
    "        cm = cm.astype('float') / cm.sum(axis=1)[:, np.newaxis]\n",
    "        print(\"Normalized confusion matrix\")\n",
    "    else:\n",
    "        print('Confusion matrix, without normalization')\n",
    "\n",
    "    plt.imshow(cm, interpolation='nearest', cmap=cmap)\n",
    "    plt.title(title)\n",
    "    if cbar == True:\n",
    "        plt.colorbar()\n",
    "    tick_marks = np.arange(len(classes))\n",
    "    plt.xticks(tick_marks, classes, rotation=45)\n",
    "    plt.yticks(tick_marks, classes)\n",
    "\n",
    "    fmt = '.2f' if normalize else 'd'\n",
    "    thresh = cm.max() / 2.\n",
    "    for i, j in itertools.product(range(cm.shape[0]), range(cm.shape[1])):\n",
    "        plt.text(j, i, format(cm[i, j], fmt),\n",
    "                 horizontalalignment=\"center\",\n",
    "                 color=\"white\" if cm[i, j] > thresh else \"black\")\n",
    "\n",
    "    plt.tight_layout()\n",
    "    plt.ylabel('True label')\n",
    "    plt.xlabel('Predicted label')"
   ]
  },
  {
   "cell_type": "markdown",
   "id": "3bcfc130",
   "metadata": {},
   "source": [
    "# Try for one thirds"
   ]
  },
  {
   "cell_type": "code",
   "execution_count": 4,
   "id": "f27fdc90",
   "metadata": {},
   "outputs": [],
   "source": [
    "train_X = np.load(\"/Volumes/KleeFD/dataset/window_normalized/Window Size/one thirds/train_X.npy\")\n",
    "train_Y = np.load(\"/Volumes/KleeFD/dataset/window_normalized/Window Size/one thirds/train_Y.npy\")"
   ]
  },
  {
   "cell_type": "code",
   "execution_count": 5,
   "id": "30612499",
   "metadata": {},
   "outputs": [],
   "source": [
    "boa = [25., 30.]\n",
    "freq = [0.05, 0.1, 0.2, 0.25, 0.3, 0.35, 0.4, 0.5]\n",
    "\n",
    "categories = {}\n",
    "\n",
    "i = 0\n",
    "for b in boa:\n",
    "    for f in freq:\n",
    "        categories[i] = str(b) + ', ' + str(f)\n",
    "        i+=1"
   ]
  },
  {
   "cell_type": "markdown",
   "id": "feb505b5",
   "metadata": {},
   "source": [
    "## Make the Library"
   ]
  },
  {
   "cell_type": "code",
   "execution_count": 6,
   "id": "8e9ad65e",
   "metadata": {},
   "outputs": [
    {
     "name": "stdout",
     "output_type": "stream",
     "text": [
      "25.0 0.05  : category 0\n",
      "25.0 0.1  : category 1\n",
      "25.0 0.2  : category 2\n",
      "25.0 0.25  : category 3\n",
      "25.0 0.3  : category 4\n",
      "25.0 0.35  : category 5\n",
      "25.0 0.4  : category 6\n",
      "25.0 0.5  : category 7\n",
      "30.0 0.05  : category 8\n",
      "30.0 0.1  : category 9\n",
      "30.0 0.2  : category 10\n",
      "30.0 0.25  : category 11\n",
      "30.0 0.3  : category 12\n",
      "30.0 0.35  : category 13\n",
      "30.0 0.4  : category 14\n",
      "30.0 0.5  : category 15\n"
     ]
    }
   ],
   "source": [
    "s = np.where((train_Y[:,0] == 25.) & (train_Y[:,1] == 0.3))\n",
    "\n",
    "Data_split = [] # split the data into categories, to create the library.\n",
    "\n",
    "i = 0\n",
    "\n",
    "for b in boa:\n",
    "    for f in freq:\n",
    "        s = np.where((train_Y[:,0] == b) & (train_Y[:,1] == f))\n",
    "        if s[0].shape[0] == 0:\n",
    "            print(b, f)\n",
    "            break\n",
    "        print(b,f, ' : category', i)\n",
    "        i += 1\n",
    "        Data_split.append(train_X[s])"
   ]
  },
  {
   "cell_type": "code",
   "execution_count": 7,
   "id": "417f3e1c",
   "metadata": {},
   "outputs": [
    {
     "name": "stdout",
     "output_type": "stream",
     "text": [
      "277  277  284  280  269  286  280  275  705  705  698  702  713  696  702  707  "
     ]
    }
   ],
   "source": [
    "for i in range(16):\n",
    "    print(len(Data_split[i]), end = '  ')\n",
    "    \n",
    "# Maximum possible value for rPODeach = 269."
   ]
  },
  {
   "cell_type": "code",
   "execution_count": 8,
   "id": "78c30a45",
   "metadata": {},
   "outputs": [],
   "source": [
    "rPODeach = 25\n",
    "# rPODeach = 10 makes the optimization infeasible. -> adjusted to 23 : infeasible (It initially worked but broke)\n",
    "# Adjusting rPODeach to 100 -> The solver Failed\n",
    "# Adjusting to 50 -> The solver failed\n",
    "# Adjusting to 40 -> solver failed\n",
    "# Adjusting to 30 -> solver failed\n",
    "# Adjusting to 25 -> no solution\n",
    "\n",
    "Library = np.empty((40000,0))\n",
    "\n",
    "for cat in range(16):\n",
    "    DataVecsTrain = np.zeros((40000, len(Data_split[cat])))\n",
    "\n",
    "    for i, d in enumerate(Data_split[cat]):\n",
    "        DataVecsTrain[:,i] = d.reshape(-1)\n",
    "        \n",
    "    U, S, Vt = np.linalg.svd(DataVecsTrain, full_matrices = False)\n",
    "    Library = np.column_stack((Library, U[:,:rPODeach]))"
   ]
  },
  {
   "cell_type": "markdown",
   "id": "ae2dca27",
   "metadata": {},
   "source": [
    "## Test for the data used in training, it should have high accracy"
   ]
  },
  {
   "cell_type": "code",
   "execution_count": 9,
   "id": "2e63efc4",
   "metadata": {},
   "outputs": [
    {
     "name": "stdout",
     "output_type": "stream",
     "text": [
      "[30.   0.5]\n"
     ]
    }
   ],
   "source": [
    "idx = 0\n",
    "X = train_X[idx].reshape(-1)\n",
    "Y = train_Y[idx]\n",
    "\n",
    "# at idx = 0, category = 15\n",
    "print(Y)"
   ]
  },
  {
   "cell_type": "code",
   "execution_count": 10,
   "id": "65996238",
   "metadata": {
    "scrolled": true
   },
   "outputs": [],
   "source": [
    "nModesSparse = 2*8*rPODeach\n",
    "\n",
    "s = cp.Variable(nModesSparse)\n",
    "objective = cp.Minimize(cp.norm(s, 1))\n",
    "constraints = [cp.norm(Library @ s - X, 2) <= 0.0001]\n",
    "prob = cp.Problem(objective, constraints)\n",
    "# prob.solve(solver = 'ECOS', verbose = True)\n",
    "prob.solve(solver = cp.MOSEK, verbose = False)\n",
    "# prob.solve(verbose = False)\n",
    "\n",
    "answer = s.value"
   ]
  },
  {
   "cell_type": "code",
   "execution_count": 11,
   "id": "d904dcec",
   "metadata": {},
   "outputs": [
    {
     "name": "stdout",
     "output_type": "stream",
     "text": [
      "None\n"
     ]
    }
   ],
   "source": [
    "print(answer) # No solution ..."
   ]
  },
  {
   "cell_type": "markdown",
   "id": "708593de",
   "metadata": {},
   "source": [
    " - Using all 200x200 doesn't work. Maybe the problem too complicated for the optimizer to solve?"
   ]
  },
  {
   "cell_type": "markdown",
   "id": "0719d10d",
   "metadata": {},
   "source": [
    "# Try for one fifteenth ratio, so optimizers hopefully can solve it"
   ]
  },
  {
   "cell_type": "code",
   "execution_count": 12,
   "id": "c158f5e6",
   "metadata": {},
   "outputs": [],
   "source": [
    "train_X = np.load(\"/Volumes/KleeFD/dataset/window_normalized/Window Size/one fifteenth/train_X.npy\")\n",
    "train_Y = np.load(\"/Volumes/KleeFD/dataset/window_normalized/Window Size/one fifteenth/train_Y.npy\")\n",
    "\n",
    "true_label = np.zeros((len(train_Y), 1), dtype = '<U10')\n",
    "for i in range(len(train_Y)):\n",
    "    true_label[i] = (str(train_Y[i,0])+', '+ str(train_Y[i, 1]))"
   ]
  },
  {
   "cell_type": "code",
   "execution_count": 13,
   "id": "b440b615",
   "metadata": {},
   "outputs": [
    {
     "name": "stdout",
     "output_type": "stream",
     "text": [
      "25.0 0.05  : category 0\n",
      "25.0 0.1  : category 1\n",
      "25.0 0.2  : category 2\n",
      "25.0 0.25  : category 3\n",
      "25.0 0.3  : category 4\n",
      "25.0 0.35  : category 5\n",
      "25.0 0.4  : category 6\n",
      "25.0 0.5  : category 7\n",
      "30.0 0.05  : category 8\n",
      "30.0 0.1  : category 9\n",
      "30.0 0.2  : category 10\n",
      "30.0 0.25  : category 11\n",
      "30.0 0.3  : category 12\n",
      "30.0 0.35  : category 13\n",
      "30.0 0.4  : category 14\n",
      "30.0 0.5  : category 15\n"
     ]
    }
   ],
   "source": [
    "boa = [25., 30.]\n",
    "freq = [0.05, 0.1, 0.2, 0.25, 0.3, 0.35, 0.4, 0.5]\n",
    "\n",
    "s = np.where((train_Y[:,0] == 25.) & (train_Y[:,1] == 0.3))\n",
    "\n",
    "Data_split = [] # split the data into categories, to create the library.\n",
    "\n",
    "i = 0\n",
    "\n",
    "\n",
    "for b in boa:\n",
    "    for f in freq:\n",
    "        s = np.where((train_Y[:,0] == b) & (train_Y[:,1] == f))\n",
    "        if s[0].shape[0] == 0:\n",
    "            print(b, f)\n",
    "            break\n",
    "        print(b,f, ' : category', i)\n",
    "        i += 1\n",
    "        Data_split.append(train_X[s])"
   ]
  },
  {
   "cell_type": "code",
   "execution_count": 14,
   "id": "4d8ba090",
   "metadata": {},
   "outputs": [],
   "source": [
    "rPODeach = 10 # rPODeach = 10 is feasible for 1/15 ratio.\n",
    "\n",
    "Library = np.empty((1600,0))\n",
    "\n",
    "for cat in range(16):\n",
    "    DataVecsTrain = np.zeros((1600, len(Data_split[cat])))\n",
    "\n",
    "    for i, d in enumerate(Data_split[cat]):\n",
    "        DataVecsTrain[:,i] = d.reshape(-1)\n",
    "        \n",
    "    U, S, Vt = np.linalg.svd(DataVecsTrain, full_matrices = False)\n",
    "    Library = np.column_stack((Library, U[:,:rPODeach]))"
   ]
  },
  {
   "cell_type": "code",
   "execution_count": 15,
   "id": "e518a09d",
   "metadata": {
    "scrolled": true
   },
   "outputs": [],
   "source": [
    "nModesSparse = 2*8*rPODeach\n",
    "\n",
    "answers = []\n",
    "\n",
    "testing_number = 100 # takes too long to test for every case. testing for only 100 cases\n",
    "\n",
    "for i in range(testing_number):\n",
    "    s = cp.Variable(nModesSparse)\n",
    "    objective = cp.Minimize(cp.norm(s, 1))\n",
    "    constraints = [cp.norm(Library @ s - train_X[i].reshape(-1), 2) <= 0.0001]\n",
    "    prob = cp.Problem(objective, constraints)\n",
    "    # prob.solve(solver = 'ECOS', verbose = True)\n",
    "    prob.solve(solver = cp.MOSEK, verbose = False)\n",
    "    \n",
    "    answers.append(s.value)"
   ]
  },
  {
   "cell_type": "code",
   "execution_count": 16,
   "id": "a6b59a46",
   "metadata": {},
   "outputs": [
    {
     "name": "stdout",
     "output_type": "stream",
     "text": [
      "              precision    recall  f1-score   support\n",
      "\n",
      "  25.0, 0.05       0.00      0.00      0.00         1\n",
      "   25.0, 0.1       1.00      0.33      0.50         3\n",
      "   25.0, 0.2       0.25      0.25      0.25         8\n",
      "  25.0, 0.25       0.00      0.00      0.00         5\n",
      "   25.0, 0.3       0.33      0.33      0.33         3\n",
      "  25.0, 0.35       0.33      0.25      0.29         4\n",
      "   25.0, 0.4       0.50      0.40      0.44         5\n",
      "   25.0, 0.5       0.33      0.67      0.44         3\n",
      "  30.0, 0.05       0.17      0.17      0.17         6\n",
      "   30.0, 0.1       1.00      0.33      0.50         3\n",
      "   30.0, 0.2       0.40      0.53      0.46        15\n",
      "  30.0, 0.25       0.38      0.38      0.38         8\n",
      "   30.0, 0.3       0.33      0.50      0.40         4\n",
      "  30.0, 0.35       0.44      0.22      0.30        18\n",
      "   30.0, 0.4       0.00      0.00      0.00         4\n",
      "   30.0, 0.5       0.50      0.70      0.58        10\n",
      "\n",
      "    accuracy                           0.35       100\n",
      "   macro avg       0.37      0.32      0.31       100\n",
      "weighted avg       0.38      0.35      0.34       100\n",
      "\n"
     ]
    }
   ],
   "source": [
    "# print(answer)\n",
    "predictions = []\n",
    "\n",
    "for answer in answers:\n",
    "    \n",
    "    l2each = []\n",
    "    for i in range(len(answer)):\n",
    "        if i%rPODeach == 0:\n",
    "            l2each.append(sum(abs(answer[i:i + rPODeach])))\n",
    "    l2each = np.array(l2each)\n",
    "    pred = np.argmax(l2each)\n",
    "    predictions.append(categories[pred])\n",
    "\n",
    "# print(\"l2 norms for each categories :\\n\", l2each)\n",
    "# print(\"\\nprediction based on largest norm :\", categories[pred])\n",
    "# print(\"true label :\", Y)\n",
    "\n",
    "print(classification_report(true_label[:testing_number], predictions, zero_division = 0))"
   ]
  },
  {
   "cell_type": "code",
   "execution_count": 17,
   "id": "1d948874",
   "metadata": {},
   "outputs": [
    {
     "name": "stdout",
     "output_type": "stream",
     "text": [
      "Confusion matrix, without normalization\n"
     ]
    },
    {
     "data": {
      "image/png": "[encoded data removed]",
      "text/plain": [
       "<Figure size 720x720 with 1 Axes>"
      ]
     },
     "metadata": {
      "needs_background": "light"
     },
     "output_type": "display_data"
    }
   ],
   "source": [
    "cnf_matrix = confusion_matrix(true_label[:testing_number], predictions)\n",
    "\n",
    "plt.figure(figsize=(10,10))\n",
    "plot_confusion_matrix(cnf_matrix, classes = categories, normalize=False,\n",
    "                      title='Chirp Prediction')\n",
    "plt.show()"
   ]
  },
  {
   "cell_type": "markdown",
   "id": "b37c7577",
   "metadata": {},
   "source": [
    "- Not performing good"
   ]
  },
  {
   "cell_type": "markdown",
   "id": "9393766a",
   "metadata": {},
   "source": [
    "# Try collecting data from random points as in the paper"
   ]
  },
  {
   "cell_type": "code",
   "execution_count": 18,
   "id": "c578127d",
   "metadata": {},
   "outputs": [
    {
     "name": "stdout",
     "output_type": "stream",
     "text": [
      "25.0 0.05  : category 0\n",
      "25.0 0.1  : category 1\n",
      "25.0 0.2  : category 2\n",
      "25.0 0.25  : category 3\n",
      "25.0 0.3  : category 4\n",
      "25.0 0.35  : category 5\n",
      "25.0 0.4  : category 6\n",
      "25.0 0.5  : category 7\n",
      "30.0 0.05  : category 8\n",
      "30.0 0.1  : category 9\n",
      "30.0 0.2  : category 10\n",
      "30.0 0.25  : category 11\n",
      "30.0 0.3  : category 12\n",
      "30.0 0.35  : category 13\n",
      "30.0 0.4  : category 14\n",
      "30.0 0.5  : category 15\n"
     ]
    }
   ],
   "source": [
    "train_X = np.load(\"/Volumes/KleeFD/dataset/window_normalized/Window Size/one thirds/train_X.npy\")\n",
    "train_Y = np.load(\"/Volumes/KleeFD/dataset/window_normalized/Window Size/one thirds/train_Y.npy\")\n",
    "\n",
    "boa = [25., 30.]\n",
    "freq = [0.05, 0.1, 0.2, 0.25, 0.3, 0.35, 0.4, 0.5]\n",
    "\n",
    "s = np.where((train_Y[:,0] == 25.) & (train_Y[:,1] == 0.3))\n",
    "\n",
    "Data_split = [] # split the data into categories, to create the library.\n",
    "\n",
    "i = 0\n",
    "\n",
    "\n",
    "for b in boa:\n",
    "    for f in freq:\n",
    "        s = np.where((train_Y[:,0] == b) & (train_Y[:,1] == f))\n",
    "        if s[0].shape[0] == 0:\n",
    "            print(b, f)\n",
    "            break\n",
    "        print(b,f, ' : category', i)\n",
    "        i += 1\n",
    "        Data_split.append(train_X[s])"
   ]
  },
  {
   "cell_type": "code",
   "execution_count": 19,
   "id": "b20a9b84",
   "metadata": {},
   "outputs": [
    {
     "name": "stdout",
     "output_type": "stream",
     "text": [
      "[27833 30918 22598 24337 23382 37535 25275 37177 22370 28545 34176 23079\n",
      " 37632 26004 27427 34006 21682 34706 32011 27602 33871 38790 29575 29381\n",
      " 39856 29787 36374 20061 32954 24991 37388 38859 27890 22730 24957 32725\n",
      " 29678 21073 27845 31772]\n"
     ]
    }
   ],
   "source": [
    "# Generate random indices to collect data\n",
    "\n",
    "nPoints = 40\n",
    "\n",
    "rand_idx = np.random.randint(20000, high= 40000, size= nPoints, dtype=int)\n",
    "\n",
    "print(rand_idx)"
   ]
  },
  {
   "cell_type": "code",
   "execution_count": 20,
   "id": "3d037c38",
   "metadata": {},
   "outputs": [
    {
     "data": {
      "image/png": "[encoded data removed]",
      "text/plain": [
       "<Figure size 432x288 with 1 Axes>"
      ]
     },
     "metadata": {
      "needs_background": "light"
     },
     "output_type": "display_data"
    }
   ],
   "source": [
    "# Visualize the random points\n",
    "\n",
    "plt.imshow(train_X[0][100:, :])\n",
    "\n",
    "x = (train_X[0].reshape(-1))[rand_idx]\n",
    "\n",
    "for i in range(nPoints):\n",
    "    where = np.where(train_X[0][100:, :] == x[i])\n",
    "    # print(train_X[0,where[0],where[1]], x[i])\n",
    "    plt.scatter(where[1], where[0], c = 'r', marker = 'x')"
   ]
  },
  {
   "cell_type": "code",
   "execution_count": 21,
   "id": "481b5fd1",
   "metadata": {},
   "outputs": [],
   "source": [
    "rPODeach = 10 \n",
    "\n",
    "Library = np.empty((nPoints,0))\n",
    "\n",
    "for cat in range(16):\n",
    "    DataVecsTrain = np.zeros((nPoints, len(Data_split[cat])))\n",
    "\n",
    "    for i, d in enumerate(Data_split[cat]):\n",
    "        DataVecsTrain[:,i] = (d.reshape(-1))[rand_idx]\n",
    "        \n",
    "    U, S, Vt = np.linalg.svd(DataVecsTrain, full_matrices = False)\n",
    "    Library = np.column_stack((Library, U[:,:rPODeach]))"
   ]
  },
  {
   "cell_type": "code",
   "execution_count": 22,
   "id": "68ad32d2",
   "metadata": {},
   "outputs": [],
   "source": [
    "nModesSparse = 2*8*rPODeach\n",
    "\n",
    "answers = []\n",
    "\n",
    "testing_number = 200 # takes too long to test for every case. testing for only 200 cases\n",
    "\n",
    "for i in range(testing_number):\n",
    "    s = cp.Variable(nModesSparse)\n",
    "    objective = cp.Minimize(cp.norm(s, 1))\n",
    "    constraints = [cp.norm(Library @ s - (train_X[i].reshape(-1))[rand_idx], 2) <= 0.0001]\n",
    "    prob = cp.Problem(objective, constraints)\n",
    "    # prob.solve(solver = 'ECOS', verbose = True)\n",
    "    prob.solve(solver = cp.MOSEK, verbose = False)\n",
    "    \n",
    "    answers.append(s.value)"
   ]
  },
  {
   "cell_type": "code",
   "execution_count": 23,
   "id": "4d1de204",
   "metadata": {},
   "outputs": [
    {
     "name": "stdout",
     "output_type": "stream",
     "text": [
      "              precision    recall  f1-score   support\n",
      "\n",
      "  25.0, 0.05       1.00      0.33      0.50         3\n",
      "   25.0, 0.1       0.75      1.00      0.86         6\n",
      "   25.0, 0.2       0.43      0.83      0.57        12\n",
      "  25.0, 0.25       0.83      0.62      0.71         8\n",
      "   25.0, 0.3       0.09      0.25      0.13         4\n",
      "  25.0, 0.35       0.82      1.00      0.90         9\n",
      "   25.0, 0.4       1.00      1.00      1.00        10\n",
      "   25.0, 0.5       0.71      1.00      0.83         5\n",
      "  30.0, 0.05       0.00      0.00      0.00        10\n",
      "   30.0, 0.1       0.25      0.07      0.11        15\n",
      "   30.0, 0.2       0.83      0.89      0.86        27\n",
      "  30.0, 0.25       0.81      0.68      0.74        19\n",
      "   30.0, 0.3       0.60      0.82      0.69        11\n",
      "  30.0, 0.35       0.62      0.57      0.59        28\n",
      "   30.0, 0.4       0.38      0.21      0.27        14\n",
      "   30.0, 0.5       0.76      1.00      0.86        19\n",
      "\n",
      "    accuracy                           0.66       200\n",
      "   macro avg       0.62      0.64      0.60       200\n",
      "weighted avg       0.63      0.66      0.63       200\n",
      "\n"
     ]
    }
   ],
   "source": [
    "# print(answer)\n",
    "predictions = []\n",
    "\n",
    "for answer in answers:\n",
    "    \n",
    "    l2each = []\n",
    "    for i in range(len(answer)):\n",
    "        if i%rPODeach == 0:\n",
    "            l2each.append(sum(abs(answer[i:i + rPODeach])))\n",
    "    l2each = np.array(l2each)\n",
    "    pred = np.argmax(l2each)\n",
    "    predictions.append(categories[pred])\n",
    "\n",
    "# print(\"l2 norms for each categories :\\n\", l2each)\n",
    "# print(\"\\nprediction based on largest norm :\", categories[pred])\n",
    "# print(\"true label :\", Y)\n",
    "\n",
    "print(classification_report(true_label[:testing_number], predictions, zero_division = 0))"
   ]
  },
  {
   "cell_type": "code",
   "execution_count": 24,
   "id": "e7f82903",
   "metadata": {},
   "outputs": [
    {
     "name": "stdout",
     "output_type": "stream",
     "text": [
      "Confusion matrix, without normalization\n"
     ]
    },
    {
     "data": {
      "image/png": "[encoded data removed]",
      "text/plain": [
       "<Figure size 720x720 with 1 Axes>"
      ]
     },
     "metadata": {
      "needs_background": "light"
     },
     "output_type": "display_data"
    }
   ],
   "source": [
    "cnf_matrix = confusion_matrix(true_label[:testing_number], predictions)\n",
    "\n",
    "plt.figure(figsize=(10,10))\n",
    "plot_confusion_matrix(cnf_matrix, classes = categories, normalize=False,\n",
    "                      title='Chirp Prediction')\n",
    "plt.show()"
   ]
  },
  {
   "cell_type": "markdown",
   "id": "ec16fb27",
   "metadata": {},
   "source": [
    "- It works in similar performance as the paper..."
   ]
  }
 ],
 "metadata": {
  "kernelspec": {
   "display_name": "tf_metal",
   "language": "python",
   "name": "tf25"
  },
  "language_info": {
   "codemirror_mode": {
    "name": "ipython",
    "version": 3
   },
   "file_extension": ".py",
   "mimetype": "text/x-python",
   "name": "python",
   "nbconvert_exporter": "python",
   "pygments_lexer": "ipython3",
   "version": "3.8.16"
  }
 },
 "nbformat": 4,
 "nbformat_minor": 5
}

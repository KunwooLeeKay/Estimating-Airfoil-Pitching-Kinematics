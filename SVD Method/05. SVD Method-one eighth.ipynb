{
 "cells": [
  {
   "cell_type": "code",
   "execution_count": 11,
   "id": "8848fdd2",
   "metadata": {},
   "outputs": [],
   "source": [
    "import cvxpy as cp\n",
    "import numpy as np\n",
    "import matplotlib.pyplot as plt\n",
    "from collections import Counter\n",
    "from sklearn.metrics import classification_report, confusion_matrix\n",
    "import time\n",
    "import pickle"
   ]
  },
  {
   "cell_type": "code",
   "execution_count": 2,
   "id": "46f31e40",
   "metadata": {},
   "outputs": [],
   "source": [
    "np.set_printoptions(precision=4)"
   ]
  },
  {
   "cell_type": "code",
   "execution_count": 3,
   "id": "6afa7e73",
   "metadata": {},
   "outputs": [],
   "source": [
    "import itertools\n",
    "def plot_confusion_matrix(cm, classes,\n",
    "                          normalize=False,\n",
    "                          title='Confusion matrix',\n",
    "                          cmap=plt.cm.Blues, cbar = False):\n",
    "    \"\"\"\n",
    "    This function prints and plots the confusion matrix.\n",
    "    Normalization can be applied by setting `normalize=True`.\n",
    "    \"\"\"\n",
    "    if normalize:\n",
    "        cm = cm.astype('float') / cm.sum(axis=1)[:, np.newaxis]\n",
    "        print(\"Normalized confusion matrix\")\n",
    "    else:\n",
    "        print('Confusion matrix, without normalization')\n",
    "\n",
    "    plt.imshow(cm, interpolation='nearest', cmap=cmap)\n",
    "    plt.title(title)\n",
    "    if cbar == True:\n",
    "        plt.colorbar()\n",
    "    tick_marks = np.arange(len(classes))\n",
    "    plt.xticks(tick_marks, classes, rotation=45)\n",
    "    plt.yticks(tick_marks, classes)\n",
    "\n",
    "    fmt = '.2f' if normalize else 'd'\n",
    "    thresh = cm.max() / 2.\n",
    "    for i, j in itertools.product(range(cm.shape[0]), range(cm.shape[1])):\n",
    "        plt.text(j, i, format(cm[i, j], fmt),\n",
    "                 horizontalalignment=\"center\",\n",
    "                 color=\"white\" if cm[i, j] > thresh else \"black\")\n",
    "\n",
    "    plt.tight_layout()\n",
    "    plt.ylabel('True label')\n",
    "    plt.xlabel('Predicted label')"
   ]
  },
  {
   "cell_type": "markdown",
   "id": "0719d10d",
   "metadata": {},
   "source": [
    "# One Eighth Ratio"
   ]
  },
  {
   "cell_type": "code",
   "execution_count": 4,
   "id": "0bedcd19",
   "metadata": {},
   "outputs": [],
   "source": [
    "boa = [25., 30.]\n",
    "freq = [0.05, 0.1, 0.2, 0.25, 0.3, 0.35, 0.4, 0.5]\n",
    "\n",
    "categories = {}\n",
    "\n",
    "i = 0\n",
    "for b in boa:\n",
    "    for f in freq:\n",
    "        categories[i] = str(b) + ', ' + str(f)\n",
    "        i+=1"
   ]
  },
  {
   "cell_type": "code",
   "execution_count": 5,
   "id": "c158f5e6",
   "metadata": {},
   "outputs": [],
   "source": [
    "train_X = np.load(\"/Volumes/KleeFD/dataset/window_normalized/Window Size/one eighth/train_X.npy\")\n",
    "train_Y = np.load(\"/Volumes/KleeFD/dataset/window_normalized/Window Size/one eighth/train_Y.npy\")\n",
    "\n",
    "ratio = '1/8'\n",
    "size = 76 * 76\n",
    "rPODeach = 10\n",
    "\n",
    "\n",
    "s = np.where((train_Y[:,0] == 25.) & (train_Y[:,1] == 0.3))\n",
    "\n",
    "Data_split = [] # split the data into categories, to create the library.\n",
    "\n",
    "i = 0\n",
    "\n",
    "\n",
    "for b in boa:\n",
    "    for f in freq:\n",
    "        s = np.where((train_Y[:,0] == b) & (train_Y[:,1] == f))\n",
    "        if s[0].shape[0] == 0:\n",
    "            print(b, f)\n",
    "            break\n",
    "        # print(b,f, ' : category', i)\n",
    "        i += 1\n",
    "        Data_split.append(train_X[s])\n",
    "        \n",
    "\n",
    "Library = np.empty((size,0))\n",
    "\n",
    "for cat in range(16):\n",
    "    DataVecsTrain = np.zeros((size, len(Data_split[cat])))\n",
    "\n",
    "    for i, d in enumerate(Data_split[cat]):\n",
    "        DataVecsTrain[:,i] = d.reshape(-1)\n",
    "        \n",
    "    U, S, Vt = np.linalg.svd(DataVecsTrain, full_matrices = False)\n",
    "    Library = np.column_stack((Library, U[:,:rPODeach]))"
   ]
  },
  {
   "cell_type": "code",
   "execution_count": 6,
   "id": "c24e8158",
   "metadata": {},
   "outputs": [],
   "source": [
    "# Load Testing Data\n",
    "\n",
    "test_X = np.load(\"/Volumes/KleeFD/dataset/window_normalized/Window Size/one eighth/test_X.npy\")\n",
    "test_Y = np.load(\"/Volumes/KleeFD/dataset/window_normalized/Window Size/one eighth/test_Y.npy\")\n",
    "\n",
    "true_label = np.zeros((len(test_Y), 1), dtype = '<U10')\n",
    "for i in range(len(test_Y)):\n",
    "    true_label[i] = (str(test_Y[i,0])+', '+ str(test_Y[i, 1]))"
   ]
  },
  {
   "cell_type": "code",
   "execution_count": 7,
   "id": "04c2e11e",
   "metadata": {},
   "outputs": [
    {
     "name": "stdout",
     "output_type": "stream",
     "text": [
      "Time spent: 751.290666103363 seconds\n"
     ]
    }
   ],
   "source": [
    "# Solve\n",
    "\n",
    "# Record the start time\n",
    "start_time = time.time()\n",
    "\n",
    "nModesSparse = 2*8*rPODeach\n",
    "\n",
    "answers = []\n",
    "\n",
    "testing_number = len(test_Y) # takes too long to test for every case. testing for only 100 cases\n",
    "\n",
    "# Make input image parameter, to solve problem without initializing problem everytime\n",
    "X = cp.Parameter((size))\n",
    "s = cp.Variable(nModesSparse)\n",
    "objective = cp.Minimize(cp.norm(s, 1) + 100*cp.norm(Library @ s - X, 2))\n",
    "prob = cp.Problem(objective)\n",
    "\n",
    "\n",
    "for i in range(testing_number):\n",
    "    \n",
    "    X.value = test_X[i].reshape(-1)\n",
    "    prob.solve(solver = cp.MOSEK, verbose = False)\n",
    "    \n",
    "    answers.append(s.value)\n",
    "    \n",
    "# Record the end time\n",
    "end_time = time.time()\n",
    "\n",
    "# Calculate the time spent\n",
    "execution_time = end_time - start_time\n",
    "\n",
    "# Print the execution time\n",
    "print(f\"Time spent: {execution_time} seconds\")"
   ]
  },
  {
   "cell_type": "code",
   "execution_count": 8,
   "id": "a6b59a46",
   "metadata": {},
   "outputs": [
    {
     "name": "stdout",
     "output_type": "stream",
     "text": [
      "              precision    recall  f1-score   support\n",
      "\n",
      "  25.0, 0.05       0.69      0.61      0.65        56\n",
      "   25.0, 0.1       0.50      0.79      0.61        56\n",
      "   25.0, 0.2       0.31      0.60      0.41        52\n",
      "  25.0, 0.25       0.11      0.21      0.15        52\n",
      "   25.0, 0.3       0.47      0.51      0.49        55\n",
      "  25.0, 0.35       0.60      0.98      0.75        56\n",
      "   25.0, 0.4       0.98      0.96      0.97        67\n",
      "   25.0, 0.5       0.88      1.00      0.93        57\n",
      "  30.0, 0.05       0.30      0.18      0.22       154\n",
      "   30.0, 0.1       0.35      0.29      0.31       154\n",
      "   30.0, 0.2       0.44      0.63      0.52       158\n",
      "  30.0, 0.25       0.68      0.49      0.57       158\n",
      "   30.0, 0.3       0.72      0.63      0.67       155\n",
      "  30.0, 0.35       0.29      0.29      0.29       154\n",
      "   30.0, 0.4       0.71      0.12      0.20       143\n",
      "   30.0, 0.5       0.65      0.83      0.73       153\n",
      "\n",
      "    accuracy                           0.51      1680\n",
      "   macro avg       0.54      0.57      0.53      1680\n",
      "weighted avg       0.53      0.51      0.49      1680\n",
      "\n"
     ]
    }
   ],
   "source": [
    "# print(answer)\n",
    "predictions = []\n",
    "\n",
    "for answer in answers:\n",
    "    \n",
    "    l2each = []\n",
    "    for i in range(len(answer)):\n",
    "        if i%rPODeach == 0:\n",
    "            l2each.append(sum(abs(answer[i:i + rPODeach])))\n",
    "    l2each = np.array(l2each)\n",
    "    pred = np.argmax(l2each)\n",
    "    predictions.append(categories[pred])\n",
    "\n",
    "c_report = classification_report(true_label[:testing_number], predictions, zero_division = 0)    \n",
    "print(c_report)"
   ]
  },
  {
   "cell_type": "code",
   "execution_count": 9,
   "id": "1d948874",
   "metadata": {},
   "outputs": [
    {
     "name": "stdout",
     "output_type": "stream",
     "text": [
      "Confusion matrix, without normalization\n"
     ]
    },
    {
     "data": {
      "image/png": "[encoded data removed]",
      "text/plain": [
       "<Figure size 720x720 with 1 Axes>"
      ]
     },
     "metadata": {
      "needs_background": "light"
     },
     "output_type": "display_data"
    }
   ],
   "source": [
    "cnf_matrix = confusion_matrix(true_label[:testing_number], predictions)\n",
    "\n",
    "plt.figure(figsize=(10,10))\n",
    "plot_confusion_matrix(cnf_matrix, classes = categories, normalize=False,\n",
    "                      title=ratio + ' Prediction')\n",
    "plt.show()"
   ]
  },
  {
   "cell_type": "code",
   "execution_count": 12,
   "id": "db06f030",
   "metadata": {},
   "outputs": [],
   "source": [
    "save_path = '/Users/kunwoosmac/Library/Mobile Documents/com~apple~CloudDocs/Mac/Armour R&D/SVD reconstruction/6. one eighth/'\n",
    "\n",
    "with open(save_path + 'pred.pickle', 'wb') as file:\n",
    "    pickle.dump(predictions, file)\n",
    "    \n",
    "with open(save_path + 'true.pickle', 'wb') as file:\n",
    "    pickle.dump(true_label, file)\n",
    "    \n",
    "with open(save_path + 'cnfmatrix.pickle', 'wb') as file:\n",
    "    pickle.dump(cnf_matrix, file)\n",
    "    \n",
    "with open(save_path + 'creport.pickle', 'wb') as file:\n",
    "    pickle.dump(c_report, file)\n",
    "    \n",
    "with open(save_path + 'time.pickle', 'wb') as file:\n",
    "    pickle.dump(execution_time, file)"
   ]
  },
  {
   "cell_type": "code",
   "execution_count": null,
   "id": "e6848a7e",
   "metadata": {},
   "outputs": [],
   "source": []
  }
 ],
 "metadata": {
  "kernelspec": {
   "display_name": "tf_metal",
   "language": "python",
   "name": "tf25"
  },
  "language_info": {
   "codemirror_mode": {
    "name": "ipython",
    "version": 3
   },
   "file_extension": ".py",
   "mimetype": "text/x-python",
   "name": "python",
   "nbconvert_exporter": "python",
   "pygments_lexer": "ipython3",
   "version": "3.8.16"
  }
 },
 "nbformat": 4,
 "nbformat_minor": 5
}

{
 "cells": [
  {
   "cell_type": "code",
   "execution_count": 1,
   "id": "8848fdd2",
   "metadata": {},
   "outputs": [],
   "source": [
    "import cvxpy as cp\n",
    "import numpy as np\n",
    "import matplotlib.pyplot as plt\n",
    "from collections import Counter\n",
    "from sklearn.metrics import classification_report, confusion_matrix"
   ]
  },
  {
   "cell_type": "code",
   "execution_count": 2,
   "id": "46f31e40",
   "metadata": {},
   "outputs": [],
   "source": [
    "np.set_printoptions(precision=4)"
   ]
  },
  {
   "cell_type": "code",
   "execution_count": 3,
   "id": "6afa7e73",
   "metadata": {},
   "outputs": [],
   "source": [
    "import itertools\n",
    "def plot_confusion_matrix(cm, classes,\n",
    "                          normalize=False,\n",
    "                          title='Confusion matrix',\n",
    "                          cmap=plt.cm.Blues, cbar = False):\n",
    "    \"\"\"\n",
    "    This function prints and plots the confusion matrix.\n",
    "    Normalization can be applied by setting `normalize=True`.\n",
    "    \"\"\"\n",
    "    if normalize:\n",
    "        cm = cm.astype('float') / cm.sum(axis=1)[:, np.newaxis]\n",
    "        print(\"Normalized confusion matrix\")\n",
    "    else:\n",
    "        print('Confusion matrix, without normalization')\n",
    "\n",
    "    plt.imshow(cm, interpolation='nearest', cmap=cmap)\n",
    "    plt.title(title)\n",
    "    if cbar == True:\n",
    "        plt.colorbar()\n",
    "    tick_marks = np.arange(len(classes))\n",
    "    plt.xticks(tick_marks, classes, rotation=45)\n",
    "    plt.yticks(tick_marks, classes)\n",
    "\n",
    "    fmt = '.2f' if normalize else 'd'\n",
    "    thresh = cm.max() / 2.\n",
    "    for i, j in itertools.product(range(cm.shape[0]), range(cm.shape[1])):\n",
    "        plt.text(j, i, format(cm[i, j], fmt),\n",
    "                 horizontalalignment=\"center\",\n",
    "                 color=\"white\" if cm[i, j] > thresh else \"black\")\n",
    "\n",
    "    plt.tight_layout()\n",
    "    plt.ylabel('True label')\n",
    "    plt.xlabel('Predicted label')"
   ]
  },
  {
   "cell_type": "markdown",
   "id": "0719d10d",
   "metadata": {},
   "source": [
    "# Try for one thirds ratio, but with softer constraint"
   ]
  },
  {
   "cell_type": "code",
   "execution_count": 15,
   "id": "c158f5e6",
   "metadata": {},
   "outputs": [],
   "source": [
    "train_X = np.load(\"/Volumes/KleeFD/dataset/window_normalized/Window Size/one thirds/train_X.npy\")\n",
    "train_Y = np.load(\"/Volumes/KleeFD/dataset/window_normalized/Window Size/one thirds/train_Y.npy\")\n",
    "\n",
    "true_label = np.zeros((len(train_Y), 1), dtype = '<U10')\n",
    "for i in range(len(train_Y)):\n",
    "    true_label[i] = (str(train_Y[i,0])+', '+ str(train_Y[i, 1]))"
   ]
  },
  {
   "cell_type": "code",
   "execution_count": 16,
   "id": "b440b615",
   "metadata": {},
   "outputs": [
    {
     "name": "stdout",
     "output_type": "stream",
     "text": [
      "25.0 0.05  : category 0\n",
      "25.0 0.1  : category 1\n",
      "25.0 0.2  : category 2\n",
      "25.0 0.25  : category 3\n",
      "25.0 0.3  : category 4\n",
      "25.0 0.35  : category 5\n",
      "25.0 0.4  : category 6\n",
      "25.0 0.5  : category 7\n",
      "30.0 0.05  : category 8\n",
      "30.0 0.1  : category 9\n",
      "30.0 0.2  : category 10\n",
      "30.0 0.25  : category 11\n",
      "30.0 0.3  : category 12\n",
      "30.0 0.35  : category 13\n",
      "30.0 0.4  : category 14\n",
      "30.0 0.5  : category 15\n"
     ]
    }
   ],
   "source": [
    "boa = [25., 30.]\n",
    "freq = [0.05, 0.1, 0.2, 0.25, 0.3, 0.35, 0.4, 0.5]\n",
    "\n",
    "s = np.where((train_Y[:,0] == 25.) & (train_Y[:,1] == 0.3))\n",
    "\n",
    "Data_split = [] # split the data into categories, to create the library.\n",
    "\n",
    "i = 0\n",
    "\n",
    "\n",
    "for b in boa:\n",
    "    for f in freq:\n",
    "        s = np.where((train_Y[:,0] == b) & (train_Y[:,1] == f))\n",
    "        if s[0].shape[0] == 0:\n",
    "            print(b, f)\n",
    "            break\n",
    "        print(b,f, ' : category', i)\n",
    "        i += 1\n",
    "        Data_split.append(train_X[s])"
   ]
  },
  {
   "cell_type": "code",
   "execution_count": 17,
   "id": "4d8ba090",
   "metadata": {},
   "outputs": [],
   "source": [
    "rPODeach = 10 # rPODeach = 10 is feasible for 1/15 ratio.\n",
    "\n",
    "size = 40000\n",
    "\n",
    "Library = np.empty((size,0))\n",
    "\n",
    "for cat in range(16):\n",
    "    DataVecsTrain = np.zeros((size, len(Data_split[cat])))\n",
    "\n",
    "    for i, d in enumerate(Data_split[cat]):\n",
    "        DataVecsTrain[:,i] = d.reshape(-1)\n",
    "        \n",
    "    U, S, Vt = np.linalg.svd(DataVecsTrain, full_matrices = False)\n",
    "    Library = np.column_stack((Library, U[:,:rPODeach]))"
   ]
  },
  {
   "cell_type": "code",
   "execution_count": 22,
   "id": "e518a09d",
   "metadata": {
    "scrolled": true
   },
   "outputs": [],
   "source": [
    "nModesSparse = 2*8*rPODeach\n",
    "\n",
    "answers = []\n",
    "\n",
    "testing_number = 100 # takes too long to test for every case. testing for only 100 cases\n",
    "\n",
    "for i in range(testing_number):\n",
    "    s = cp.Variable(nModesSparse)\n",
    "    objective = cp.Minimize(cp.norm(s, 1) + 100*cp.norm(Library @ s - train_X[i].reshape(-1), 2))\n",
    "    prob = cp.Problem(objective)\n",
    "    # prob.solve(solver = 'ECOS', verbose = True)\n",
    "    prob.solve(solver = cp.MOSEK, verbose = False)\n",
    "    \n",
    "    answers.append(s.value)"
   ]
  },
  {
   "cell_type": "code",
   "execution_count": 23,
   "id": "a6b59a46",
   "metadata": {},
   "outputs": [
    {
     "name": "stdout",
     "output_type": "stream",
     "text": [
      "              precision    recall  f1-score   support\n",
      "\n",
      "  25.0, 0.05       1.00      1.00      1.00         1\n",
      "   25.0, 0.1       1.00      1.00      1.00         3\n",
      "   25.0, 0.2       1.00      1.00      1.00         8\n",
      "  25.0, 0.25       0.83      1.00      0.91         5\n",
      "   25.0, 0.3       1.00      1.00      1.00         3\n",
      "  25.0, 0.35       1.00      1.00      1.00         4\n",
      "   25.0, 0.4       1.00      1.00      1.00         5\n",
      "   25.0, 0.5       1.00      1.00      1.00         3\n",
      "  30.0, 0.05       1.00      0.33      0.50         6\n",
      "   30.0, 0.1       0.67      0.67      0.67         3\n",
      "   30.0, 0.2       1.00      1.00      1.00        15\n",
      "  30.0, 0.25       1.00      1.00      1.00         8\n",
      "   30.0, 0.3       1.00      1.00      1.00         4\n",
      "  30.0, 0.35       0.80      0.89      0.84        18\n",
      "   30.0, 0.4       0.75      0.75      0.75         4\n",
      "   30.0, 0.5       0.91      1.00      0.95        10\n",
      "\n",
      "    accuracy                           0.92       100\n",
      "   macro avg       0.93      0.91      0.91       100\n",
      "weighted avg       0.93      0.92      0.91       100\n",
      "\n"
     ]
    }
   ],
   "source": [
    "# print(answer)\n",
    "predictions = []\n",
    "\n",
    "for answer in answers:\n",
    "    \n",
    "    l2each = []\n",
    "    for i in range(len(answer)):\n",
    "        if i%rPODeach == 0:\n",
    "            l2each.append(sum(abs(answer[i:i + rPODeach])))\n",
    "    l2each = np.array(l2each)\n",
    "    pred = np.argmax(l2each)\n",
    "    predictions.append(categories[pred])\n",
    "\n",
    "# print(\"l2 norms for each categories :\\n\", l2each)\n",
    "# print(\"\\nprediction based on largest norm :\", categories[pred])\n",
    "# print(\"true label :\", Y)\n",
    "\n",
    "print(classification_report(true_label[:testing_number], predictions, zero_division = 0))"
   ]
  },
  {
   "cell_type": "code",
   "execution_count": 25,
   "id": "1d948874",
   "metadata": {},
   "outputs": [
    {
     "name": "stdout",
     "output_type": "stream",
     "text": [
      "Confusion matrix, without normalization\n"
     ]
    },
    {
     "data": {
      "image/png": "[encoded data removed]",
      "text/plain": [
       "<Figure size 720x720 with 1 Axes>"
      ]
     },
     "metadata": {
      "needs_background": "light"
     },
     "output_type": "display_data"
    }
   ],
   "source": [
    "cnf_matrix = confusion_matrix(true_label[:testing_number], predictions)\n",
    "\n",
    "plt.figure(figsize=(10,10))\n",
    "plot_confusion_matrix(cnf_matrix, classes = categories, normalize=False,\n",
    "                      title='1/3 Train Data Prediction')\n",
    "plt.show()"
   ]
  },
  {
   "cell_type": "markdown",
   "id": "95ef6e69",
   "metadata": {},
   "source": [
    "## Try on Test Data"
   ]
  },
  {
   "cell_type": "code",
   "execution_count": 26,
   "id": "628699f0",
   "metadata": {},
   "outputs": [],
   "source": [
    "train_X = np.load(\"/Volumes/KleeFD/dataset/window_normalized/Window Size/one thirds/test_X.npy\")\n",
    "train_Y = np.load(\"/Volumes/KleeFD/dataset/window_normalized/Window Size/one thirds/test_Y.npy\")\n",
    "\n",
    "true_label = np.zeros((len(train_Y), 1), dtype = '<U10')\n",
    "for i in range(len(train_Y)):\n",
    "    true_label[i] = (str(train_Y[i,0])+', '+ str(train_Y[i, 1]))"
   ]
  },
  {
   "cell_type": "code",
   "execution_count": 27,
   "id": "1c59ff6a",
   "metadata": {},
   "outputs": [],
   "source": [
    "nModesSparse = 2*8*rPODeach\n",
    "\n",
    "answers = []\n",
    "\n",
    "testing_number = 50 # takes too long to test for every case. testing for only 100 cases\n",
    "\n",
    "for i in range(testing_number):\n",
    "    s = cp.Variable(nModesSparse)\n",
    "    objective = cp.Minimize(cp.norm(s, 1) + 100*cp.norm(Library @ s - train_X[i].reshape(-1), 2))\n",
    "    prob = cp.Problem(objective)\n",
    "    # prob.solve(solver = 'ECOS', verbose = True)\n",
    "    prob.solve(solver = cp.MOSEK, verbose = False)\n",
    "    \n",
    "    answers.append(s.value)"
   ]
  },
  {
   "cell_type": "code",
   "execution_count": 28,
   "id": "02ff66b3",
   "metadata": {
    "scrolled": false
   },
   "outputs": [
    {
     "name": "stdout",
     "output_type": "stream",
     "text": [
      "              precision    recall  f1-score   support\n",
      "\n",
      "  25.0, 0.05       1.00      1.00      1.00         2\n",
      "   25.0, 0.1       1.00      1.00      1.00         2\n",
      "   25.0, 0.2       1.00      1.00      1.00         1\n",
      "  25.0, 0.25       1.00      1.00      1.00         2\n",
      "   25.0, 0.3       1.00      1.00      1.00         1\n",
      "   25.0, 0.4       1.00      1.00      1.00         4\n",
      "   25.0, 0.5       1.00      1.00      1.00         1\n",
      "  30.0, 0.05       1.00      0.25      0.40         4\n",
      "   30.0, 0.1       0.50      0.33      0.40         3\n",
      "   30.0, 0.2       1.00      1.00      1.00         1\n",
      "  30.0, 0.25       1.00      1.00      1.00         6\n",
      "   30.0, 0.3       1.00      1.00      1.00         7\n",
      "  30.0, 0.35       0.71      0.71      0.71         7\n",
      "   30.0, 0.4       0.56      1.00      0.71         5\n",
      "   30.0, 0.5       1.00      1.00      1.00         4\n",
      "\n",
      "    accuracy                           0.86        50\n",
      "   macro avg       0.92      0.89      0.88        50\n",
      "weighted avg       0.89      0.86      0.85        50\n",
      "\n",
      "Confusion matrix, without normalization\n"
     ]
    },
    {
     "data": {
      "image/png": "[encoded data removed]",
      "text/plain": [
       "<Figure size 720x720 with 1 Axes>"
      ]
     },
     "metadata": {
      "needs_background": "light"
     },
     "output_type": "display_data"
    }
   ],
   "source": [
    "# print(answer)\n",
    "predictions = []\n",
    "\n",
    "for answer in answers:\n",
    "    \n",
    "    l2each = []\n",
    "    for i in range(len(answer)):\n",
    "        if i%rPODeach == 0:\n",
    "            l2each.append(sum(abs(answer[i:i + rPODeach])))\n",
    "    l2each = np.array(l2each)\n",
    "    pred = np.argmax(l2each)\n",
    "    predictions.append(categories[pred])\n",
    "\n",
    "# print(\"l2 norms for each categories :\\n\", l2each)\n",
    "# print(\"\\nprediction based on largest norm :\", categories[pred])\n",
    "# print(\"true label :\", Y)\n",
    "\n",
    "print(classification_report(true_label[:testing_number], predictions, zero_division = 0))\n",
    "\n",
    "cnf_matrix = confusion_matrix(true_label[:testing_number], predictions)\n",
    "\n",
    "plt.figure(figsize=(10,10))\n",
    "plot_confusion_matrix(cnf_matrix, classes = categories, normalize=False,\n",
    "                      title='1/3 Train Data Prediction')\n",
    "plt.show()"
   ]
  },
  {
   "cell_type": "code",
   "execution_count": 33,
   "id": "4cdcb7ae",
   "metadata": {},
   "outputs": [],
   "source": [
    "nModesSparse = 2*8*rPODeach\n",
    "\n",
    "answers = []\n",
    "\n",
    "testing_number = 50 # takes too long to test for every case. testing for only 100 cases\n",
    "\n",
    "s = cp.Variable(nModesSparse)\n",
    "# Make input image parameter, to solve problem without initializing problem everytime\n",
    "X = cp.Parameter((size))\n",
    "\n",
    "objective = cp.Minimize(cp.norm(s, 1) + 100*cp.norm(Library @ s - X, 2))\n",
    "\n",
    "prob = cp.Problem(objective)\n",
    "\n",
    "\n",
    "for i in range(testing_number):\n",
    "    \n",
    "    X.value = train_X[i].reshape(-1)\n",
    "    prob.solve(solver = cp.MOSEK, verbose = False)\n",
    "    \n",
    "    answers.append(s.value)"
   ]
  },
  {
   "cell_type": "code",
   "execution_count": 34,
   "id": "20e2aa56",
   "metadata": {},
   "outputs": [
    {
     "name": "stdout",
     "output_type": "stream",
     "text": [
      "              precision    recall  f1-score   support\n",
      "\n",
      "  25.0, 0.05       1.00      1.00      1.00         2\n",
      "   25.0, 0.1       1.00      1.00      1.00         2\n",
      "   25.0, 0.2       1.00      1.00      1.00         1\n",
      "  25.0, 0.25       1.00      1.00      1.00         2\n",
      "   25.0, 0.3       1.00      1.00      1.00         1\n",
      "   25.0, 0.4       1.00      1.00      1.00         4\n",
      "   25.0, 0.5       1.00      1.00      1.00         1\n",
      "  30.0, 0.05       1.00      0.25      0.40         4\n",
      "   30.0, 0.1       0.50      0.33      0.40         3\n",
      "   30.0, 0.2       1.00      1.00      1.00         1\n",
      "  30.0, 0.25       1.00      1.00      1.00         6\n",
      "   30.0, 0.3       1.00      1.00      1.00         7\n",
      "  30.0, 0.35       0.71      0.71      0.71         7\n",
      "   30.0, 0.4       0.56      1.00      0.71         5\n",
      "   30.0, 0.5       1.00      1.00      1.00         4\n",
      "\n",
      "    accuracy                           0.86        50\n",
      "   macro avg       0.92      0.89      0.88        50\n",
      "weighted avg       0.89      0.86      0.85        50\n",
      "\n",
      "Confusion matrix, without normalization\n"
     ]
    },
    {
     "data": {
      "image/png": "[encoded data removed]",
      "text/plain": [
       "<Figure size 720x720 with 1 Axes>"
      ]
     },
     "metadata": {
      "needs_background": "light"
     },
     "output_type": "display_data"
    }
   ],
   "source": [
    "# print(answer)\n",
    "predictions = []\n",
    "\n",
    "for answer in answers:\n",
    "    \n",
    "    l2each = []\n",
    "    for i in range(len(answer)):\n",
    "        if i%rPODeach == 0:\n",
    "            l2each.append(sum(abs(answer[i:i + rPODeach])))\n",
    "    l2each = np.array(l2each)\n",
    "    pred = np.argmax(l2each)\n",
    "    predictions.append(categories[pred])\n",
    "\n",
    "# print(\"l2 norms for each categories :\\n\", l2each)\n",
    "# print(\"\\nprediction based on largest norm :\", categories[pred])\n",
    "# print(\"true label :\", Y)\n",
    "\n",
    "print(classification_report(true_label[:testing_number], predictions, zero_division = 0))\n",
    "\n",
    "cnf_matrix = confusion_matrix(true_label[:testing_number], predictions)\n",
    "\n",
    "plt.figure(figsize=(10,10))\n",
    "plot_confusion_matrix(cnf_matrix, classes = categories, normalize=False,\n",
    "                      title='1/3 Train Data Prediction')\n",
    "plt.show()"
   ]
  },
  {
   "cell_type": "code",
   "execution_count": null,
   "id": "4d7d9a97",
   "metadata": {},
   "outputs": [],
   "source": []
  }
 ],
 "metadata": {
  "kernelspec": {
   "display_name": "tf_metal",
   "language": "python",
   "name": "tf25"
  },
  "language_info": {
   "codemirror_mode": {
    "name": "ipython",
    "version": 3
   },
   "file_extension": ".py",
   "mimetype": "text/x-python",
   "name": "python",
   "nbconvert_exporter": "python",
   "pygments_lexer": "ipython3",
   "version": "3.8.16"
  }
 },
 "nbformat": 4,
 "nbformat_minor": 5
}

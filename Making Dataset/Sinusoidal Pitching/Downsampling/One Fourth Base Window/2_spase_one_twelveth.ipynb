{
 "cells": [
  {
   "cell_type": "code",
   "execution_count": 1,
   "id": "2cd1d4b6",
   "metadata": {},
   "outputs": [],
   "source": [
    "import h5py\n",
    "import numpy as np\n",
    "import pickle"
   ]
  },
  {
   "cell_type": "markdown",
   "id": "1fff0e2c",
   "metadata": {},
   "source": [
    "# Make the Dataset from Window\n",
    "- Let's challenge model with smaller and smaller window"
   ]
  },
  {
   "cell_type": "markdown",
   "id": "c06cd22b",
   "metadata": {},
   "source": [
    "# Load the v.c. 1/3 window hdf5 file"
   ]
  },
  {
   "cell_type": "code",
   "execution_count": 2,
   "id": "b06d83d5",
   "metadata": {},
   "outputs": [],
   "source": [
    "train_X = np.zeros((7856, 200, 200, 1)); train_Y = np.zeros((7856, 2))\n",
    "val_X = np.zeros((1680, 200, 200, 1)); val_Y = np.zeros((1680, 2))\n",
    "test_X = np.zeros((1680, 200, 200, 1)); test_Y = np.zeros((1680, 2))"
   ]
  },
  {
   "cell_type": "code",
   "execution_count": 3,
   "id": "3dcc2e70",
   "metadata": {},
   "outputs": [],
   "source": [
    "dir = r'C:\\Users\\bono2\\Desktop\\Pitching Airfoil\\dataset\\window_normalized'\n",
    "\n",
    "with open(dir + r\"\\index.pickle\", 'rb') as file:\n",
    "    idx = pickle.load(file)"
   ]
  },
  {
   "cell_type": "code",
   "execution_count": 4,
   "id": "71dca7f3",
   "metadata": {},
   "outputs": [],
   "source": [
    "hdf5_dir = \"C:/Users/bono2/Desktop/Pitching Airfoil/dataset/window/window_vertical_concat_dataset.hdf5\"\n",
    "file = h5py.File(hdf5_dir, 'r')\n",
    "\n",
    "for i, index in zip(range(train_X.shape[0]), idx['train']):\n",
    "    train_X[i] = file['u'][index].reshape(200, 200, 1)\n",
    "    train_Y[i] = file['label'][index]\n",
    "\n",
    "for i, index in zip(range(val_X.shape[0]), idx['val']):\n",
    "    val_X[i] = file['u'][index].reshape(200, 200, 1)\n",
    "    val_Y[i] = file['label'][index]\n",
    "    \n",
    "for i, index in zip(range(test_X.shape[0]), idx['test']):\n",
    "    test_X[i] = file['u'][index].reshape(200, 200, 1)\n",
    "    test_Y[i] = file['label'][index]"
   ]
  },
  {
   "cell_type": "markdown",
   "id": "73ca8023",
   "metadata": {},
   "source": [
    "# Make it 1/4 window"
   ]
  },
  {
   "cell_type": "code",
   "execution_count": 5,
   "id": "d50e3392",
   "metadata": {},
   "outputs": [],
   "source": [
    "train_X = np.concatenate((train_X[:, 12:87, 49:199], train_X[:, 112:187, 49:199]), axis = 1)\n",
    "val_X = np.concatenate((val_X[:, 12:87, 49:199], val_X[:, 112:187, 49:199]), axis = 1)\n",
    "test_X = np.concatenate((test_X[:, 12:87, 49:199], test_X[:, 112:187, 49:199]), axis = 1)"
   ]
  },
  {
   "cell_type": "markdown",
   "id": "54ca49ea",
   "metadata": {},
   "source": [
    "## Transformation to Sparse\n",
    "- Give stride = 3\n",
    "- Becomes 50 x 50 data"
   ]
  },
  {
   "cell_type": "code",
   "execution_count": 6,
   "id": "fe10cb85",
   "metadata": {},
   "outputs": [],
   "source": [
    "train_X = np.concatenate((train_X[:, 0:75:3, ::3], train_X[:, 76::3, ::3]), axis = 1)\n",
    "val_X = np.concatenate((val_X[:, 0:75:3, ::3], val_X[:, 76::3, ::3]), axis = 1)\n",
    "test_X = np.concatenate((test_X[:, 0:75:3, ::3], test_X[:, 76::3, ::3]), axis = 1)"
   ]
  },
  {
   "cell_type": "code",
   "execution_count": 7,
   "id": "5bbe142b",
   "metadata": {},
   "outputs": [
    {
     "name": "stdout",
     "output_type": "stream",
     "text": [
      "(7856, 50, 50, 1) (1680, 50, 50, 1) (1680, 50, 50, 1)\n"
     ]
    }
   ],
   "source": [
    "print(train_X.shape, val_X.shape, test_X.shape)"
   ]
  },
  {
   "cell_type": "markdown",
   "id": "12151f7a",
   "metadata": {},
   "source": [
    "# Zero Centering"
   ]
  },
  {
   "cell_type": "code",
   "execution_count": 8,
   "id": "4c06fef0",
   "metadata": {
    "scrolled": true
   },
   "outputs": [],
   "source": [
    "# Get mean for zero centering\n",
    "mean = np.mean(train_X, axis = 0)\n",
    "train_X -= mean\n",
    "val_X -= mean\n",
    "test_X -= mean"
   ]
  },
  {
   "cell_type": "markdown",
   "id": "df03d897",
   "metadata": {},
   "source": [
    "# Min-Max Scaling"
   ]
  },
  {
   "cell_type": "code",
   "execution_count": 9,
   "id": "5ae0b0f4",
   "metadata": {},
   "outputs": [
    {
     "name": "stdout",
     "output_type": "stream",
     "text": [
      "(7856, 25, 50, 1) (7856, 25, 50, 1)\n",
      "0.20410246601323845 0.3925785343686609 -0.22414582344704526 -0.4121022185595061\n"
     ]
    }
   ],
   "source": [
    "train_ux = train_X[:,0:25,:,:]; train_uy = train_X[:,25:,:,:]\n",
    "print(train_ux.shape, train_uy.shape)\n",
    "\n",
    "val_ux = val_X[:,0:25,:,:]; val_uy = val_X[:,25:,:,:]\n",
    "test_ux = test_X[:,0:25,:,:]; test_uy = test_X[:,25:,:,:]\n",
    "\n",
    "ux_max = 0; ux_min = 10000; uy_max = 0; uy_min = 10000\n",
    "\n",
    "for ux in train_ux:\n",
    "    M = np.max(ux); m = np.min(ux)\n",
    "    if ux_max < M:\n",
    "        ux_max = M\n",
    "    elif ux_min > m:\n",
    "        ux_min = m\n",
    "   \n",
    "for uy in train_uy:\n",
    "    M = np.max(uy); m = np.min(uy)\n",
    "    if uy_max < M:\n",
    "        uy_max = M\n",
    "    if uy_min > m:\n",
    "        uy_min = m\n",
    "        \n",
    "print(ux_max, uy_max, ux_min, uy_min)\n",
    "ux_range = ux_max - ux_min\n",
    "uy_range = uy_max - uy_min\n",
    "\n",
    "train_ux /= ux_range; train_uy /= uy_range\n",
    "val_ux /= ux_range; val_uy /= uy_range\n",
    "test_ux /= ux_range; test_uy /= uy_range"
   ]
  },
  {
   "cell_type": "code",
   "execution_count": 10,
   "id": "2d69ae33",
   "metadata": {},
   "outputs": [],
   "source": [
    "for x, y, i in zip(train_ux, train_uy, range(len(train_uy))):\n",
    "    train_X[i,0:25,:,:] = x\n",
    "    train_X[i,25:,:,:] = y\n",
    "for x, y, i in zip(val_ux, val_uy, range(len(val_uy))):\n",
    "    val_X[i,0:25,:,:] = x\n",
    "    val_X[i,25:,:,:] = y\n",
    "for x, y, i  in zip(test_ux, test_uy, range(len(val_uy))):\n",
    "    test_X[i,0:25,:,:] = x\n",
    "    test_X[i,25:,:,:] = y"
   ]
  },
  {
   "cell_type": "markdown",
   "id": "218f28bd",
   "metadata": {},
   "source": [
    "# Save the Data"
   ]
  },
  {
   "cell_type": "code",
   "execution_count": 11,
   "id": "ef4b6649",
   "metadata": {},
   "outputs": [],
   "source": [
    "save_dir =  r'C:\\Users\\bono2\\Desktop\\Pitching Airfoil\\dataset\\sparse_sensing_smaller_window\\one_fourth_window\\sparse_one_twelveth'"
   ]
  },
  {
   "cell_type": "code",
   "execution_count": 12,
   "id": "248ff3e1",
   "metadata": {},
   "outputs": [],
   "source": [
    "np.save(save_dir + r\"\\train_X.npy\", train_X); np.save(save_dir + r\"\\train_Y.npy\", train_Y)\n",
    "np.save(save_dir + r\"\\val_X.npy\", val_X); np.save(save_dir + r\"\\val_Y.npy\", val_Y)\n",
    "np.save(save_dir + r\"\\test_X.npy\", test_X); np.save(save_dir + r\"\\test_Y.npy\", test_Y)"
   ]
  }
 ],
 "metadata": {
  "kernelspec": {
   "display_name": "tensorflow",
   "language": "python",
   "name": "tensorflow"
  },
  "language_info": {
   "codemirror_mode": {
    "name": "ipython",
    "version": 3
   },
   "file_extension": ".py",
   "mimetype": "text/x-python",
   "name": "python",
   "nbconvert_exporter": "python",
   "pygments_lexer": "ipython3",
   "version": "3.7.16"
  }
 },
 "nbformat": 4,
 "nbformat_minor": 5
}

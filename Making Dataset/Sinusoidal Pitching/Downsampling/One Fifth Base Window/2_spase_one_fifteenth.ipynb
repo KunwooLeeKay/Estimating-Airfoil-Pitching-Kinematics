{
 "cells": [
  {
   "cell_type": "code",
   "execution_count": 2,
   "id": "2cd1d4b6",
   "metadata": {},
   "outputs": [],
   "source": [
    "import h5py\n",
    "import numpy as np\n",
    "import pickle"
   ]
  },
  {
   "cell_type": "markdown",
   "id": "1fff0e2c",
   "metadata": {},
   "source": [
    "# Make the Dataset from Window\n",
    "- Let's challenge model with smaller and smaller window"
   ]
  },
  {
   "cell_type": "markdown",
   "id": "c06cd22b",
   "metadata": {},
   "source": [
    "# Load the v.c. 1/3 window hdf5 file"
   ]
  },
  {
   "cell_type": "code",
   "execution_count": 3,
   "id": "b06d83d5",
   "metadata": {},
   "outputs": [],
   "source": [
    "train_X = np.zeros((7856, 200, 200, 1)); train_Y = np.zeros((7856, 2))\n",
    "val_X = np.zeros((1680, 200, 200, 1)); val_Y = np.zeros((1680, 2))\n",
    "test_X = np.zeros((1680, 200, 200, 1)); test_Y = np.zeros((1680, 2))"
   ]
  },
  {
   "cell_type": "code",
   "execution_count": 4,
   "id": "3dcc2e70",
   "metadata": {},
   "outputs": [],
   "source": [
    "dir = r'C:\\Users\\bono2\\Desktop\\Pitching Airfoil\\dataset\\window_normalized'\n",
    "\n",
    "with open(dir + r\"\\index.pickle\", 'rb') as file:\n",
    "    idx = pickle.load(file)"
   ]
  },
  {
   "cell_type": "code",
   "execution_count": 5,
   "id": "71dca7f3",
   "metadata": {},
   "outputs": [],
   "source": [
    "hdf5_dir = \"C:/Users/bono2/Desktop/Pitching Airfoil/dataset/window/window_vertical_concat_dataset.hdf5\"\n",
    "file = h5py.File(hdf5_dir, 'r')\n",
    "\n",
    "for i, index in zip(range(train_X.shape[0]), idx['train']):\n",
    "    train_X[i] = file['u'][index].reshape(200, 200, 1)\n",
    "    train_Y[i] = file['label'][index]\n",
    "\n",
    "for i, index in zip(range(val_X.shape[0]), idx['val']):\n",
    "    val_X[i] = file['u'][index].reshape(200, 200, 1)\n",
    "    val_Y[i] = file['label'][index]\n",
    "    \n",
    "for i, index in zip(range(test_X.shape[0]), idx['test']):\n",
    "    test_X[i] = file['u'][index].reshape(200, 200, 1)\n",
    "    test_Y[i] = file['label'][index]"
   ]
  },
  {
   "cell_type": "markdown",
   "id": "247a3046",
   "metadata": {},
   "source": [
    "# Make it 1/5window"
   ]
  },
  {
   "cell_type": "code",
   "execution_count": 6,
   "id": "d8ddcee8",
   "metadata": {},
   "outputs": [],
   "source": [
    "train_X = np.concatenate((train_X[:, 20:80, 79:199], train_X[:, 120:180, 79:199]), axis = 1)\n",
    "val_X = np.concatenate((val_X[:, 20:80, 79:199], val_X[:, 120:180, 79:199]), axis = 1)\n",
    "test_X = np.concatenate((test_X[:, 20:80, 79:199], test_X[:, 120:180, 79:199]), axis = 1)"
   ]
  },
  {
   "cell_type": "markdown",
   "id": "54ca49ea",
   "metadata": {},
   "source": [
    "## Transformation to Sparse\n",
    "- Give stride = 3\n",
    "- Becomes 40 x 40 data"
   ]
  },
  {
   "cell_type": "code",
   "execution_count": 7,
   "id": "fe10cb85",
   "metadata": {},
   "outputs": [],
   "source": [
    "train_X = np.concatenate((train_X[:, 0:60:3, ::3], train_X[:, 61::3, ::3]), axis = 1)\n",
    "val_X = np.concatenate((val_X[:, 0:60:3, ::3], val_X[:, 61::3, ::3]), axis = 1)\n",
    "test_X = np.concatenate((test_X[:, 0:60:3, ::3], test_X[:, 61::3, ::3]), axis = 1)"
   ]
  },
  {
   "cell_type": "code",
   "execution_count": 8,
   "id": "5bbe142b",
   "metadata": {},
   "outputs": [
    {
     "name": "stdout",
     "output_type": "stream",
     "text": [
      "(7856, 40, 40, 1) (1680, 40, 40, 1) (1680, 40, 40, 1)\n"
     ]
    }
   ],
   "source": [
    "print(train_X.shape, val_X.shape, test_X.shape)"
   ]
  },
  {
   "cell_type": "markdown",
   "id": "12151f7a",
   "metadata": {},
   "source": [
    "# Zero Centering"
   ]
  },
  {
   "cell_type": "code",
   "execution_count": 8,
   "id": "4c06fef0",
   "metadata": {
    "scrolled": true
   },
   "outputs": [],
   "source": [
    "# Get mean for zero centering\n",
    "mean = np.mean(train_X, axis = 0)\n",
    "train_X -= mean\n",
    "val_X -= mean\n",
    "test_X -= mean"
   ]
  },
  {
   "cell_type": "markdown",
   "id": "df03d897",
   "metadata": {},
   "source": [
    "# Min-Max Scaling"
   ]
  },
  {
   "cell_type": "code",
   "execution_count": 9,
   "id": "5ae0b0f4",
   "metadata": {},
   "outputs": [
    {
     "name": "stdout",
     "output_type": "stream",
     "text": [
      "(7856, 38, 75, 1) (7856, 37, 75, 1)\n",
      "0.20410246601323845 0.39137964902058303 -0.2243675300407344 -0.4121790080400961\n"
     ]
    }
   ],
   "source": [
    "train_ux = train_X[:,0:20,:,:]; train_uy = train_X[:,20:,:,:]\n",
    "print(train_ux.shape, train_uy.shape)\n",
    "\n",
    "val_ux = val_X[:,0:20,:,:]; val_uy = val_X[:,20:,:,:]\n",
    "test_ux = test_X[:,0:20,:,:]; test_uy = test_X[:,20:,:,:]\n",
    "\n",
    "ux_max = 0; ux_min = 10000; uy_max = 0; uy_min = 10000\n",
    "\n",
    "for ux in train_ux:\n",
    "    M = np.max(ux); m = np.min(ux)\n",
    "    if ux_max < M:\n",
    "        ux_max = M\n",
    "    elif ux_min > m:\n",
    "        ux_min = m\n",
    "   \n",
    "for uy in train_uy:\n",
    "    M = np.max(uy); m = np.min(uy)\n",
    "    if uy_max < M:\n",
    "        uy_max = M\n",
    "    if uy_min > m:\n",
    "        uy_min = m\n",
    "        \n",
    "print(ux_max, uy_max, ux_min, uy_min)\n",
    "ux_range = ux_max - ux_min\n",
    "uy_range = uy_max - uy_min\n",
    "\n",
    "train_ux /= ux_range; train_uy /= uy_range\n",
    "val_ux /= ux_range; val_uy /= uy_range\n",
    "test_ux /= ux_range; test_uy /= uy_range"
   ]
  },
  {
   "cell_type": "code",
   "execution_count": 10,
   "id": "2d69ae33",
   "metadata": {},
   "outputs": [],
   "source": [
    "for x, y, i in zip(train_ux, train_uy, range(len(train_uy))):\n",
    "    train_X[i,0:20,:,:] = x\n",
    "    train_X[i,20:,:,:] = y\n",
    "for x, y, i in zip(val_ux, val_uy, range(len(val_uy))):\n",
    "    val_X[i,0:20,:,:] = x\n",
    "    val_X[i,20:,:,:] = y\n",
    "for x, y, i  in zip(test_ux, test_uy, range(len(val_uy))):\n",
    "    test_X[i,0:20,:,:] = x\n",
    "    test_X[i,20:,:,:] = y"
   ]
  },
  {
   "cell_type": "markdown",
   "id": "218f28bd",
   "metadata": {},
   "source": [
    "# Save the Data"
   ]
  },
  {
   "cell_type": "code",
   "execution_count": 11,
   "id": "ef4b6649",
   "metadata": {},
   "outputs": [],
   "source": [
    "save_dir =  r'C:\\Users\\bono2\\Desktop\\Pitching Airfoil\\dataset\\sparse_sensing_smaller_window\\one_fifth_window\\sparse_one_fifteenth'"
   ]
  },
  {
   "cell_type": "code",
   "execution_count": 12,
   "id": "248ff3e1",
   "metadata": {},
   "outputs": [
    {
     "ename": "FileNotFoundError",
     "evalue": "[Errno 2] No such file or directory: 'C:\\\\Users\\\\bono2\\\\Desktop\\\\Pitching Airfoil\\\\dataset\\\\sparse_sensing_smaller_window\\\\sparse_one_eighth\\\\train_X.npy'",
     "output_type": "error",
     "traceback": [
      "\u001b[1;31m---------------------------------------------------------------------------\u001b[0m",
      "\u001b[1;31mFileNotFoundError\u001b[0m                         Traceback (most recent call last)",
      "\u001b[1;32m~\\AppData\\Local\\Temp\\ipykernel_1096\\2450203515.py\u001b[0m in \u001b[0;36m<module>\u001b[1;34m\u001b[0m\n\u001b[1;32m----> 1\u001b[1;33m \u001b[0mnp\u001b[0m\u001b[1;33m.\u001b[0m\u001b[0msave\u001b[0m\u001b[1;33m(\u001b[0m\u001b[0msave_dir\u001b[0m \u001b[1;33m+\u001b[0m \u001b[1;34mr\"\\train_X.npy\"\u001b[0m\u001b[1;33m,\u001b[0m \u001b[0mtrain_X\u001b[0m\u001b[1;33m)\u001b[0m\u001b[1;33m;\u001b[0m \u001b[0mnp\u001b[0m\u001b[1;33m.\u001b[0m\u001b[0msave\u001b[0m\u001b[1;33m(\u001b[0m\u001b[0msave_dir\u001b[0m \u001b[1;33m+\u001b[0m \u001b[1;34mr\"\\train_Y.npy\"\u001b[0m\u001b[1;33m,\u001b[0m \u001b[0mtrain_Y\u001b[0m\u001b[1;33m)\u001b[0m\u001b[1;33m\u001b[0m\u001b[1;33m\u001b[0m\u001b[0m\n\u001b[0m\u001b[0;32m      2\u001b[0m \u001b[0mnp\u001b[0m\u001b[1;33m.\u001b[0m\u001b[0msave\u001b[0m\u001b[1;33m(\u001b[0m\u001b[0msave_dir\u001b[0m \u001b[1;33m+\u001b[0m \u001b[1;34mr\"\\val_X.npy\"\u001b[0m\u001b[1;33m,\u001b[0m \u001b[0mval_X\u001b[0m\u001b[1;33m)\u001b[0m\u001b[1;33m;\u001b[0m \u001b[0mnp\u001b[0m\u001b[1;33m.\u001b[0m\u001b[0msave\u001b[0m\u001b[1;33m(\u001b[0m\u001b[0msave_dir\u001b[0m \u001b[1;33m+\u001b[0m \u001b[1;34mr\"\\val_Y.npy\"\u001b[0m\u001b[1;33m,\u001b[0m \u001b[0mval_Y\u001b[0m\u001b[1;33m)\u001b[0m\u001b[1;33m\u001b[0m\u001b[1;33m\u001b[0m\u001b[0m\n\u001b[0;32m      3\u001b[0m \u001b[0mnp\u001b[0m\u001b[1;33m.\u001b[0m\u001b[0msave\u001b[0m\u001b[1;33m(\u001b[0m\u001b[0msave_dir\u001b[0m \u001b[1;33m+\u001b[0m \u001b[1;34mr\"\\test_X.npy\"\u001b[0m\u001b[1;33m,\u001b[0m \u001b[0mtest_X\u001b[0m\u001b[1;33m)\u001b[0m\u001b[1;33m;\u001b[0m \u001b[0mnp\u001b[0m\u001b[1;33m.\u001b[0m\u001b[0msave\u001b[0m\u001b[1;33m(\u001b[0m\u001b[0msave_dir\u001b[0m \u001b[1;33m+\u001b[0m \u001b[1;34mr\"\\test_Y.npy\"\u001b[0m\u001b[1;33m,\u001b[0m \u001b[0mtest_Y\u001b[0m\u001b[1;33m)\u001b[0m\u001b[1;33m\u001b[0m\u001b[1;33m\u001b[0m\u001b[0m\n",
      "\u001b[1;32m<__array_function__ internals>\u001b[0m in \u001b[0;36msave\u001b[1;34m(*args, **kwargs)\u001b[0m\n",
      "\u001b[1;32mC:\\ProgramData\\Anaconda3\\envs\\tensorflow\\lib\\site-packages\\numpy\\lib\\npyio.py\u001b[0m in \u001b[0;36msave\u001b[1;34m(file, arr, allow_pickle, fix_imports)\u001b[0m\n\u001b[0;32m    523\u001b[0m         \u001b[1;32mif\u001b[0m \u001b[1;32mnot\u001b[0m \u001b[0mfile\u001b[0m\u001b[1;33m.\u001b[0m\u001b[0mendswith\u001b[0m\u001b[1;33m(\u001b[0m\u001b[1;34m'.npy'\u001b[0m\u001b[1;33m)\u001b[0m\u001b[1;33m:\u001b[0m\u001b[1;33m\u001b[0m\u001b[1;33m\u001b[0m\u001b[0m\n\u001b[0;32m    524\u001b[0m             \u001b[0mfile\u001b[0m \u001b[1;33m=\u001b[0m \u001b[0mfile\u001b[0m \u001b[1;33m+\u001b[0m \u001b[1;34m'.npy'\u001b[0m\u001b[1;33m\u001b[0m\u001b[1;33m\u001b[0m\u001b[0m\n\u001b[1;32m--> 525\u001b[1;33m         \u001b[0mfile_ctx\u001b[0m \u001b[1;33m=\u001b[0m \u001b[0mopen\u001b[0m\u001b[1;33m(\u001b[0m\u001b[0mfile\u001b[0m\u001b[1;33m,\u001b[0m \u001b[1;34m\"wb\"\u001b[0m\u001b[1;33m)\u001b[0m\u001b[1;33m\u001b[0m\u001b[1;33m\u001b[0m\u001b[0m\n\u001b[0m\u001b[0;32m    526\u001b[0m \u001b[1;33m\u001b[0m\u001b[0m\n\u001b[0;32m    527\u001b[0m     \u001b[1;32mwith\u001b[0m \u001b[0mfile_ctx\u001b[0m \u001b[1;32mas\u001b[0m \u001b[0mfid\u001b[0m\u001b[1;33m:\u001b[0m\u001b[1;33m\u001b[0m\u001b[1;33m\u001b[0m\u001b[0m\n",
      "\u001b[1;31mFileNotFoundError\u001b[0m: [Errno 2] No such file or directory: 'C:\\\\Users\\\\bono2\\\\Desktop\\\\Pitching Airfoil\\\\dataset\\\\sparse_sensing_smaller_window\\\\sparse_one_eighth\\\\train_X.npy'"
     ]
    }
   ],
   "source": [
    "np.save(save_dir + r\"\\train_X.npy\", train_X); np.save(save_dir + r\"\\train_Y.npy\", train_Y)\n",
    "np.save(save_dir + r\"\\val_X.npy\", val_X); np.save(save_dir + r\"\\val_Y.npy\", val_Y)\n",
    "np.save(save_dir + r\"\\test_X.npy\", test_X); np.save(save_dir + r\"\\test_Y.npy\", test_Y)"
   ]
  }
 ],
 "metadata": {
  "kernelspec": {
   "display_name": "tensorflow",
   "language": "python",
   "name": "tensorflow"
  },
  "language_info": {
   "codemirror_mode": {
    "name": "ipython",
    "version": 3
   },
   "file_extension": ".py",
   "mimetype": "text/x-python",
   "name": "python",
   "nbconvert_exporter": "python",
   "pygments_lexer": "ipython3",
   "version": "3.7.16"
  }
 },
 "nbformat": 4,
 "nbformat_minor": 5
}

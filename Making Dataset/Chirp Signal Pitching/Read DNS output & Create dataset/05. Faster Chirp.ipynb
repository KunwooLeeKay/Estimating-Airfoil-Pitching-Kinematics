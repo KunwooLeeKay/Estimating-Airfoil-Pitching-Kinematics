{
 "cells": [
  {
   "cell_type": "code",
   "execution_count": 1,
   "id": "38efe572",
   "metadata": {},
   "outputs": [],
   "source": [
    "import numpy as np\n",
    "from scipy.signal import chirp\n",
    "import matplotlib.pyplot as plt\n",
    "from collections import Counter\n",
    "from sklearn.model_selection import train_test_split\n",
    "import os\n",
    "import h5py"
   ]
  },
  {
   "cell_type": "code",
   "execution_count": 2,
   "id": "f1986e19",
   "metadata": {},
   "outputs": [],
   "source": [
    "# Reads plt files, converts into numpy array\n",
    "\n",
    "def velfield(ts, boa, length):\n",
    "    \n",
    "    path = '/Volumes/KleeFD/ibpm raw data/klee_chirp_BoA'+str(boa)+'_f0p05f0p5_L0'+str(length)+'/ibpm'\\\n",
    "                + str(format(ts, '05'))+'.plt'\n",
    "    with open(path) as file:\n",
    "        f_text = file.read()\n",
    "\n",
    "    f_list = f_text[191:]\n",
    "    f_list = f_list.split(' ')\n",
    "    f_list.pop()\n",
    "\n",
    "    UX, UY = [], []\n",
    "    for idx, val in enumerate(f_list):\n",
    "        if val[0] == '\\n':\n",
    "            UX.append(float(f_list[idx+2]))\n",
    "            UY.append(float(f_list[idx+3]))\n",
    "    UX = np.array(UX); UY = np.array(UY)\n",
    "\n",
    "    UX = UX.reshape(299, 599)\n",
    "    UY = UY.reshape(299, 599)\n",
    "\n",
    "    return UX, UY"
   ]
  },
  {
   "cell_type": "code",
   "execution_count": 3,
   "id": "6c050708",
   "metadata": {},
   "outputs": [],
   "source": [
    "# This is how timestep, freq, angle is defined\n",
    "\n",
    "ibpm_time = np.arange(5510, 11500, 10)\n",
    "freq = 0.05 + ((ibpm_time - 5501)/100)/60*(0.5-0.05)\n",
    "\n",
    "ori_time = np.arange(0, 60, 0.01)\n",
    "\n",
    "angle = 5*chirp(ori_time, 0.05, 30, 0.5, method = 'linear', phi = 0)\n",
    "angle = angle[9::10][:-1]"
   ]
  },
  {
   "cell_type": "code",
   "execution_count": 4,
   "id": "bfd2196f",
   "metadata": {},
   "outputs": [],
   "source": [
    "# Categorize the continuous frequency\n",
    "\n",
    "freq_cat = np.array([0, 0.05, 0.1, 0.2, 0.25, 0.3, 0.35, 0.4, 0.5, 0.6])\n",
    "\n",
    "# Set threshold values to be the mean value between two categoires. i.e. if 0.075 < x < 0.15 then 0.1\n",
    "thres = []\n",
    "for i in range(8):\n",
    "    thres.append(tuple([(freq_cat[i+1] + freq_cat[i])/2, (freq_cat[i+1] + freq_cat[i+2])/2]))\n",
    "\n",
    "freq_cat = np.array([0.05, 0.1, 0.2, 0.25, 0.3, 0.35, 0.4, 0.5])\n",
    "\n",
    "categorized_freq = []\n",
    "for i, f in enumerate(freq):\n",
    "    for cat_num in range(8):\n",
    "        bound = thres[cat_num]\n",
    "        if bound[0] < f and bound[1] > f:\n",
    "            categorized_freq.append(freq_cat[cat_num])\n",
    "            \n",
    "categorized_freq = np.array(categorized_freq)"
   ]
  },
  {
   "cell_type": "markdown",
   "id": "f4c1da99",
   "metadata": {},
   "source": [
    "# Chirp BoA 25"
   ]
  },
  {
   "cell_type": "code",
   "execution_count": 5,
   "id": "515c5a03",
   "metadata": {},
   "outputs": [
    {
     "name": "stdout",
     "output_type": "stream",
     "text": [
      "training : Counter({'25.0': 419}) Counter({'0.1': 70, '0.4': 70, '0.2': 70, '0.25': 47, '0.35': 47, '0.3': 46, '0.5': 46, '0.05': 23})\n",
      "validation : Counter({'25.0': 90}) Counter({'0.4': 15, '0.1': 15, '0.2': 15, '0.35': 10, '0.5': 10, '0.3': 10, '0.25': 10, '0.05': 5})\n",
      "test : Counter({'25.0': 90}) Counter({'0.4': 15, '0.1': 15, '0.2': 15, '0.3': 10, '0.5': 10, '0.35': 10, '0.25': 10, '0.05': 5})\n"
     ]
    }
   ],
   "source": [
    "# Load Chirp Data for boa 25\n",
    "\n",
    "chirp_X25 = np.zeros((len(ibpm_time), 200, 200))\n",
    "\n",
    "for i, timestep in enumerate(ibpm_time):\n",
    "    \n",
    "    UX, UY = velfield(timestep, 25, 6000)\n",
    "    \n",
    "    UX = UX[99:199, 399:599]\n",
    "    UY = UY[99:199, 399:599]\n",
    "    \n",
    "    chirp_X25[i] = np.concatenate((UX, UY))\n",
    "    \n",
    "chirp_X25 = chirp_X25.reshape(len(ibpm_time), 200, 200,1)\n",
    "\n",
    "boa = (np.full((len(ibpm_time), 1), 25.0)).reshape(-1,1)\n",
    "typ = (np.full((len(ibpm_time), 1), 'chirp')).reshape(-1,1)\n",
    "inst_angle = (25 - angle).reshape(-1,1)\n",
    "inst_freq = freq.reshape(-1,1)\n",
    "\n",
    "Y = np.column_stack((boa, categorized_freq, typ, inst_angle, inst_freq))\n",
    "\n",
    "\n",
    "# Split Chirp dataset into train : test : validation = 70 : 15 : 15\n",
    "train_X25, val_X25, train_Y25, val_Y25 = \\\n",
    "    train_test_split(chirp_X25, Y, test_size = 0.3, random_state = 0, shuffle = True, stratify = Y[:][:,0:2])\n",
    "\n",
    "test_X25, val_X25, test_Y25, val_Y25 = \\\n",
    "    train_test_split(val_X25, val_Y25, test_size = 0.5, random_state = 0, shuffle = True, stratify = val_Y25[:][:,0:2])\n",
    "\n",
    "# Check stratification\n",
    "print(\"training :\", Counter(train_Y25[:,0]), Counter(train_Y25[:, 1]))\n",
    "print('validation :', Counter(val_Y25[:,0]), Counter(val_Y25[:, 1]))\n",
    "print('test :', Counter(test_Y25[:,0]), Counter(test_Y25[:, 1]))"
   ]
  },
  {
   "cell_type": "markdown",
   "id": "6bc21d37",
   "metadata": {},
   "source": [
    "# Chirp BoA 30"
   ]
  },
  {
   "cell_type": "code",
   "execution_count": 8,
   "id": "c4540c9b",
   "metadata": {},
   "outputs": [
    {
     "name": "stdout",
     "output_type": "stream",
     "text": [
      "training : Counter({'30.0': 419}) Counter({'0.1': 70, '0.4': 70, '0.2': 70, '0.25': 47, '0.35': 47, '0.3': 46, '0.5': 46, '0.05': 23})\n",
      "validation : Counter({'30.0': 90}) Counter({'0.4': 15, '0.1': 15, '0.2': 15, '0.35': 10, '0.5': 10, '0.3': 10, '0.25': 10, '0.05': 5})\n",
      "test : Counter({'30.0': 90}) Counter({'0.4': 15, '0.1': 15, '0.2': 15, '0.3': 10, '0.5': 10, '0.35': 10, '0.25': 10, '0.05': 5})\n"
     ]
    }
   ],
   "source": [
    "# Load Chirp Data for boa 30\n",
    "\n",
    "chirp_X30 = np.zeros((len(ibpm_time), 200, 200))\n",
    "\n",
    "for i, timestep in enumerate(ibpm_time):\n",
    "    \n",
    "    UX, UY = velfield(timestep, 30, 6000)\n",
    "    \n",
    "    UX = UX[99:199, 399:599]\n",
    "    UY = UY[99:199, 399:599]\n",
    "    \n",
    "    chirp_X30[i] = np.concatenate((UX, UY))\n",
    "    \n",
    "chirp_X30 = chirp_X30.reshape(len(ibpm_time), 200, 200,1)\n",
    "\n",
    "boa = (np.full((len(ibpm_time), 1), 30.0)).reshape(-1,1)\n",
    "typ = (np.full((len(ibpm_time), 1), 'chirp')).reshape(-1,1)\n",
    "inst_angle = (30 - angle).reshape(-1,1)\n",
    "\n",
    "Y = np.column_stack((boa, categorized_freq, typ, inst_angle, inst_freq))\n",
    "\n",
    "\n",
    "# Split Chirp dataset into train : test : validation = 70 : 15 : 15\n",
    "train_X30, val_X30, train_Y30, val_Y30 = \\\n",
    "    train_test_split(chirp_X30, Y, test_size = 0.3, random_state = 0, shuffle = True, stratify = Y[:][:,0:2])\n",
    "\n",
    "test_X30, val_X30, test_Y30, val_Y30 = \\\n",
    "    train_test_split(val_X30, val_Y30, test_size = 0.5, random_state = 0, shuffle = True, stratify = val_Y30[:][:,0:2])\n",
    "\n",
    "\n",
    "# Check stratification\n",
    "print(\"training :\", Counter(train_Y30[:,0]), Counter(train_Y30[:, 1]))\n",
    "print('validation :', Counter(val_Y30[:,0]), Counter(val_Y30[:, 1]))\n",
    "print('test :', Counter(test_Y30[:,0]), Counter(test_Y30[:, 1]))"
   ]
  },
  {
   "cell_type": "code",
   "execution_count": 9,
   "id": "b899ea5a",
   "metadata": {},
   "outputs": [],
   "source": [
    "train_X = np.concatenate((train_X25, train_X30), axis = 0)\n",
    "val_X = np.concatenate((val_X25, val_X30), axis = 0)\n",
    "test_X = np.concatenate((test_X25, test_X30), axis = 0)\n",
    "\n",
    "train_Y = np.concatenate((train_Y25, train_Y30), axis = 0)\n",
    "val_Y = np.concatenate((val_Y25, val_Y30), axis = 0)\n",
    "test_Y = np.concatenate((test_Y25, test_Y30), axis = 0)"
   ]
  },
  {
   "cell_type": "code",
   "execution_count": 10,
   "id": "bf8dee55",
   "metadata": {},
   "outputs": [],
   "source": [
    "d = '/Volumes/KleeFD/dataset/dataset_chirp/05_faster chirp/'\n",
    "\n",
    "np.save(d+'train_X.npy', train_X)\n",
    "np.save(d+'train_Y.npy', train_Y)\n",
    "\n",
    "np.save(d+'val_X.npy', val_X)\n",
    "np.save(d+'val_Y.npy', val_Y)\n",
    "\n",
    "np.save(d+'test_X.npy', test_X)\n",
    "np.save(d+'test_Y.npy', test_Y)"
   ]
  },
  {
   "cell_type": "code",
   "execution_count": null,
   "id": "65f7e23c",
   "metadata": {},
   "outputs": [],
   "source": []
  }
 ],
 "metadata": {
  "kernelspec": {
   "display_name": "tf_metal",
   "language": "python",
   "name": "tf25"
  },
  "language_info": {
   "codemirror_mode": {
    "name": "ipython",
    "version": 3
   },
   "file_extension": ".py",
   "mimetype": "text/x-python",
   "name": "python",
   "nbconvert_exporter": "python",
   "pygments_lexer": "ipython3",
   "version": "3.8.16"
  }
 },
 "nbformat": 4,
 "nbformat_minor": 5
}

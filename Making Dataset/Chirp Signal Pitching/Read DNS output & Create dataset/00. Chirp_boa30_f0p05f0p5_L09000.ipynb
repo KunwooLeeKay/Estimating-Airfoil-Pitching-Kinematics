{
 "cells": [
  {
   "cell_type": "code",
   "execution_count": 1,
   "id": "e96bdd0b",
   "metadata": {},
   "outputs": [],
   "source": [
    "import numpy as np\n",
    "import matplotlib.pyplot as plt\n",
    "from scipy.signal import chirp"
   ]
  },
  {
   "cell_type": "code",
   "execution_count": 2,
   "id": "0ba7f96c",
   "metadata": {},
   "outputs": [],
   "source": [
    "def velfield(ts):\n",
    "    \n",
    "    path = 'C:/Users/bono2/Desktop/Pitching Airfoil/dataset/raw_chirp/klee_Chirp_BoA30_f0p05f0p5_L09000/ibpm'\\\n",
    "                + str(format(ts, '05'))+'.plt'\n",
    "    with open(path) as file:\n",
    "        f_text = file.read()\n",
    "\n",
    "    f_list = f_text[191:]\n",
    "    f_list = f_list.split(' ')\n",
    "    f_list.pop()\n",
    "\n",
    "    UX, UY = [], []\n",
    "    for idx, val in enumerate(f_list):\n",
    "        if val[0] == '\\n':\n",
    "            UX.append(float(f_list[idx+2]))\n",
    "            UY.append(float(f_list[idx+3]))\n",
    "    UX = np.array(UX); UY = np.array(UY)\n",
    "\n",
    "    UX = UX.reshape(299, 599)\n",
    "    UY = UY.reshape(299, 599)\n",
    "\n",
    "    return UX, UY"
   ]
  },
  {
   "cell_type": "markdown",
   "id": "56ad5b10",
   "metadata": {},
   "source": [
    "## define ibpmtimestep <-> frequency"
   ]
  },
  {
   "cell_type": "code",
   "execution_count": 1,
   "id": "021f4f9f",
   "metadata": {},
   "outputs": [
    {
     "ename": "NameError",
     "evalue": "name 'np' is not defined",
     "output_type": "error",
     "traceback": [
      "\u001b[0;31m---------------------------------------------------------------------------\u001b[0m",
      "\u001b[0;31mNameError\u001b[0m                                 Traceback (most recent call last)",
      "Cell \u001b[0;32mIn[1], line 1\u001b[0m\n\u001b[0;32m----> 1\u001b[0m ibpm_time \u001b[38;5;241m=\u001b[39m \u001b[43mnp\u001b[49m\u001b[38;5;241m.\u001b[39marange(\u001b[38;5;241m5510\u001b[39m, \u001b[38;5;241m14500\u001b[39m, \u001b[38;5;241m10\u001b[39m)\n\u001b[1;32m      2\u001b[0m freq \u001b[38;5;241m=\u001b[39m \u001b[38;5;241m0.05\u001b[39m \u001b[38;5;241m+\u001b[39m ((ibpm_time \u001b[38;5;241m-\u001b[39m \u001b[38;5;241m5501\u001b[39m)\u001b[38;5;241m/\u001b[39m\u001b[38;5;241m100\u001b[39m)\u001b[38;5;241m/\u001b[39m\u001b[38;5;241m90\u001b[39m\u001b[38;5;241m*\u001b[39m(\u001b[38;5;241m0.5\u001b[39m\u001b[38;5;241m-\u001b[39m\u001b[38;5;241m0.05\u001b[39m)\n\u001b[1;32m      4\u001b[0m ori_time \u001b[38;5;241m=\u001b[39m np\u001b[38;5;241m.\u001b[39marange(\u001b[38;5;241m0\u001b[39m, \u001b[38;5;241m90\u001b[39m, \u001b[38;5;241m0.01\u001b[39m)\n",
      "\u001b[0;31mNameError\u001b[0m: name 'np' is not defined"
     ]
    }
   ],
   "source": [
    "ibpm_time = np.arange(5510, 14500, 10)\n",
    "freq = 0.05 + ((ibpm_time - 5501)/100)/90*(0.5-0.05)\n",
    "\n",
    "ori_time = np.arange(0, 90, 0.01)\n",
    "angle = chirp(ori_time, 0.05, 45, 0.5, method = 'linear', phi = 0)\n",
    "angle = angle[9::10][:-1]\n",
    "\n",
    "# ori_freq = 0.05 + ori_time/90*(0.5-0.05)\n",
    "# ori_time = ori_time[9::10]\n",
    "\n",
    "# plt.plot((ibpm_time - 5502)/100, freq)\n",
    "# plt.plot(ori_time, ori_freq[9::10])\n",
    "# plt.show()\n",
    "# plt.plot(angle)\n",
    "\n",
    "# print(len(ibpm_time),len(angle), ori_time[-1], (ibpm_time[-1]-5501)/100)\n",
    "\n",
    "# print(angle[0], np.cos(2*np.pi*freq*(ibpm_time - 5501)/100)[0])\n",
    "\n",
    "# plt.plot(ibpm_time, angle)\n",
    "# plt.plot(ibpm_time, np.cos(2*np.pi*freq*(ibpm_time - 5501)/100))"
   ]
  },
  {
   "cell_type": "markdown",
   "id": "fa835e4e",
   "metadata": {},
   "source": [
    "## Create Dataset & Preprocess"
   ]
  },
  {
   "cell_type": "code",
   "execution_count": 5,
   "id": "93522b5d",
   "metadata": {},
   "outputs": [],
   "source": [
    "chirp_X = np.zeros((len(ibpm_time), 200, 200))\n",
    "\n",
    "for i, timestep in enumerate(ibpm_time):\n",
    "    \n",
    "    UX, UY = velfield(timestep)\n",
    "    \n",
    "    UX = UX[99:199, 399:599]\n",
    "    UY = UY[99:199, 399:599]\n",
    "    \n",
    "    chirp_X[i] = np.concatenate((UX, UY))"
   ]
  },
  {
   "cell_type": "code",
   "execution_count": 6,
   "id": "4d323468",
   "metadata": {},
   "outputs": [],
   "source": [
    "chirp_X = chirp_X.reshape(len(ibpm_time), 200, 200,1)\n",
    "chirp_X -= np.mean(chirp_X, axis = 0)"
   ]
  },
  {
   "cell_type": "code",
   "execution_count": 7,
   "id": "7fe0d22d",
   "metadata": {},
   "outputs": [
    {
     "name": "stdout",
     "output_type": "stream",
     "text": [
      "0.20043061957730868 0.4182108561579533 -0.2575932157953289 -0.40945621575750835\n"
     ]
    }
   ],
   "source": [
    "train_ux = chirp_X[:,0:100,:,:]; train_uy = chirp_X[:,100:200,:,:]\n",
    "\n",
    "ux_max = 0; ux_min = 10000; uy_max = 0; uy_min = 10000\n",
    "\n",
    "for ux in train_ux:\n",
    "    M = np.max(ux); m = np.min(ux)\n",
    "    if ux_max < M:\n",
    "        ux_max = M\n",
    "    elif ux_min > m:\n",
    "        ux_min = m\n",
    "   \n",
    "for uy in train_uy:\n",
    "    M = np.max(uy); m = np.min(uy)\n",
    "    if uy_max < M:\n",
    "        uy_max = M\n",
    "    if uy_min > m:\n",
    "        uy_min = m\n",
    "        \n",
    "print(ux_max, uy_max, ux_min, uy_min)\n",
    "ux_range = ux_max - ux_min\n",
    "uy_range = uy_max - uy_min\n",
    "\n",
    "train_ux /= ux_range; train_uy /= uy_range"
   ]
  },
  {
   "cell_type": "code",
   "execution_count": 8,
   "id": "c2d94310",
   "metadata": {},
   "outputs": [],
   "source": [
    "for x, y, i in zip(train_ux, train_uy, range(len(train_uy))):\n",
    "    chirp_X[i,0:100,:,:] = x\n",
    "    chirp_X[i,100:200,:,:] = y"
   ]
  },
  {
   "cell_type": "code",
   "execution_count": 9,
   "id": "ccb2cb9e",
   "metadata": {},
   "outputs": [],
   "source": [
    "np.save('C:/Users/bono2/Desktop/Pitching Airfoil/dataset/dataset_chirp/Chirp_BoA30_f0p05f0p5_L09000.npy', chirp_X)"
   ]
  },
  {
   "cell_type": "code",
   "execution_count": 10,
   "id": "ace55c4c",
   "metadata": {},
   "outputs": [],
   "source": [
    "np.save('C:/Users/bono2/Desktop/Pitching Airfoil/dataset/dataset_chirp/FREQ_Chirp_BoA30_f0p05f0p5_L09000.npy', freq)\n",
    "np.save('C:/Users/bono2/Desktop/Pitching Airfoil/dataset/dataset_chirp/ANGLE_Chirp_BoA30_f0p05f0p5_L09000.npy', angle)"
   ]
  },
  {
   "cell_type": "code",
   "execution_count": null,
   "id": "c9fd135e",
   "metadata": {},
   "outputs": [],
   "source": []
  },
  {
   "cell_type": "code",
   "execution_count": null,
   "id": "803b25d2",
   "metadata": {},
   "outputs": [],
   "source": []
  },
  {
   "cell_type": "code",
   "execution_count": null,
   "id": "f1ca6fc5",
   "metadata": {},
   "outputs": [],
   "source": []
  },
  {
   "cell_type": "code",
   "execution_count": null,
   "id": "bc7e7209",
   "metadata": {},
   "outputs": [],
   "source": []
  },
  {
   "cell_type": "code",
   "execution_count": null,
   "id": "add3b416",
   "metadata": {},
   "outputs": [],
   "source": [
    "def kin():\n",
    "    # Loading .kin file\n",
    "    path = 'C:/Users/bono2/Desktop/Pitching Airfoil/dataset/raw_chirp/klee_Chirp_BoA30_f0p05f0p5_L09000/ibpm.kin'\n",
    "    with open(path) as file:\n",
    "        f_text = file.read()\n",
    "\n",
    "    f_text = f_text.replace('\\n', ' ')\n",
    "    f_list = f_text.split(' ')\n",
    "\n",
    "    timestep = 0\n",
    "    length = 0\n",
    "\n",
    "    my_alpha, my_alphadot = [], []\n",
    "\n",
    "    for idx, item in enumerate(f_list):\n",
    "        if item == str(timestep):\n",
    "            timestep += 1\n",
    "            length += 1\n",
    "            my_alpha.append(float(f_list[idx + 2]))\n",
    "            my_alphadot.append(float(f_list[idx + 3]))\n",
    "\n",
    "        else:\n",
    "            pass\n",
    "    return my_alpha, my_alphadot"
   ]
  }
 ],
 "metadata": {
  "kernelspec": {
   "display_name": "tf_metal",
   "language": "python",
   "name": "tf25"
  },
  "language_info": {
   "codemirror_mode": {
    "name": "ipython",
    "version": 3
   },
   "file_extension": ".py",
   "mimetype": "text/x-python",
   "name": "python",
   "nbconvert_exporter": "python",
   "pygments_lexer": "ipython3",
   "version": "3.8.16"
  }
 },
 "nbformat": 4,
 "nbformat_minor": 5
}

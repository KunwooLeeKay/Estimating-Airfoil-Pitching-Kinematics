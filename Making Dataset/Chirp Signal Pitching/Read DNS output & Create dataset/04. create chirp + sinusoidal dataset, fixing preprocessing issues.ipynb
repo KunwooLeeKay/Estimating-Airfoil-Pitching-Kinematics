{
 "cells": [
  {
   "cell_type": "code",
   "execution_count": 1,
   "id": "38efe572",
   "metadata": {},
   "outputs": [],
   "source": [
    "import numpy as np\n",
    "from scipy.signal import chirp\n",
    "import matplotlib.pyplot as plt\n",
    "from collections import Counter\n",
    "from sklearn.model_selection import train_test_split\n",
    "import os\n",
    "import h5py"
   ]
  },
  {
   "cell_type": "code",
   "execution_count": 5,
   "id": "f1986e19",
   "metadata": {},
   "outputs": [],
   "source": [
    "# Reads plt files, converts into numpy array\n",
    "\n",
    "def velfield(ts, boa):\n",
    "    \n",
    "    path = '/Users/kunwoosmac/Library/CloudStorage/OneDrive-IllinoisInstituteofTechnology/ibpm test/klee_Chirp_BoA'+str(boa)+'_f0p05f0p5_L09000/ibpm'\\\n",
    "                + str(format(ts, '05'))+'.plt'\n",
    "    with open(path) as file:\n",
    "        f_text = file.read()\n",
    "\n",
    "    f_list = f_text[191:]\n",
    "    f_list = f_list.split(' ')\n",
    "    f_list.pop()\n",
    "\n",
    "    UX, UY = [], []\n",
    "    for idx, val in enumerate(f_list):\n",
    "        if val[0] == '\\n':\n",
    "            UX.append(float(f_list[idx+2]))\n",
    "            UY.append(float(f_list[idx+3]))\n",
    "    UX = np.array(UX); UY = np.array(UY)\n",
    "\n",
    "    UX = UX.reshape(299, 599)\n",
    "    UY = UY.reshape(299, 599)\n",
    "\n",
    "    return UX, UY"
   ]
  },
  {
   "cell_type": "code",
   "execution_count": 6,
   "id": "6c050708",
   "metadata": {},
   "outputs": [],
   "source": [
    "# This is how timestep, freq, angle is defined\n",
    "\n",
    "ibpm_time = np.arange(5510, 14500, 10)\n",
    "freq = 0.05 + ((ibpm_time - 5501)/100)/90*(0.5-0.05)\n",
    "\n",
    "ori_time = np.arange(0, 90, 0.01)\n",
    "\n",
    "angle = 5*chirp(ori_time, 0.05, 45, 0.5, method = 'linear', phi = 0)\n",
    "angle = angle[9::10][:-1]\n",
    "\n",
    "# ori_freq = 0.05 + ori_time/90*(0.5-0.05)\n",
    "# ori_time = ori_time[9::10]\n",
    "\n",
    "# plt.plot((ibpm_time - 5502)/100, freq)\n",
    "# plt.plot(ori_time, ori_freq[9::10])\n",
    "# plt.show()\n",
    "\n",
    "# plt.plot(angle)\n",
    "# plt.show()\n",
    "\n",
    "# print(len(ibpm_time),len(angle), ori_time[-1], (ibpm_time[-1]-5501)/100)\n",
    "\n",
    "# print(angle[0], np.cos(2*np.pi*freq*(ibpm_time - 5501)/100)[0])\n",
    "\n",
    "# plt.plot(ibpm_time, angle)\n",
    "# plt.plot(ibpm_time, 5*np.cos(2*np.pi*freq*(ibpm_time - 5501)/100))"
   ]
  },
  {
   "cell_type": "code",
   "execution_count": 7,
   "id": "bfd2196f",
   "metadata": {},
   "outputs": [],
   "source": [
    "# Categorize the continuous frequency\n",
    "\n",
    "freq_cat = np.array([0, 0.05, 0.1, 0.2, 0.25, 0.3, 0.35, 0.4, 0.5, 0.6])\n",
    "\n",
    "# Set threshold values to be the mean value between two categoires. i.e. if 0.075 < x < 0.15 then 0.1\n",
    "thres = []\n",
    "for i in range(8):\n",
    "    thres.append(tuple([(freq_cat[i+1] + freq_cat[i])/2, (freq_cat[i+1] + freq_cat[i+2])/2]))\n",
    "\n",
    "freq_cat = np.array([0.05, 0.1, 0.2, 0.25, 0.3, 0.35, 0.4, 0.5])\n",
    "\n",
    "categorized_freq = []\n",
    "for i, f in enumerate(freq):\n",
    "    for cat_num in range(8):\n",
    "        bound = thres[cat_num]\n",
    "        if bound[0] < f and bound[1] > f:\n",
    "            categorized_freq.append(freq_cat[cat_num])\n",
    "            \n",
    "categorized_freq = np.array(categorized_freq)"
   ]
  },
  {
   "cell_type": "markdown",
   "id": "f4c1da99",
   "metadata": {},
   "source": [
    "# Chirp BoA 25"
   ]
  },
  {
   "cell_type": "code",
   "execution_count": 8,
   "id": "515c5a03",
   "metadata": {},
   "outputs": [
    {
     "name": "stdout",
     "output_type": "stream",
     "text": [
      "training : Counter({'25.0': 629}) Counter({'0.4': 105, '0.1': 105, '0.2': 105, '0.35': 70, '0.3': 70, '0.25': 70, '0.5': 69, '0.05': 35})\n",
      "validation : Counter({'25.0': 135}) Counter({'0.1': 23, '0.4': 22, '0.2': 22, '0.25': 15, '0.5': 15, '0.3': 15, '0.35': 15, '0.05': 8})\n",
      "test : Counter({'25.0': 135}) Counter({'0.4': 23, '0.2': 23, '0.1': 22, '0.25': 15, '0.3': 15, '0.35': 15, '0.5': 15, '0.05': 7})\n"
     ]
    }
   ],
   "source": [
    "# Load Chirp Data for boa 25\n",
    "\n",
    "chirp_X25 = np.zeros((len(ibpm_time), 200, 200))\n",
    "\n",
    "for i, timestep in enumerate(ibpm_time):\n",
    "    \n",
    "    UX, UY = velfield(timestep, 25)\n",
    "    \n",
    "    UX = UX[99:199, 399:599]\n",
    "    UY = UY[99:199, 399:599]\n",
    "    \n",
    "    chirp_X25[i] = np.concatenate((UX, UY))\n",
    "    \n",
    "chirp_X25 = chirp_X25.reshape(len(ibpm_time), 200, 200,1)\n",
    "\n",
    "boa = (np.full((len(ibpm_time), 1), 25.0)).reshape(-1,1)\n",
    "typ = (np.full((len(ibpm_time), 1), 'chirp')).reshape(-1,1)\n",
    "inst_angle = (25 - angle).reshape(-1,1)\n",
    "inst_freq = freq.reshape(-1,1)\n",
    "\n",
    "Y = np.column_stack((boa, categorized_freq, typ, inst_angle, inst_freq))\n",
    "\n",
    "\n",
    "# Split Chirp dataset into train : test : validation = 70 : 15 : 15\n",
    "train_X25, val_X25, train_Y25, val_Y25 = \\\n",
    "    train_test_split(chirp_X25, Y, test_size = 0.3, random_state = 0, shuffle = True, stratify = Y[:][:,0:2])\n",
    "\n",
    "test_X25, val_X25, test_Y25, val_Y25 = \\\n",
    "    train_test_split(val_X25, val_Y25, test_size = 0.5, random_state = 0, shuffle = True, stratify = val_Y25[:][:,0:2])\n",
    "\n",
    "# Check stratification\n",
    "print(\"training :\", Counter(train_Y25[:,0]), Counter(train_Y25[:, 1]))\n",
    "print('validation :', Counter(val_Y25[:,0]), Counter(val_Y25[:, 1]))\n",
    "print('test :', Counter(test_Y25[:,0]), Counter(test_Y25[:, 1]))"
   ]
  },
  {
   "cell_type": "markdown",
   "id": "6bc21d37",
   "metadata": {},
   "source": [
    "# Chirp BoA 30"
   ]
  },
  {
   "cell_type": "code",
   "execution_count": 9,
   "id": "c4540c9b",
   "metadata": {},
   "outputs": [
    {
     "name": "stdout",
     "output_type": "stream",
     "text": [
      "training : Counter({'30.0': 629}) Counter({'0.4': 105, '0.1': 105, '0.2': 105, '0.35': 70, '0.3': 70, '0.25': 70, '0.5': 69, '0.05': 35})\n",
      "validation : Counter({'30.0': 135}) Counter({'0.1': 23, '0.4': 22, '0.2': 22, '0.25': 15, '0.5': 15, '0.3': 15, '0.35': 15, '0.05': 8})\n",
      "test : Counter({'30.0': 135}) Counter({'0.4': 23, '0.2': 23, '0.1': 22, '0.25': 15, '0.3': 15, '0.35': 15, '0.5': 15, '0.05': 7})\n"
     ]
    }
   ],
   "source": [
    "# Load Chirp Data for boa 30\n",
    "\n",
    "chirp_X30 = np.zeros((len(ibpm_time), 200, 200))\n",
    "\n",
    "for i, timestep in enumerate(ibpm_time):\n",
    "    \n",
    "    UX, UY = velfield(timestep, 30)\n",
    "    \n",
    "    UX = UX[99:199, 399:599]\n",
    "    UY = UY[99:199, 399:599]\n",
    "    \n",
    "    chirp_X30[i] = np.concatenate((UX, UY))\n",
    "    \n",
    "chirp_X30 = chirp_X30.reshape(len(ibpm_time), 200, 200,1)\n",
    "\n",
    "boa = (np.full((len(ibpm_time), 1), 30.0)).reshape(-1,1)\n",
    "typ = (np.full((len(ibpm_time), 1), 'chirp')).reshape(-1,1)\n",
    "inst_angle = (30 - angle).reshape(-1,1)\n",
    "\n",
    "Y = np.column_stack((boa, categorized_freq, typ, inst_angle, inst_freq))\n",
    "\n",
    "\n",
    "# Split Chirp dataset into train : test : validation = 70 : 15 : 15\n",
    "train_X30, val_X30, train_Y30, val_Y30 = \\\n",
    "    train_test_split(chirp_X30, Y, test_size = 0.3, random_state = 0, shuffle = True, stratify = Y[:][:,0:2])\n",
    "\n",
    "test_X30, val_X30, test_Y30, val_Y30 = \\\n",
    "    train_test_split(val_X30, val_Y30, test_size = 0.5, random_state = 0, shuffle = True, stratify = val_Y30[:][:,0:2])\n",
    "\n",
    "\n",
    "# Check stratification\n",
    "print(\"training :\", Counter(train_Y30[:,0]), Counter(train_Y30[:, 1]))\n",
    "print('validation :', Counter(val_Y30[:,0]), Counter(val_Y30[:, 1]))\n",
    "print('test :', Counter(test_Y30[:,0]), Counter(test_Y30[:, 1]))"
   ]
  },
  {
   "cell_type": "markdown",
   "id": "d6e563a3",
   "metadata": {},
   "source": [
    "# Sinusoidal"
   ]
  },
  {
   "cell_type": "code",
   "execution_count": 7,
   "id": "ae623880",
   "metadata": {},
   "outputs": [
    {
     "name": "stdout",
     "output_type": "stream",
     "text": [
      "['.DS_Store', 'airfoilDNS_a25f0p05.h5', 'airfoilDNS_a25f0p1.h5', 'airfoilDNS_a25f0p2.h5', 'airfoilDNS_a25f0p25.h5', 'airfoilDNS_a25f0p3.h5', 'airfoilDNS_a25f0p35.h5', 'airfoilDNS_a25f0p4.h5', 'airfoilDNS_a25f0p5.h5', 'airfoilDNS_a30f0p05.h5', 'airfoilDNS_a30f0p1.h5', 'airfoilDNS_a30f0p2.h5', 'airfoilDNS_a30f0p25.h5', 'airfoilDNS_a30f0p3.h5', 'airfoilDNS_a30f0p35.h5', 'airfoilDNS_a30f0p4.h5', 'airfoilDNS_a30f0p5.h5']\n",
      ".DS_Store\n",
      "static!\n",
      "airfoilDNS_a25f0p05.h5\n",
      "0.05\n",
      "[25.    0.05]\n",
      "\n",
      " next\n",
      "Iter 0Iter 1Iter 2Iter 3Iter 4Iter 5Iter 6Iter 7Iter 8Iter 9airfoilDNS_a25f0p1.h5\n",
      "0.1\n",
      "[25.   0.1]\n",
      "\n",
      " next\n",
      "Iter 0Iter 1Iter 2Iter 3Iter 4Iter 5Iter 6Iter 7Iter 8Iter 9airfoilDNS_a25f0p2.h5\n",
      "0.2\n",
      "[25.   0.2]\n",
      "\n",
      " next\n",
      "Iter 0Iter 1Iter 2Iter 3Iter 4Iter 5Iter 6Iter 7Iter 8Iter 9airfoilDNS_a25f0p25.h5\n",
      "0.25\n",
      "[25.    0.25]\n",
      "\n",
      " next\n",
      "Iter 0Iter 1Iter 2Iter 3Iter 4Iter 5Iter 6Iter 7Iter 8Iter 9airfoilDNS_a25f0p3.h5\n",
      "0.3\n",
      "[25.   0.3]\n",
      "\n",
      " next\n",
      "Iter 0Iter 1Iter 2Iter 3Iter 4Iter 5Iter 6Iter 7Iter 8Iter 9airfoilDNS_a25f0p35.h5\n",
      "0.35\n",
      "[25.    0.35]\n",
      "\n",
      " next\n",
      "Iter 0Iter 1Iter 2Iter 3Iter 4Iter 5Iter 6Iter 7Iter 8Iter 9airfoilDNS_a25f0p4.h5\n",
      "0.4\n",
      "[25.   0.4]\n",
      "\n",
      " next\n",
      "Iter 0Iter 1Iter 2Iter 3Iter 4Iter 5Iter 6Iter 7Iter 8Iter 9airfoilDNS_a25f0p5.h5\n",
      "0.5\n",
      "[25.   0.5]\n",
      "\n",
      " next\n",
      "Iter 0Iter 1Iter 2Iter 3Iter 4Iter 5Iter 6Iter 7Iter 8Iter 9airfoilDNS_a30f0p05.h5\n",
      "0.05\n",
      "[30.    0.05]\n",
      "\n",
      " next\n",
      "Iter 0Iter 1Iter 2Iter 3Iter 4Iter 5Iter 6Iter 7Iter 8Iter 9airfoilDNS_a30f0p1.h5\n",
      "0.1\n",
      "[30.   0.1]\n",
      "\n",
      " next\n",
      "Iter 0Iter 1Iter 2Iter 3Iter 4Iter 5Iter 6Iter 7Iter 8Iter 9airfoilDNS_a30f0p2.h5\n",
      "0.2\n",
      "[30.   0.2]\n",
      "\n",
      " next\n",
      "Iter 0Iter 1Iter 2Iter 3Iter 4Iter 5Iter 6Iter 7Iter 8Iter 9airfoilDNS_a30f0p25.h5\n",
      "0.25\n",
      "[30.    0.25]\n",
      "\n",
      " next\n",
      "Iter 0Iter 1Iter 2Iter 3Iter 4Iter 5Iter 6Iter 7Iter 8Iter 9airfoilDNS_a30f0p3.h5\n",
      "0.3\n",
      "[30.   0.3]\n",
      "\n",
      " next\n",
      "Iter 0Iter 1Iter 2Iter 3Iter 4Iter 5Iter 6Iter 7Iter 8Iter 9airfoilDNS_a30f0p35.h5\n",
      "0.35\n",
      "[30.    0.35]\n",
      "\n",
      " next\n",
      "Iter 0Iter 1Iter 2Iter 3Iter 4Iter 5Iter 6Iter 7Iter 8Iter 9airfoilDNS_a30f0p4.h5\n",
      "0.4\n",
      "[30.   0.4]\n",
      "\n",
      " next\n",
      "Iter 0Iter 1Iter 2Iter 3Iter 4Iter 5Iter 6Iter 7Iter 8Iter 9airfoilDNS_a30f0p5.h5\n",
      "0.5\n",
      "[30.   0.5]\n",
      "\n",
      " next\n",
      "Iter 0Iter 1Iter 2Iter 3Iter 4Iter 5Iter 6Iter 7Iter 8Iter 9"
     ]
    }
   ],
   "source": [
    "original_data_dir = \"/Volumes/KleeFD/original data/\"\n",
    "\n",
    "filenames = os.listdir(original_data_dir)\n",
    "\n",
    "first_iter = True\n",
    "how_many_data = 0\n",
    "\n",
    "print(filenames)\n",
    "\n",
    "save_dir = '/Volumes/KleeFD/dataset/window_normalized/Window Size/one thirds/Unsplit Data/'\n",
    "\n",
    "\n",
    "for filename in filenames:\n",
    "    print(filename)\n",
    "    # Get frequency info from filename\n",
    "    try:\n",
    "        frequency = (filename.split('p')[1]).split('.')[0]\n",
    "        if len(frequency) == 1:\n",
    "            frequency += '0'\n",
    "        \n",
    "        frequency = int(frequency)/100\n",
    "        \n",
    "        print(frequency)\n",
    "        \n",
    "    except:\n",
    "        print(\"static!\")\n",
    "        # Skip if it is static\n",
    "        continue\n",
    "        \n",
    "        \n",
    "    # Get alpha info from filename\n",
    "    \n",
    "    alpha = float((filename.split('_')[1])[1:3])\n",
    "\n",
    "\n",
    "    # Get the velocity data\n",
    "    \n",
    "    file_path = original_data_dir + filename\n",
    "    file = h5py.File(file_path,'r')\n",
    "    ux = np.array(file['ux'])[:,99:199, 399:599]\n",
    "    uy = np.array(file['uy'])[:,99:199, 399:599]\n",
    "    inst_alpha = np.array(file['alpha']).reshape(-1)\n",
    "    \n",
    "    # Create label\n",
    "    label = np.array([float(alpha), (frequency)])\n",
    "    \n",
    "    file.close()\n",
    "\n",
    "    print(label)\n",
    "    \n",
    "    X = np.empty(shape = (0,200,200))\n",
    "    Y = np.empty(shape = (0,5))\n",
    "    for i in range(0,ux.shape[0]):\n",
    "        if i//10 == 0:\n",
    "            print(\"Iter\", i, end = '')\n",
    "        u = np.concatenate((ux[i], uy[i]), axis = 0)  \n",
    "        u = np.array([u])\n",
    "        label = np.array([[str(alpha), str(frequency), 'sin', str(inst_alpha[i]), str(frequency)]])        \n",
    "        X = np.append(X, u, axis = 0)\n",
    "        Y = np.append(Y, label, axis = 0)\n",
    "        \n",
    "    np.save(save_dir+filename+'_X.npy', X)\n",
    "    np.save(save_dir+filename+'_Y.npy', Y)\n",
    "    "
   ]
  },
  {
   "cell_type": "code",
   "execution_count": 10,
   "id": "a34d76ec",
   "metadata": {},
   "outputs": [
    {
     "name": "stdout",
     "output_type": "stream",
     "text": [
      "16\n"
     ]
    }
   ],
   "source": [
    "# append all the data into one array\n",
    "X = np.empty(shape = (0,200,200))\n",
    "Y = np.empty(shape = (0,5))\n",
    "\n",
    "filenames = ['airfoilDNS_a25f0p05.h5', 'airfoilDNS_a25f0p1.h5', 'airfoilDNS_a25f0p2.h5', 'airfoilDNS_a25f0p25.h5', 'airfoilDNS_a25f0p3.h5', 'airfoilDNS_a25f0p35.h5', 'airfoilDNS_a25f0p4.h5', 'airfoilDNS_a25f0p5.h5', 'airfoilDNS_a30f0p05.h5', 'airfoilDNS_a30f0p1.h5', 'airfoilDNS_a30f0p2.h5', 'airfoilDNS_a30f0p25.h5', 'airfoilDNS_a30f0p3.h5', 'airfoilDNS_a30f0p35.h5', 'airfoilDNS_a30f0p4.h5', 'airfoilDNS_a30f0p5.h5']\n",
    "save_dir = '/Volumes/KleeFD/dataset/window_normalized/Window Size/one thirds/Unsplit Data/'\n",
    "\n",
    "print(len(filenames))\n",
    "\n",
    "for filename in filenames:    \n",
    "    X = np.append(X, np.load(save_dir+filename+'_X.npy'), axis = 0)\n",
    "    Y = np.append(Y, np.load(save_dir+filename+'_Y.npy'), axis = 0)"
   ]
  },
  {
   "cell_type": "code",
   "execution_count": 11,
   "id": "76f7a167",
   "metadata": {},
   "outputs": [],
   "source": [
    "# Split Data\n",
    "train_X, val_X, train_Y, val_Y = \\\n",
    "    train_test_split(X, Y, test_size = 0.3, random_state = 0, shuffle = True, stratify = Y[:,0:2])\n",
    "\n",
    "test_X, val_X, test_Y, val_Y = \\\n",
    "    train_test_split(val_X, val_Y, test_size = 0.5, random_state = 0, shuffle = True, stratify = val_Y[:,0:2])"
   ]
  },
  {
   "cell_type": "code",
   "execution_count": 12,
   "id": "31abe135",
   "metadata": {},
   "outputs": [
    {
     "name": "stdout",
     "output_type": "stream",
     "text": [
      "training : Counter({'30.0': 5603, '25.0': 2248}) Counter({'0.1': 982, '0.25': 982, '0.4': 982, '0.2': 981, '0.5': 981, '0.35': 981, '0.3': 981, '0.05': 981})\n",
      "validation : Counter({'30.0': 1203, '25.0': 480}) Counter({'0.5': 211, '0.3': 211, '0.35': 211, '0.1': 210, '0.4': 210, '0.05': 210, '0.25': 210, '0.2': 210})\n",
      "test : Counter({'30.0': 1202, '25.0': 480}) Counter({'0.2': 211, '0.05': 211, '0.35': 210, '0.5': 210, '0.3': 210, '0.25': 210, '0.1': 210, '0.4': 210})\n"
     ]
    }
   ],
   "source": [
    "train_X = train_X.reshape(-1,200,200,1)\n",
    "val_X = val_X.reshape(-1,200,200,1)\n",
    "test_X = test_X.reshape(-1,200,200,1)\n",
    "\n",
    "# Check stratification\n",
    "print(\"training :\", Counter(train_Y[:,0]), Counter(train_Y[:, 1]))\n",
    "print('validation :', Counter(val_Y[:,0]), Counter(val_Y[:, 1]))\n",
    "print('test :', Counter(test_Y[:,0]), Counter(test_Y[:, 1]))"
   ]
  },
  {
   "cell_type": "markdown",
   "id": "8808d46e",
   "metadata": {},
   "source": [
    "# Preprocess"
   ]
  },
  {
   "cell_type": "code",
   "execution_count": 13,
   "id": "bc236ad7",
   "metadata": {},
   "outputs": [],
   "source": [
    "train_X = np.concatenate((train_X25, train_X30, train_X), axis = 0)\n",
    "val_X = np.concatenate((val_X25, val_X30, val_X), axis = 0)\n",
    "test_X = np.concatenate((test_X25, test_X30, test_X), axis = 0)"
   ]
  },
  {
   "cell_type": "code",
   "execution_count": 14,
   "id": "06698018",
   "metadata": {},
   "outputs": [],
   "source": [
    "train_Y = np.concatenate((train_Y25, train_Y30, train_Y), axis = 0)\n",
    "val_Y = np.concatenate((val_Y25, val_Y30, val_Y), axis = 0)\n",
    "test_Y = np.concatenate((test_Y25, test_Y30, test_Y), axis = 0)"
   ]
  },
  {
   "cell_type": "code",
   "execution_count": 15,
   "id": "92e0a094",
   "metadata": {},
   "outputs": [],
   "source": [
    "# zero-center\n",
    "mean = np.mean(train_X, axis = 0)\n",
    "\n",
    "train_X -= mean\n",
    "val_X -= mean\n",
    "test_X -= mean"
   ]
  },
  {
   "cell_type": "code",
   "execution_count": 16,
   "id": "25d6d776",
   "metadata": {},
   "outputs": [],
   "source": [
    "d = '/Volumes/KleeFD/dataset/dataset_chirp/04_sinusoidal + chirp _repreprocessed/'\n",
    "\n",
    "np.save(d+\"mean.npy\", mean)"
   ]
  },
  {
   "cell_type": "code",
   "execution_count": 17,
   "id": "d4d089dd",
   "metadata": {},
   "outputs": [
    {
     "name": "stdout",
     "output_type": "stream",
     "text": [
      "0.21903814447249836 0.422191862912087 -0.2759959115160803 -0.44240630080571963\n"
     ]
    }
   ],
   "source": [
    "# Min-Max scaling\n",
    "\n",
    "train_ux = train_X[:,0:100,:,:]; train_uy = train_X[:,100:200,:,:]\n",
    "val_ux = val_X[:,0:100,:,:]; val_uy = val_X[:,100:200,:,:]\n",
    "test_ux = test_X[:,0:100,:,:]; test_uy = test_X[:,100:200,:,:]\n",
    "\n",
    "\n",
    "ux_max = 0; ux_min = 10000; uy_max = 0; uy_min = 10000\n",
    "\n",
    "for ux in train_ux:\n",
    "    M = np.max(ux); m = np.min(ux)\n",
    "    if ux_max < M:\n",
    "        ux_max = M\n",
    "    elif ux_min > m:\n",
    "        ux_min = m\n",
    "   \n",
    "for uy in train_uy:\n",
    "    M = np.max(uy); m = np.min(uy)\n",
    "    if uy_max < M:\n",
    "        uy_max = M\n",
    "    if uy_min > m:\n",
    "        uy_min = m\n",
    "        \n",
    "print(ux_max, uy_max, ux_min, uy_min)\n",
    "ux_range = ux_max - ux_min\n",
    "uy_range = uy_max - uy_min\n",
    "\n",
    "train_ux /= ux_range; train_uy /= uy_range\n",
    "val_ux /= ux_range; val_uy /= uy_range\n",
    "test_ux /= ux_range; test_uy /= uy_range\n",
    "\n",
    "np.save(d+\"ux_range.npy\", ux_range)\n",
    "np.save(d+\"uy_range.npy\", uy_range)"
   ]
  },
  {
   "cell_type": "code",
   "execution_count": 15,
   "id": "bf3b4609",
   "metadata": {},
   "outputs": [],
   "source": [
    "for x, y, i in zip(train_ux, train_uy, range(len(train_uy))):\n",
    "    train_X[i,0:100,:,:] = x\n",
    "    train_X[i,100:200,:,:] = y\n",
    "for x, y, i in zip(val_ux, val_uy, range(len(val_uy))):\n",
    "    val_X[i,0:100,:,:] = x\n",
    "    val_X[i,100:200,:,:] = y\n",
    "for x, y, i  in zip(test_ux, test_uy, range(len(val_uy))):\n",
    "    test_X[i,0:100,:,:] = x\n",
    "    test_X[i,100:200,:,:] = y"
   ]
  },
  {
   "cell_type": "markdown",
   "id": "badfaddc",
   "metadata": {},
   "source": [
    "# Shuffle & Save"
   ]
  },
  {
   "cell_type": "code",
   "execution_count": 16,
   "id": "cb5209f2",
   "metadata": {},
   "outputs": [],
   "source": [
    "s = np.arange(val_X.shape[0])\n",
    "np.random.shuffle(s)\n",
    "\n",
    "val_X = val_X[s]\n",
    "val_Y = val_Y[s]\n",
    "\n",
    "s = np.arange(train_X.shape[0])\n",
    "np.random.shuffle(s)\n",
    "\n",
    "train_X = train_X[s]\n",
    "train_Y = train_Y[s]"
   ]
  },
  {
   "cell_type": "code",
   "execution_count": 17,
   "id": "bf8dee55",
   "metadata": {},
   "outputs": [],
   "source": [
    "d = '/Volumes/KleeFD/dataset/dataset_chirp/04_sinusoidal + chirp _repreprocessed/'\n",
    "\n",
    "np.save(d+'train_X.npy', train_X)\n",
    "np.save(d+'train_Y.npy', train_Y)\n",
    "\n",
    "np.save(d+'val_X.npy', val_X)\n",
    "np.save(d+'val_Y.npy', val_Y)\n",
    "\n",
    "np.save(d+'test_X.npy', test_X)\n",
    "np.save(d+'test_Y.npy', test_Y)"
   ]
  },
  {
   "cell_type": "code",
   "execution_count": 3,
   "id": "96f2f921",
   "metadata": {},
   "outputs": [
    {
     "name": "stdout",
     "output_type": "stream",
     "text": [
      "9109 1953 1952\n"
     ]
    }
   ],
   "source": [
    "d = '/Volumes/KleeFD/dataset/dataset_chirp/04_sinusoidal + chirp _repreprocessed/'\n",
    "\n",
    "train_Y = np.load(d+'train_Y.npy')\n",
    "val_Y = np.load(d+'val_Y.npy')\n",
    "test_Y = np.load(d+'test_Y.npy')\n",
    "\n",
    "print(len(train_Y), len(val_Y), len(test_Y))"
   ]
  },
  {
   "cell_type": "code",
   "execution_count": null,
   "id": "8bac132e",
   "metadata": {},
   "outputs": [],
   "source": []
  }
 ],
 "metadata": {
  "kernelspec": {
   "display_name": "tf_metal",
   "language": "python",
   "name": "tf25"
  },
  "language_info": {
   "codemirror_mode": {
    "name": "ipython",
    "version": 3
   },
   "file_extension": ".py",
   "mimetype": "text/x-python",
   "name": "python",
   "nbconvert_exporter": "python",
   "pygments_lexer": "ipython3",
   "version": "3.8.16"
  }
 },
 "nbformat": 4,
 "nbformat_minor": 5
}

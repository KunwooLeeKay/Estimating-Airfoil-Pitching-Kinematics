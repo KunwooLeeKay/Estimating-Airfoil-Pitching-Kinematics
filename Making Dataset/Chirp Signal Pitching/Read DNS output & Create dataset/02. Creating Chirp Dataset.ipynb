{
 "cells": [
  {
   "cell_type": "code",
   "execution_count": 1,
   "id": "e96bdd0b",
   "metadata": {},
   "outputs": [],
   "source": [
    "import numpy as np\n",
    "import matplotlib.pyplot as plt\n",
    "from scipy.signal import chirp\n",
    "from sklearn.model_selection import train_test_split"
   ]
  },
  {
   "cell_type": "markdown",
   "id": "007e3df6",
   "metadata": {},
   "source": [
    "# Load Chirp Dataset"
   ]
  },
  {
   "cell_type": "code",
   "execution_count": 2,
   "id": "4d323468",
   "metadata": {},
   "outputs": [],
   "source": [
    "vel30 = '/Volumes/KleeFD/dataset/dataset_chirp/00_boa30_f0p05f0p5/Chirp_BoA30_f0p05f0p5_L09000.npy'\n",
    "freq30 = '/Volumes/KleeFD/dataset/dataset_chirp/00_boa30_f0p05f0p5/FREQ_Chirp_BoA30_f0p05f0p5_L09000.npy'\n",
    "angle30 = '/Volumes/KleeFD/dataset/dataset_chirp/00_boa30_f0p05f0p5/ANGLE_Chirp_BoA30_f0p05f0p5_L09000.npy'\n",
    "\n",
    "vel25 = '/Volumes/KleeFD/dataset/dataset_chirp/01_boa25_f0p05f0p5/Chirp_BoA25_f0p05f0p5_L09000.npy'\n",
    "freq25 = '/Volumes/KleeFD/dataset/dataset_chirp/01_boa25_f0p05f0p5/FREQ_Chirp_BoA25_f0p05f0p5_L09000.npy'\n",
    "angle25 = '/Volumes/KleeFD/dataset/dataset_chirp/01_boa25_f0p05f0p5/ANGLE_Chirp_BoA25_f0p05f0p5_L09000.npy'"
   ]
  },
  {
   "cell_type": "code",
   "execution_count": 3,
   "id": "f415ab8f",
   "metadata": {},
   "outputs": [],
   "source": [
    "vel30 = np.load(vel30)\n",
    "freq30 = np.load(freq30)\n",
    "angle30 = np.load(angle30)\n",
    "\n",
    "vel25 = np.load(vel25)\n",
    "freq25 = np.load(freq25)\n",
    "angle25 = np.load(angle25)"
   ]
  },
  {
   "cell_type": "markdown",
   "id": "a7a1469a",
   "metadata": {},
   "source": [
    "# Categorized Label"
   ]
  },
  {
   "cell_type": "code",
   "execution_count": 4,
   "id": "b66c039d",
   "metadata": {},
   "outputs": [],
   "source": [
    "freq_cat = np.array([0, 0.05, 0.1, 0.2, 0.25, 0.3, 0.35, 0.4, 0.5, 0.6])\n",
    "\n",
    "# Set threshold values to be the mean value between two categoires. i.e. if 0.075 < x < 0.15 then 0.1\n",
    "thres = []\n",
    "for i in range(8):\n",
    "    thres.append(tuple([(freq_cat[i+1] + freq_cat[i])/2, (freq_cat[i+1] + freq_cat[i+2])/2]))\n",
    "\n",
    "freq_cat = np.array([0.05, 0.1, 0.2, 0.25, 0.3, 0.35, 0.4, 0.5])"
   ]
  },
  {
   "cell_type": "code",
   "execution_count": 5,
   "id": "f8b17819",
   "metadata": {},
   "outputs": [],
   "source": [
    "categorized_freq30 = []\n",
    "for i, f in enumerate(freq30):\n",
    "    for cat_num in range(8):\n",
    "        bound = thres[cat_num]\n",
    "        if bound[0] < f and bound[1] > f:\n",
    "            categorized_freq30.append(freq_cat[cat_num])\n",
    "            \n",
    "categorized_freq30 = np.array(categorized_freq30)"
   ]
  },
  {
   "cell_type": "code",
   "execution_count": 6,
   "id": "0188fb2c",
   "metadata": {},
   "outputs": [],
   "source": [
    "categorized_freq25 = []\n",
    "for i, f in enumerate(freq25):\n",
    "    for cat_num in range(8):\n",
    "        bound = thres[cat_num]\n",
    "        if bound[0] < f and bound[1] > f:\n",
    "            categorized_freq25.append(freq_cat[cat_num])\n",
    "            \n",
    "categorized_freq25 = np.array(categorized_freq25)"
   ]
  },
  {
   "cell_type": "code",
   "execution_count": 7,
   "id": "78116181",
   "metadata": {},
   "outputs": [],
   "source": [
    "freq30 = categorized_freq30\n",
    "freq25 = categorized_freq25"
   ]
  },
  {
   "cell_type": "markdown",
   "id": "f2a6915e",
   "metadata": {},
   "source": [
    "# Split & Create Dataset"
   ]
  },
  {
   "cell_type": "code",
   "execution_count": 8,
   "id": "e0affbeb",
   "metadata": {},
   "outputs": [],
   "source": [
    "test_X1 = np.zeros((180, 200, 200, 1))\n",
    "test_Y1 = np.zeros((180, 2))\n",
    "test_angle1 = np.zeros((180, 1))\n",
    "test_indices1 = []\n",
    "\n",
    "train_X1 = np.zeros((719, 200, 200, 1))\n",
    "train_Y1 = np.zeros((719, 2))\n",
    "train_angle1 = np.zeros((719, 1))\n",
    "train_indices1 = []"
   ]
  },
  {
   "cell_type": "code",
   "execution_count": 9,
   "id": "fbcf1205",
   "metadata": {
    "scrolled": true
   },
   "outputs": [],
   "source": [
    "test_count = 0\n",
    "train_count = 0\n",
    "\n",
    "for i,v,f,a in zip(range(len(vel30)), vel30, freq30, angle30):\n",
    "    \n",
    "    if i % 5 == 0: # Test Data 15%\n",
    "        test_X1[test_count,:,:,:] = v\n",
    "        test_Y1[test_count,0] = 30.\n",
    "        test_Y1[test_count,1] = f\n",
    "        test_angle1[test_count,:] = a\n",
    "        test_indices1.append(i)\n",
    "        test_count += 1\n",
    "        \n",
    "    else: # Training Data 85%\n",
    "        train_X1[train_count,:,:,:] = v\n",
    "        train_Y1[train_count,0] = 30.\n",
    "        train_Y1[train_count,1] = f\n",
    "        train_angle1[train_count,:] = a\n",
    "        train_indices1.append(i)\n",
    "        train_count += 1"
   ]
  },
  {
   "cell_type": "code",
   "execution_count": 10,
   "id": "5fd05a4f",
   "metadata": {},
   "outputs": [],
   "source": [
    "test_X2 = np.zeros((180, 200, 200, 1))\n",
    "test_Y2 = np.zeros((180, 2))\n",
    "test_angle2 = np.zeros((180, 1))\n",
    "test_indices2 = []\n",
    "\n",
    "train_X2 = np.zeros((719, 200, 200, 1))\n",
    "train_Y2 = np.zeros((719, 2))\n",
    "train_angle2 = np.zeros((719, 1))\n",
    "train_indices2 = []"
   ]
  },
  {
   "cell_type": "code",
   "execution_count": 11,
   "id": "7b215054",
   "metadata": {},
   "outputs": [],
   "source": [
    "test_count = 0\n",
    "train_count = 0\n",
    "\n",
    "for i,v,f,a in zip(range(len(vel25)), vel25, freq25, angle25):\n",
    "    \n",
    "    if i % 5 == 0: # Test Data 20%\n",
    "        test_X2[test_count,:,:,:] = v\n",
    "        test_Y2[test_count,0] = 25.\n",
    "        test_Y2[test_count,1] = f\n",
    "        test_angle2[test_count,:] = a\n",
    "        test_indices2.append(i)\n",
    "        test_count += 1\n",
    "        \n",
    "    else: # Training Data 80%\n",
    "        train_X2[train_count,:,:,:] = v\n",
    "        train_Y2[train_count,0] = 25.\n",
    "        train_Y2[train_count,1] = f\n",
    "        train_angle2[train_count,:] = a\n",
    "        train_indices2.append(i)\n",
    "        train_count += 1"
   ]
  },
  {
   "cell_type": "code",
   "execution_count": 12,
   "id": "88471d97",
   "metadata": {},
   "outputs": [],
   "source": [
    "test_X = np.concatenate((test_X1, test_X2), axis = 0)\n",
    "test_Y = np.concatenate((test_Y1, test_Y2), axis = 0)\n",
    "test_angle = np.concatenate((test_angle1, test_angle2), axis = 0)\n",
    "test_indices = np.array(test_indices1 + test_indices2)\n",
    "\n",
    "train_X = np.concatenate((train_X1, train_X2), axis = 0)\n",
    "train_Y = np.concatenate((train_Y1, train_Y2), axis = 0)\n",
    "train_angle = np.concatenate((train_angle1, train_angle2), axis = 0)\n",
    "train_indices = np.array(train_indices1 + train_indices2)"
   ]
  },
  {
   "cell_type": "code",
   "execution_count": 13,
   "id": "f8915406",
   "metadata": {},
   "outputs": [],
   "source": [
    "d = '/Volumes/KleeFD/dataset/dataset_chirp/02_boa25+30_f0p05f0p5/'"
   ]
  },
  {
   "cell_type": "markdown",
   "id": "b508a972",
   "metadata": {},
   "source": [
    "# Shuffle"
   ]
  },
  {
   "cell_type": "code",
   "execution_count": 14,
   "id": "2581cb18",
   "metadata": {},
   "outputs": [],
   "source": [
    "s = np.arange(test_X.shape[0])\n",
    "np.random.shuffle(s)\n",
    "\n",
    "test_X = test_X[s]\n",
    "test_Y = test_Y[s]\n",
    "test_angle = test_angle[s]\n",
    "test_indices = test_indices[s]\n",
    "\n",
    "\n",
    "s = np.arange(train_X.shape[0])\n",
    "np.random.shuffle(s)\n",
    "\n",
    "train_X = train_X[s]\n",
    "train_Y = train_Y[s]\n",
    "train_angle = train_angle[s]\n",
    "train_indices = train_indices[s]"
   ]
  },
  {
   "cell_type": "code",
   "execution_count": 15,
   "id": "1ee77c73",
   "metadata": {},
   "outputs": [
    {
     "name": "stdout",
     "output_type": "stream",
     "text": [
      "360 1438\n"
     ]
    }
   ],
   "source": [
    "print(len(test_X), len(train_X))"
   ]
  },
  {
   "cell_type": "code",
   "execution_count": 16,
   "id": "6f2028d6",
   "metadata": {},
   "outputs": [],
   "source": [
    "np.save(d+'test_X.npy', test_X)\n",
    "np.save(d+'test_Y.npy', test_Y)\n",
    "np.save(d+'test_angle.npy', test_angle)\n",
    "np.save(d+'test_indices.npy', test_indices)\n",
    "\n",
    "np.save(d+'train_X.npy', train_X)\n",
    "np.save(d+'train_Y.npy', train_Y)\n",
    "np.save(d+'train_angle.npy', train_angle)\n",
    "np.save(d+'train_indices.npy', train_indices)"
   ]
  },
  {
   "cell_type": "code",
   "execution_count": null,
   "id": "20fe1ef9",
   "metadata": {},
   "outputs": [],
   "source": []
  },
  {
   "cell_type": "code",
   "execution_count": null,
   "id": "68260296",
   "metadata": {},
   "outputs": [],
   "source": []
  }
 ],
 "metadata": {
  "kernelspec": {
   "display_name": "tf_metal",
   "language": "python",
   "name": "tf25"
  },
  "language_info": {
   "codemirror_mode": {
    "name": "ipython",
    "version": 3
   },
   "file_extension": ".py",
   "mimetype": "text/x-python",
   "name": "python",
   "nbconvert_exporter": "python",
   "pygments_lexer": "ipython3",
   "version": "3.8.16"
  }
 },
 "nbformat": 4,
 "nbformat_minor": 5
}

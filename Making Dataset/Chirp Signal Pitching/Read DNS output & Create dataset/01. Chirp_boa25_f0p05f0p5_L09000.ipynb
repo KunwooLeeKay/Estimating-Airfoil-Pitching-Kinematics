{
 "cells": [
  {
   "cell_type": "code",
   "execution_count": 2,
   "id": "e96bdd0b",
   "metadata": {},
   "outputs": [],
   "source": [
    "import numpy as np\n",
    "import matplotlib.pyplot as plt\n",
    "from scipy.signal import chirp"
   ]
  },
  {
   "cell_type": "code",
   "execution_count": 2,
   "id": "0ba7f96c",
   "metadata": {},
   "outputs": [],
   "source": [
    "def velfield(ts):\n",
    "    \n",
    "    path = '/Users/kunwoosmac/Library/CloudStorage/OneDrive-IllinoisInstituteofTechnology/ibpm test/klee_Chirp_BoA25_f0p05f0p5_L09000/ibpm'\\\n",
    "                + str(format(ts, '05'))+'.plt'\n",
    "    with open(path) as file:\n",
    "        f_text = file.read()\n",
    "\n",
    "    f_list = f_text[191:]\n",
    "    f_list = f_list.split(' ')\n",
    "    f_list.pop()\n",
    "\n",
    "    UX, UY = [], []\n",
    "    for idx, val in enumerate(f_list):\n",
    "        if val[0] == '\\n':\n",
    "            UX.append(float(f_list[idx+2]))\n",
    "            UY.append(float(f_list[idx+3]))\n",
    "    UX = np.array(UX); UY = np.array(UY)\n",
    "\n",
    "    UX = UX.reshape(299, 599)\n",
    "    UY = UY.reshape(299, 599)\n",
    "\n",
    "    return UX, UY"
   ]
  },
  {
   "cell_type": "markdown",
   "id": "56ad5b10",
   "metadata": {},
   "source": [
    "## define ibpmtimestep <-> frequency"
   ]
  },
  {
   "cell_type": "code",
   "execution_count": 3,
   "id": "021f4f9f",
   "metadata": {},
   "outputs": [],
   "source": [
    "ibpm_time = np.arange(5510, 14500, 10)\n",
    "freq = 0.05 + ((ibpm_time - 5501)/100)/90*(0.5-0.05)\n",
    "\n",
    "ori_time = np.arange(0, 90, 0.01)\n",
    "angle = chirp(ori_time, 0.05, 45, 0.5, method = 'linear', phi = 0)\n",
    "angle = angle[9::10][:-1]\n",
    "\n",
    "# ori_freq = 0.05 + ori_time/90*(0.5-0.05)\n",
    "# ori_time = ori_time[9::10]\n",
    "\n",
    "# plt.plot((ibpm_time - 5502)/100, freq)\n",
    "# plt.plot(ori_time, ori_freq[9::10])\n",
    "# plt.show()\n",
    "# plt.plot(angle)\n",
    "\n",
    "# print(len(ibpm_time),len(angle), ori_time[-1], (ibpm_time[-1]-5501)/100)\n",
    "\n",
    "# print(angle[0], np.cos(2*np.pi*freq*(ibpm_time - 5501)/100)[0])\n",
    "\n",
    "# plt.plot(ibpm_time, angle)\n",
    "# plt.plot(ibpm_time, np.cos(2*np.pi*freq*(ibpm_time - 5501)/100))"
   ]
  },
  {
   "cell_type": "markdown",
   "id": "fa835e4e",
   "metadata": {},
   "source": [
    "## Create Dataset & Preprocess"
   ]
  },
  {
   "cell_type": "code",
   "execution_count": 4,
   "id": "93522b5d",
   "metadata": {},
   "outputs": [],
   "source": [
    "chirp_X = np.zeros((len(ibpm_time), 200, 200))\n",
    "\n",
    "for i, timestep in enumerate(ibpm_time):\n",
    "    \n",
    "    UX, UY = velfield(timestep)\n",
    "    \n",
    "    UX = UX[99:199, 399:599]\n",
    "    UY = UY[99:199, 399:599]\n",
    "    \n",
    "    chirp_X[i] = np.concatenate((UX, UY))"
   ]
  },
  {
   "cell_type": "code",
   "execution_count": 5,
   "id": "4d323468",
   "metadata": {},
   "outputs": [],
   "source": [
    "chirp_X = chirp_X.reshape(len(ibpm_time), 200, 200,1)\n",
    "chirp_X -= np.mean(chirp_X, axis = 0)"
   ]
  },
  {
   "cell_type": "code",
   "execution_count": 6,
   "id": "7fe0d22d",
   "metadata": {},
   "outputs": [
    {
     "name": "stdout",
     "output_type": "stream",
     "text": [
      "0.24852389432703026 0.34628591022424915 -0.23489891434927745 -0.3475330311546162\n"
     ]
    }
   ],
   "source": [
    "train_ux = chirp_X[:,0:100,:,:]; train_uy = chirp_X[:,100:200,:,:]\n",
    "\n",
    "ux_max = 0; ux_min = 10000; uy_max = 0; uy_min = 10000\n",
    "\n",
    "for ux in train_ux:\n",
    "    M = np.max(ux); m = np.min(ux)\n",
    "    if ux_max < M:\n",
    "        ux_max = M\n",
    "    elif ux_min > m:\n",
    "        ux_min = m\n",
    "   \n",
    "for uy in train_uy:\n",
    "    M = np.max(uy); m = np.min(uy)\n",
    "    if uy_max < M:\n",
    "        uy_max = M\n",
    "    if uy_min > m:\n",
    "        uy_min = m\n",
    "        \n",
    "print(ux_max, uy_max, ux_min, uy_min)\n",
    "ux_range = ux_max - ux_min\n",
    "uy_range = uy_max - uy_min\n",
    "\n",
    "train_ux /= ux_range; train_uy /= uy_range"
   ]
  },
  {
   "cell_type": "code",
   "execution_count": 7,
   "id": "c2d94310",
   "metadata": {},
   "outputs": [],
   "source": [
    "for x, y, i in zip(train_ux, train_uy, range(len(train_uy))):\n",
    "    chirp_X[i,0:100,:,:] = x\n",
    "    chirp_X[i,100:200,:,:] = y"
   ]
  },
  {
   "cell_type": "code",
   "execution_count": 8,
   "id": "ccb2cb9e",
   "metadata": {},
   "outputs": [],
   "source": [
    "np.save('/Volumes/KleeFD/dataset/dataset_chirp/01_boa25_f0p05f0p5/Chirp_BoA25_f0p05f0p5_L09000.npy', chirp_X)"
   ]
  },
  {
   "cell_type": "code",
   "execution_count": 9,
   "id": "ace55c4c",
   "metadata": {},
   "outputs": [],
   "source": [
    "np.save('/Volumes/KleeFD/dataset/dataset_chirp/01_boa25_f0p05f0p5/FREQ_Chirp_BoA25_f0p05f0p5_L09000.npy', freq)\n",
    "np.save('/Volumes/KleeFD/dataset/dataset_chirp/01_boa25_f0p05f0p5/ANGLE_Chirp_BoA25_f0p05f0p5_L09000.npy', angle)"
   ]
  },
  {
   "cell_type": "code",
   "execution_count": null,
   "id": "b01318aa",
   "metadata": {},
   "outputs": [],
   "source": []
  }
 ],
 "metadata": {
  "kernelspec": {
   "display_name": "tf_metal",
   "language": "python",
   "name": "tf25"
  },
  "language_info": {
   "codemirror_mode": {
    "name": "ipython",
    "version": 3
   },
   "file_extension": ".py",
   "mimetype": "text/x-python",
   "name": "python",
   "nbconvert_exporter": "python",
   "pygments_lexer": "ipython3",
   "version": "3.8.16"
  }
 },
 "nbformat": 4,
 "nbformat_minor": 5
}

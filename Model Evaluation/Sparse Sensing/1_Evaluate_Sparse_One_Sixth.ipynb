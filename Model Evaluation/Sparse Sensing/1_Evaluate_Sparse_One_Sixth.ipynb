{
 "cells": [
  {
   "cell_type": "markdown",
   "id": "78d745b1",
   "metadata": {},
   "source": [
    "# Sparse Sensing - 100 x 100 (1/6)\n",
    "## Both UX and UY"
   ]
  },
  {
   "cell_type": "code",
   "execution_count": 1,
   "id": "5a942f51",
   "metadata": {},
   "outputs": [],
   "source": [
    "from tensorflow import keras\n",
    "import numpy as np\n",
    "from sklearn.metrics import confusion_matrix\n",
    "from collections import Counter\n",
    "from matplotlib import pyplot as plt\n",
    "import tensorflow as tf\n",
    "from sklearn.metrics import classification_report\n",
    "from sklearn.preprocessing import OneHotEncoder"
   ]
  },
  {
   "cell_type": "code",
   "execution_count": 2,
   "id": "fcb32293",
   "metadata": {},
   "outputs": [],
   "source": [
    "model = keras.models.load_model(r\"C:\\Users\\bono2\\Desktop\\Pitching Airfoil\\Testing effect of sparse sensing\\sparse_one_sixth.h5\")"
   ]
  },
  {
   "cell_type": "code",
   "execution_count": 3,
   "id": "bb2e16b3",
   "metadata": {},
   "outputs": [],
   "source": [
    "dir = r'C:\\Users\\bono2\\Desktop\\Pitching Airfoil\\dataset\\sparse_sensing\\sparse_one_sixth'"
   ]
  },
  {
   "cell_type": "code",
   "execution_count": 4,
   "id": "487822b0",
   "metadata": {},
   "outputs": [],
   "source": [
    "import itertools\n",
    "def plot_confusion_matrix(cm, classes,\n",
    "                          normalize=False,\n",
    "                          title='Confusion matrix',\n",
    "                          cmap=plt.cm.Blues):\n",
    "    \"\"\"\n",
    "    This function prints and plots the confusion matrix.\n",
    "    Normalization can be applied by setting `normalize=True`.\n",
    "    \"\"\"\n",
    "    if normalize:\n",
    "        cm = cm.astype('float') / cm.sum(axis=1)[:, np.newaxis]\n",
    "        print(\"Normalized confusion matrix\")\n",
    "    else:\n",
    "        print('Confusion matrix, without normalization')\n",
    "\n",
    "    plt.imshow(cm, interpolation='nearest', cmap=cmap)\n",
    "    plt.title(title)\n",
    "    plt.colorbar()\n",
    "    tick_marks = np.arange(len(classes))\n",
    "    plt.xticks(tick_marks, classes, rotation=45)\n",
    "    plt.yticks(tick_marks, classes)\n",
    "\n",
    "    fmt = '.2f' if normalize else 'd'\n",
    "    thresh = cm.max() / 2.\n",
    "    for i, j in itertools.product(range(cm.shape[0]), range(cm.shape[1])):\n",
    "        plt.text(j, i, format(cm[i, j], fmt),\n",
    "                 horizontalalignment=\"center\",\n",
    "                 color=\"white\" if cm[i, j] > thresh else \"black\")\n",
    "\n",
    "    plt.tight_layout()\n",
    "    plt.ylabel('True label')\n",
    "    plt.xlabel('Predicted label')"
   ]
  },
  {
   "cell_type": "markdown",
   "id": "cc50c55b",
   "metadata": {},
   "source": [
    "## TEST DATA"
   ]
  },
  {
   "cell_type": "code",
   "execution_count": 5,
   "id": "4e01477d",
   "metadata": {},
   "outputs": [
    {
     "data": {
      "text/plain": [
       "array(['25.0, 0.05', '25.0, 0.1', '25.0, 0.2', '25.0, 0.25', '25.0, 0.3',\n",
       "       '25.0, 0.35', '25.0, 0.4', '25.0, 0.5', '30.0, 0.05', '30.0, 0.1',\n",
       "       '30.0, 0.2', '30.0, 0.25', '30.0, 0.3', '30.0, 0.35', '30.0, 0.4',\n",
       "       '30.0, 0.5'], dtype='<U10')"
      ]
     },
     "execution_count": 5,
     "metadata": {},
     "output_type": "execute_result"
    }
   ],
   "source": [
    "test_X = np.load(dir + r'\\test_X.npy')\n",
    "test_Y = (np.load(dir + r'\\test_Y.npy')).reshape(-1,2)\n",
    "Y = np.zeros((len(test_Y), 1), dtype = '<U10')\n",
    "for i in range(len(test_Y)):\n",
    "    Y[i] = (str(test_Y[i,0])+', '+ str(test_Y[i, 1]))\n",
    "test_Y = Y\n",
    "\n",
    "OHE = OneHotEncoder(sparse = False)\n",
    "test_Y = OHE.fit_transform(test_Y)\n",
    "\n",
    "OHE.categories_[0]"
   ]
  },
  {
   "cell_type": "code",
   "execution_count": 6,
   "id": "a70a482b",
   "metadata": {},
   "outputs": [
    {
     "name": "stdout",
     "output_type": "stream",
     "text": [
      "53/53 [==============================] - 3s 11ms/step\n"
     ]
    }
   ],
   "source": [
    "# Get Predictions (reverse to_categorical)\n",
    "pred_proba = model.predict(test_X)\n",
    "prediction = np.argmax(pred_proba, axis = 1)\n",
    "actual = np.argmax(test_Y, axis = 1)"
   ]
  },
  {
   "cell_type": "code",
   "execution_count": 7,
   "id": "463e452c",
   "metadata": {},
   "outputs": [
    {
     "name": "stdout",
     "output_type": "stream",
     "text": [
      "              precision    recall  f1-score   support\n",
      "\n",
      "           0       1.00      1.00      1.00        56\n",
      "           1       1.00      1.00      1.00        56\n",
      "           2       1.00      1.00      1.00        52\n",
      "           3       1.00      1.00      1.00        52\n",
      "           4       1.00      1.00      1.00        55\n",
      "           5       1.00      1.00      1.00        56\n",
      "           6       1.00      1.00      1.00        67\n",
      "           7       1.00      1.00      1.00        57\n",
      "           8       1.00      1.00      1.00       154\n",
      "           9       1.00      1.00      1.00       154\n",
      "          10       1.00      1.00      1.00       158\n",
      "          11       1.00      1.00      1.00       158\n",
      "          12       1.00      1.00      1.00       155\n",
      "          13       1.00      1.00      1.00       154\n",
      "          14       1.00      1.00      1.00       143\n",
      "          15       1.00      1.00      1.00       153\n",
      "\n",
      "    accuracy                           1.00      1680\n",
      "   macro avg       1.00      1.00      1.00      1680\n",
      "weighted avg       1.00      1.00      1.00      1680\n",
      "\n"
     ]
    }
   ],
   "source": [
    "print(classification_report(actual, prediction))"
   ]
  },
  {
   "cell_type": "code",
   "execution_count": 8,
   "id": "def66ec4",
   "metadata": {},
   "outputs": [
    {
     "name": "stdout",
     "output_type": "stream",
     "text": [
      "Test Accuracy =  1.0\n"
     ]
    }
   ],
   "source": [
    "correct = 0\n",
    "wrong_indices = []\n",
    "wrong_actual = []\n",
    "wrong_pred = []\n",
    "\n",
    "for i in range(actual.shape[0]):\n",
    "    if actual[i] == prediction[i]:\n",
    "        correct += 1\n",
    "    else:\n",
    "        wrong_indices.append(i)\n",
    "        wrong_pred.append(prediction[i])\n",
    "        wrong_actual.append(actual[i])\n",
    "\n",
    "\n",
    "accuracy = correct/int(actual.shape[0])\n",
    "print(\"Test Accuracy = \", accuracy)"
   ]
  },
  {
   "cell_type": "code",
   "execution_count": 9,
   "id": "dd647eb9",
   "metadata": {
    "scrolled": false
   },
   "outputs": [
    {
     "name": "stdout",
     "output_type": "stream",
     "text": [
      "Confusion matrix, without normalization\n"
     ]
    },
    {
     "data": {
      "image/png": "[encoded data removed]",
      "text/plain": [
       "<Figure size 800x800 with 2 Axes>"
      ]
     },
     "metadata": {},
     "output_type": "display_data"
    }
   ],
   "source": [
    "# Compute confusion matrix\n",
    "cnf_matrix = confusion_matrix(actual, prediction)\n",
    "np.set_printoptions(precision=2)\n",
    "\n",
    "# Plot non-normalized confusion matrix\n",
    "plt.figure(figsize=(8, 8))\n",
    "plot_confusion_matrix(cnf_matrix, classes=list(OHE.categories_)[0],normalize=False,\n",
    "                      title='Confusion matrix')\n",
    "plt.show()"
   ]
  },
  {
   "cell_type": "markdown",
   "id": "f7f7cd8a",
   "metadata": {},
   "source": [
    "## VALIDATION DATA"
   ]
  },
  {
   "cell_type": "code",
   "execution_count": 10,
   "id": "39862676",
   "metadata": {},
   "outputs": [],
   "source": [
    "val_X = np.load(dir + r'\\val_X.npy')\n",
    "val_Y = (np.load(dir + r'\\val_Y.npy')).reshape(-1,2)\n",
    "Y = np.zeros((len(val_Y), 1), dtype = '<U10')\n",
    "for i in range(len(val_Y)):\n",
    "    Y[i] = (str(val_Y[i,0])+', '+ str(val_Y[i, 1]))\n",
    "val_Y = Y\n",
    "\n",
    "val_Y = OHE.transform(val_Y)"
   ]
  },
  {
   "cell_type": "code",
   "execution_count": 11,
   "id": "6de0ac13",
   "metadata": {},
   "outputs": [
    {
     "name": "stdout",
     "output_type": "stream",
     "text": [
      "53/53 [==============================] - 1s 9ms/step\n"
     ]
    }
   ],
   "source": [
    "# Get Predictions (reverse to_categorical)\n",
    "pred_proba = model.predict(val_X)\n",
    "prediction = np.argmax(pred_proba, axis = 1)\n",
    "actual = np.argmax(val_Y, axis = 1)\n",
    "del val_X\n",
    "del val_Y"
   ]
  },
  {
   "cell_type": "code",
   "execution_count": 12,
   "id": "6b0ea07f",
   "metadata": {},
   "outputs": [
    {
     "name": "stdout",
     "output_type": "stream",
     "text": [
      "              precision    recall  f1-score   support\n",
      "\n",
      "           0       1.00      1.00      1.00        68\n",
      "           1       1.00      1.00      1.00        68\n",
      "           2       1.00      1.00      1.00        65\n",
      "           3       1.00      1.00      1.00        69\n",
      "           4       1.00      1.00      1.00        77\n",
      "           5       1.00      1.00      1.00        59\n",
      "           6       1.00      1.00      1.00        54\n",
      "           7       1.00      1.00      1.00        69\n",
      "           8       1.00      1.00      1.00       142\n",
      "           9       1.00      1.00      1.00       142\n",
      "          10       1.00      1.00      1.00       145\n",
      "          11       1.00      1.00      1.00       141\n",
      "          12       1.00      1.00      1.00       133\n",
      "          13       1.00      1.00      1.00       151\n",
      "          14       1.00      1.00      1.00       156\n",
      "          15       1.00      1.00      1.00       141\n",
      "\n",
      "    accuracy                           1.00      1680\n",
      "   macro avg       1.00      1.00      1.00      1680\n",
      "weighted avg       1.00      1.00      1.00      1680\n",
      "\n"
     ]
    }
   ],
   "source": [
    "print(classification_report(actual, prediction))"
   ]
  },
  {
   "cell_type": "code",
   "execution_count": 13,
   "id": "1f0ff6a9",
   "metadata": {},
   "outputs": [
    {
     "name": "stdout",
     "output_type": "stream",
     "text": [
      "Validation Accuracy =  1.0\n"
     ]
    }
   ],
   "source": [
    "correct = 0\n",
    "wrong_indices = []\n",
    "wrong_actual = []\n",
    "wrong_pred = []\n",
    "\n",
    "for i in range(actual.shape[0]):\n",
    "    if actual[i] == prediction[i]:\n",
    "        correct += 1\n",
    "    else:\n",
    "        wrong_indices.append(i)\n",
    "        wrong_pred.append(prediction[i])\n",
    "        wrong_actual.append(actual[i])\n",
    "\n",
    "\n",
    "accuracy = correct/int(actual.shape[0])\n",
    "print(\"Validation Accuracy = \", accuracy)"
   ]
  },
  {
   "cell_type": "code",
   "execution_count": null,
   "id": "0e532d82",
   "metadata": {},
   "outputs": [
    {
     "name": "stdout",
     "output_type": "stream",
     "text": [
      "Confusion matrix, without normalization\n"
     ]
    }
   ],
   "source": [
    "# Compute confusion matrix\n",
    "cnf_matrix = confusion_matrix(actual, prediction)\n",
    "np.set_printoptions(precision=2)\n",
    "\n",
    "# Plot non-normalized confusion matrix\n",
    "plt.figure(figsize=(8,8))\n",
    "plot_confusion_matrix(cnf_matrix, classes=list(OHE.categories_)[0],normalize=False,\n",
    "                      title='Confusion matrix')\n",
    "plt.show()"
   ]
  },
  {
   "cell_type": "markdown",
   "id": "1cacda3a",
   "metadata": {},
   "source": [
    "## TRAIN DATA"
   ]
  },
  {
   "cell_type": "code",
   "execution_count": null,
   "id": "63e14c6d",
   "metadata": {},
   "outputs": [],
   "source": [
    "train_X = np.load(dir + r'\\train_X.npy', mmap_mode='r')\n",
    "train_Y = (np.load(dir + r'\\train_Y.npy')).reshape(-1,2)\n",
    "Y = np.zeros((len(train_Y), 1), dtype = '<U10')\n",
    "for i in range(len(train_Y)):\n",
    "    Y[i] = (str(train_Y[i,0])+', '+ str(train_Y[i, 1]))\n",
    "train_Y = Y\n",
    "\n",
    "train_Y = OHE.transform(train_Y)\n",
    "\n",
    "# Get Predictions (reverse to_categorical)\n",
    "pred_proba = model.predict(train_X)\n",
    "prediction = np.argmax(pred_proba, axis = 1)\n",
    "actual = np.argmax(train_Y, axis = 1)"
   ]
  },
  {
   "cell_type": "code",
   "execution_count": null,
   "id": "d2b1f84d",
   "metadata": {},
   "outputs": [],
   "source": [
    "print(classification_report(actual, prediction))"
   ]
  },
  {
   "cell_type": "code",
   "execution_count": null,
   "id": "dde5467b",
   "metadata": {},
   "outputs": [],
   "source": [
    "correct = 0\n",
    "wrong_indices = []\n",
    "wrong_actual = []\n",
    "wrong_pred = []\n",
    "\n",
    "for i in range(actual.shape[0]):\n",
    "    if actual[i] == prediction[i]:\n",
    "        correct += 1\n",
    "    else:\n",
    "        wrong_indices.append(i)\n",
    "        wrong_pred.append(prediction[i])\n",
    "        wrong_actual.append(actual[i])\n",
    "\n",
    "\n",
    "accuracy = correct/int(actual.shape[0])\n",
    "print(\"Train Accuracy = \", accuracy)"
   ]
  },
  {
   "cell_type": "code",
   "execution_count": null,
   "id": "fc7e03e5",
   "metadata": {},
   "outputs": [],
   "source": [
    "# Compute confusion matrix\n",
    "cnf_matrix = confusion_matrix(actual, prediction)\n",
    "np.set_printoptions(precision=2)\n",
    "\n",
    "# Plot non-normalized confusion matrix\n",
    "plt.figure(figsize=(8, 8))\n",
    "plot_confusion_matrix(cnf_matrix, classes=list(OHE.categories_)[0],normalize=False,\n",
    "                      title='Confusion matrix')\n",
    "plt.show()"
   ]
  },
  {
   "cell_type": "code",
   "execution_count": null,
   "id": "f6ca0ec0",
   "metadata": {},
   "outputs": [],
   "source": []
  },
  {
   "cell_type": "code",
   "execution_count": null,
   "id": "b4e0008c",
   "metadata": {},
   "outputs": [],
   "source": []
  },
  {
   "cell_type": "code",
   "execution_count": null,
   "id": "6da8eb2f",
   "metadata": {},
   "outputs": [],
   "source": []
  }
 ],
 "metadata": {
  "kernelspec": {
   "display_name": "tensorflow",
   "language": "python",
   "name": "tensorflow"
  },
  "language_info": {
   "codemirror_mode": {
    "name": "ipython",
    "version": 3
   },
   "file_extension": ".py",
   "mimetype": "text/x-python",
   "name": "python",
   "nbconvert_exporter": "python",
   "pygments_lexer": "ipython3",
   "version": "3.7.16"
  }
 },
 "nbformat": 4,
 "nbformat_minor": 5
}

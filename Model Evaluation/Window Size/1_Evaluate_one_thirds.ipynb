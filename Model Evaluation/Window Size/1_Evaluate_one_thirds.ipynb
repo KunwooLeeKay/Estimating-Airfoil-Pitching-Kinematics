{
 "cells": [
  {
   "cell_type": "markdown",
   "id": "78d745b1",
   "metadata": {},
   "source": [
    "# Model Using 1/3 Window - Normalized\n",
    "## Both UX and UY"
   ]
  },
  {
   "cell_type": "code",
   "execution_count": 11,
   "id": "5a942f51",
   "metadata": {},
   "outputs": [],
   "source": [
    "from tensorflow import keras\n",
    "import numpy as np\n",
    "from sklearn.metrics import confusion_matrix\n",
    "from collections import Counter\n",
    "from matplotlib import pyplot as plt\n",
    "import tensorflow as tf\n",
    "from sklearn.metrics import classification_report\n",
    "from sklearn.preprocessing import OneHotEncoder"
   ]
  },
  {
   "cell_type": "code",
   "execution_count": 12,
   "id": "fcb32293",
   "metadata": {},
   "outputs": [],
   "source": [
    "model = tf.keras.models.load_model(\"/Users/kunwoosmac/Library/CloudStorage/OneDrive-IllinoisInstituteofTechnology/Lab PC backup/Pitching Airfoil/models/Testing effect of window size/one thirds/iter 1.h5\")"
   ]
  },
  {
   "cell_type": "code",
   "execution_count": 13,
   "id": "487822b0",
   "metadata": {},
   "outputs": [],
   "source": [
    "import itertools\n",
    "def plot_confusion_matrix(cm, classes,\n",
    "                          normalize=False,\n",
    "                          title='Confusion matrix',\n",
    "                          cmap=plt.cm.Blues):\n",
    "    \"\"\"\n",
    "    This function prints and plots the confusion matrix.\n",
    "    Normalization can be applied by setting `normalize=True`.\n",
    "    \"\"\"\n",
    "    if normalize:\n",
    "        cm = cm.astype('float') / cm.sum(axis=1)[:, np.newaxis]\n",
    "        print(\"Normalized confusion matrix\")\n",
    "    else:\n",
    "        print('Confusion matrix, without normalization')\n",
    "\n",
    "    plt.imshow(cm, interpolation='nearest', cmap=cmap)\n",
    "    plt.title(title)\n",
    "    plt.colorbar()\n",
    "    tick_marks = np.arange(len(classes))\n",
    "    plt.xticks(tick_marks, classes, rotation=45)\n",
    "    plt.yticks(tick_marks, classes)\n",
    "\n",
    "    fmt = '.2f' if normalize else 'd'\n",
    "    thresh = cm.max() / 2.\n",
    "    for i, j in itertools.product(range(cm.shape[0]), range(cm.shape[1])):\n",
    "        plt.text(j, i, format(cm[i, j], fmt),\n",
    "                 horizontalalignment=\"center\",\n",
    "                 color=\"white\" if cm[i, j] > thresh else \"black\")\n",
    "\n",
    "    plt.tight_layout()\n",
    "    plt.ylabel('True label')\n",
    "    plt.xlabel('Predicted label')"
   ]
  },
  {
   "cell_type": "code",
   "execution_count": 14,
   "id": "52d1db52",
   "metadata": {},
   "outputs": [],
   "source": [
    "dir = '/Users/kunwoosmac/Library/CloudStorage/OneDrive-IllinoisInstituteofTechnology/Lab PC backup/Pitching Airfoil/dataset/window_normalized/Window Size/one thirds'"
   ]
  },
  {
   "cell_type": "markdown",
   "id": "cc50c55b",
   "metadata": {},
   "source": [
    "## TEST DATA"
   ]
  },
  {
   "cell_type": "code",
   "execution_count": 15,
   "id": "4e01477d",
   "metadata": {},
   "outputs": [
    {
     "data": {
      "text/plain": [
       "[array(['25.0, 0.05', '25.0, 0.1', '25.0, 0.2', '25.0, 0.25', '25.0, 0.3',\n",
       "        '25.0, 0.35', '25.0, 0.4', '25.0, 0.5', '30.0, 0.05', '30.0, 0.1',\n",
       "        '30.0, 0.2', '30.0, 0.25', '30.0, 0.3', '30.0, 0.35', '30.0, 0.4',\n",
       "        '30.0, 0.5'], dtype='<U10')]"
      ]
     },
     "execution_count": 15,
     "metadata": {},
     "output_type": "execute_result"
    }
   ],
   "source": [
    "test_X = np.load(dir + '/test_X.npy')\n",
    "test_Y = (np.load(dir + '/test_Y.npy')).reshape(-1,2)\n",
    "\n",
    "Y = np.zeros((len(test_Y), 1), dtype = '<U10')\n",
    "for i in range(len(test_Y)):\n",
    "    Y[i] = (str(test_Y[i,0])+', '+ str(test_Y[i, 1]))\n",
    "test_Y = Y\n",
    "\n",
    "OHE = OneHotEncoder(sparse_output = False)\n",
    "test_Y = OHE.fit_transform(test_Y)\n",
    "\n",
    "OHE.categories_"
   ]
  },
  {
   "cell_type": "code",
   "execution_count": 16,
   "id": "a70a482b",
   "metadata": {},
   "outputs": [
    {
     "name": "stdout",
     "output_type": "stream",
     "text": [
      "53/53 [==============================] - 3s 42ms/step\n"
     ]
    }
   ],
   "source": [
    "# Get Predictions (reverse to_categorical)\n",
    "pred_proba = model.predict(test_X)\n",
    "prediction = np.argmax(pred_proba, axis = 1).reshape(-1)\n",
    "\n",
    "actual = np.argmax(test_Y, axis = 1)"
   ]
  },
  {
   "cell_type": "code",
   "execution_count": 17,
   "id": "50b9c6ac",
   "metadata": {},
   "outputs": [
    {
     "data": {
      "text/plain": [
       "(array([ 5, 13, 13, 13, 11, 13, 13, 13, 13,  1]),\n",
       " array([ 7, 12, 13, 12, 11, 13,  9, 13, 12,  1]))"
      ]
     },
     "execution_count": 17,
     "metadata": {},
     "output_type": "execute_result"
    }
   ],
   "source": [
    "prediction[0:10], actual[0:10]"
   ]
  },
  {
   "cell_type": "code",
   "execution_count": 18,
   "id": "9029dc31",
   "metadata": {},
   "outputs": [
    {
     "name": "stdout",
     "output_type": "stream",
     "text": [
      "              precision    recall  f1-score   support\n",
      "\n",
      "           0       1.00      0.61      0.76        56\n",
      "           1       0.82      1.00      0.90        56\n",
      "           2       1.00      0.90      0.95        52\n",
      "           3       0.00      0.00      0.00        52\n",
      "           4       0.41      1.00      0.58        55\n",
      "           5       0.14      1.00      0.24        56\n",
      "           6       1.00      0.30      0.46        67\n",
      "           7       0.00      0.00      0.00        57\n",
      "           8       0.00      0.00      0.00       154\n",
      "           9       1.00      0.06      0.12       154\n",
      "          10       1.00      0.85      0.92       158\n",
      "          11       1.00      0.57      0.73       158\n",
      "          12       0.00      0.00      0.00       155\n",
      "          13       0.28      1.00      0.43       154\n",
      "          14       0.00      0.00      0.00       143\n",
      "          15       1.00      1.00      1.00       153\n",
      "\n",
      "    accuracy                           0.48      1680\n",
      "   macro avg       0.54      0.52      0.44      1680\n",
      "weighted avg       0.55      0.48      0.43      1680\n",
      "\n"
     ]
    },
    {
     "name": "stderr",
     "output_type": "stream",
     "text": [
      "/Users/kunwoosmac/miniconda3/envs/tf25/lib/python3.8/site-packages/sklearn/metrics/_classification.py:1344: UndefinedMetricWarning: Precision and F-score are ill-defined and being set to 0.0 in labels with no predicted samples. Use `zero_division` parameter to control this behavior.\n",
      "  _warn_prf(average, modifier, msg_start, len(result))\n",
      "/Users/kunwoosmac/miniconda3/envs/tf25/lib/python3.8/site-packages/sklearn/metrics/_classification.py:1344: UndefinedMetricWarning: Precision and F-score are ill-defined and being set to 0.0 in labels with no predicted samples. Use `zero_division` parameter to control this behavior.\n",
      "  _warn_prf(average, modifier, msg_start, len(result))\n",
      "/Users/kunwoosmac/miniconda3/envs/tf25/lib/python3.8/site-packages/sklearn/metrics/_classification.py:1344: UndefinedMetricWarning: Precision and F-score are ill-defined and being set to 0.0 in labels with no predicted samples. Use `zero_division` parameter to control this behavior.\n",
      "  _warn_prf(average, modifier, msg_start, len(result))\n"
     ]
    }
   ],
   "source": [
    "print(classification_report(actual, prediction))"
   ]
  },
  {
   "cell_type": "code",
   "execution_count": 19,
   "id": "def66ec4",
   "metadata": {
    "scrolled": true
   },
   "outputs": [
    {
     "name": "stdout",
     "output_type": "stream",
     "text": [
      "Test Accuracy =  0.48214285714285715\n"
     ]
    }
   ],
   "source": [
    "correct = 0\n",
    "wrong_indices = []\n",
    "wrong_actual = []\n",
    "wrong_pred = []\n",
    "\n",
    "for i in range(actual.shape[0]):\n",
    "    if actual[i] == prediction[i]:\n",
    "        correct += 1\n",
    "    else:\n",
    "        wrong_indices.append(i)\n",
    "        wrong_pred.append(prediction[i])\n",
    "        wrong_actual.append(actual[i])\n",
    "\n",
    "\n",
    "accuracy = correct/int(actual.shape[0])\n",
    "print(\"Test Accuracy = \", accuracy)"
   ]
  },
  {
   "cell_type": "code",
   "execution_count": 20,
   "id": "dd647eb9",
   "metadata": {
    "scrolled": false
   },
   "outputs": [
    {
     "name": "stdout",
     "output_type": "stream",
     "text": [
      "Confusion matrix, without normalization\n"
     ]
    },
    {
     "data": {
      "image/png": "[encoded data removed]",
      "text/plain": [
       "<Figure size 576x576 with 2 Axes>"
      ]
     },
     "metadata": {
      "needs_background": "light"
     },
     "output_type": "display_data"
    }
   ],
   "source": [
    "# Compute confusion matrix\n",
    "cnf_matrix = confusion_matrix(actual, prediction)\n",
    "np.set_printoptions(precision=2)\n",
    "\n",
    "# Plot non-normalized confusion matrix\n",
    "plt.figure(figsize=(8, 8))\n",
    "plot_confusion_matrix(cnf_matrix, classes=list(OHE.categories_)[0],normalize=False,\n",
    "                      title='Confusion matrix')\n",
    "plt.show()"
   ]
  },
  {
   "cell_type": "markdown",
   "id": "f7f7cd8a",
   "metadata": {},
   "source": [
    "## VALIDATION DATA"
   ]
  },
  {
   "cell_type": "code",
   "execution_count": null,
   "id": "39862676",
   "metadata": {},
   "outputs": [],
   "source": [
    "val_X = np.load(dir + r'\\val_X.npy')\n",
    "val_Y = (np.load(dir + r'\\val_Y.npy')).reshape(-1,2)\n",
    "Y = np.zeros((len(val_Y), 1), dtype = '<U10')\n",
    "for i in range(len(val_Y)):\n",
    "    Y[i] = (str(val_Y[i,0])+', '+ str(val_Y[i, 1]))\n",
    "val_Y = Y\n",
    "\n",
    "val_Y = OHE.transform(val_Y)"
   ]
  },
  {
   "cell_type": "code",
   "execution_count": null,
   "id": "6de0ac13",
   "metadata": {},
   "outputs": [],
   "source": [
    "# Get Predictions (reverse to_categorical)\n",
    "pred_proba = model.predict(val_X)\n",
    "prediction = np.argmax(pred_proba, axis = 1)\n",
    "actual = np.argmax(val_Y, axis = 1)\n",
    "del val_X\n",
    "del val_Y"
   ]
  },
  {
   "cell_type": "code",
   "execution_count": null,
   "id": "6b0ea07f",
   "metadata": {},
   "outputs": [],
   "source": [
    "print(classification_report(actual, prediction))"
   ]
  },
  {
   "cell_type": "code",
   "execution_count": null,
   "id": "1f0ff6a9",
   "metadata": {},
   "outputs": [],
   "source": [
    "correct = 0\n",
    "wrong_indices = []\n",
    "wrong_actual = []\n",
    "wrong_pred = []\n",
    "\n",
    "for i in range(actual.shape[0]):\n",
    "    if actual[i] == prediction[i]:\n",
    "        correct += 1\n",
    "    else:\n",
    "        wrong_indices.append(i)\n",
    "        wrong_pred.append(prediction[i])\n",
    "        wrong_actual.append(actual[i])\n",
    "\n",
    "\n",
    "accuracy = correct/int(actual.shape[0])\n",
    "print(\"Validation Accuracy = \", accuracy)"
   ]
  },
  {
   "cell_type": "code",
   "execution_count": null,
   "id": "0e532d82",
   "metadata": {},
   "outputs": [],
   "source": [
    "# Compute confusion matrix\n",
    "cnf_matrix = confusion_matrix(actual, prediction)\n",
    "np.set_printoptions(precision=2)\n",
    "\n",
    "# Plot non-normalized confusion matrix\n",
    "plt.figure(figsize=(8,8))\n",
    "plot_confusion_matrix(cnf_matrix, classes=list(OHE.categories_)[0],normalize=False,\n",
    "                      title='Confusion matrix')\n",
    "plt.show()"
   ]
  },
  {
   "cell_type": "markdown",
   "id": "1cacda3a",
   "metadata": {},
   "source": [
    "## TRAIN DATA"
   ]
  },
  {
   "cell_type": "code",
   "execution_count": null,
   "id": "63e14c6d",
   "metadata": {},
   "outputs": [],
   "source": [
    "train_X = np.load(dir + r'\\train_X.npy', mmap_mode='r')\n",
    "train_Y = (np.load(dir + r'\\train_Y.npy')).reshape(-1,2)\n",
    "Y = np.zeros((len(train_Y), 1), dtype = '<U10')\n",
    "for i in range(len(train_Y)):\n",
    "    Y[i] = (str(train_Y[i,0])+', '+ str(train_Y[i, 1]))\n",
    "train_Y = Y\n",
    "\n",
    "train_Y = OHE.transform(train_Y)\n",
    "\n",
    "# Get Predictions (reverse to_categorical)\n",
    "pred_proba = model.predict(train_X)\n",
    "prediction = np.argmax(pred_proba, axis = 1)\n",
    "actual = np.argmax(train_Y, axis = 1)"
   ]
  },
  {
   "cell_type": "code",
   "execution_count": null,
   "id": "d2b1f84d",
   "metadata": {},
   "outputs": [],
   "source": [
    "print(classification_report(actual, prediction))"
   ]
  },
  {
   "cell_type": "code",
   "execution_count": null,
   "id": "dde5467b",
   "metadata": {},
   "outputs": [],
   "source": [
    "correct = 0\n",
    "wrong_indices = []\n",
    "wrong_actual = []\n",
    "wrong_pred = []\n",
    "\n",
    "for i in range(actual.shape[0]):\n",
    "    if actual[i] == prediction[i]:\n",
    "        correct += 1\n",
    "    else:\n",
    "        wrong_indices.append(i)\n",
    "        wrong_pred.append(prediction[i])\n",
    "        wrong_actual.append(actual[i])\n",
    "\n",
    "\n",
    "accuracy = correct/int(actual.shape[0])\n",
    "print(\"Train Accuracy = \", accuracy)"
   ]
  },
  {
   "cell_type": "code",
   "execution_count": null,
   "id": "fc7e03e5",
   "metadata": {},
   "outputs": [],
   "source": [
    "# Compute confusion matrix\n",
    "cnf_matrix = confusion_matrix(actual, prediction)\n",
    "np.set_printoptions(precision=2)\n",
    "\n",
    "# Plot non-normalized confusion matrix\n",
    "plt.figure(figsize=(8, 8))\n",
    "plot_confusion_matrix(cnf_matrix, classes=list(OHE.categories_)[0],normalize=False,\n",
    "                      title='Confusion matrix')\n",
    "plt.show()"
   ]
  }
 ],
 "metadata": {
  "kernelspec": {
   "display_name": "tf_metal",
   "language": "python",
   "name": "tf25"
  },
  "language_info": {
   "codemirror_mode": {
    "name": "ipython",
    "version": 3
   },
   "file_extension": ".py",
   "mimetype": "text/x-python",
   "name": "python",
   "nbconvert_exporter": "python",
   "pygments_lexer": "ipython3",
   "version": "3.8.16"
  }
 },
 "nbformat": 4,
 "nbformat_minor": 5
}

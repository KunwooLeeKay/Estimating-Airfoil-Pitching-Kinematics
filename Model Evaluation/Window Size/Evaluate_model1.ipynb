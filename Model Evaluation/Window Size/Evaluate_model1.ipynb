{
 "cells": [
  {
   "cell_type": "markdown",
   "id": "78d745b1",
   "metadata": {},
   "source": [
    "# Model Using 1/3 Window - Normalized\n",
    "## Both UX and UY"
   ]
  },
  {
   "cell_type": "code",
   "execution_count": 1,
   "id": "5a942f51",
   "metadata": {},
   "outputs": [],
   "source": [
    "from tensorflow import keras\n",
    "import numpy as np\n",
    "from sklearn.metrics import confusion_matrix\n",
    "from collections import Counter\n",
    "from matplotlib import pyplot as plt\n",
    "import tensorflow as tf\n",
    "from sklearn.metrics import classification_report\n",
    "from sklearn.preprocessing import OneHotEncoder"
   ]
  },
  {
   "cell_type": "code",
   "execution_count": 2,
   "id": "fcb32293",
   "metadata": {},
   "outputs": [],
   "source": [
    "model = keras.models.load_model(r\"C:\\Users\\bono2\\Desktop\\Pitching Airfoil\\models_window_normalized\\model_1.h5\")"
   ]
  },
  {
   "cell_type": "code",
   "execution_count": 3,
   "id": "487822b0",
   "metadata": {},
   "outputs": [],
   "source": [
    "import itertools\n",
    "def plot_confusion_matrix(cm, classes,\n",
    "                          normalize=False,\n",
    "                          title='Confusion matrix',\n",
    "                          cmap=plt.cm.Blues):\n",
    "    \"\"\"\n",
    "    This function prints and plots the confusion matrix.\n",
    "    Normalization can be applied by setting `normalize=True`.\n",
    "    \"\"\"\n",
    "    if normalize:\n",
    "        cm = cm.astype('float') / cm.sum(axis=1)[:, np.newaxis]\n",
    "        print(\"Normalized confusion matrix\")\n",
    "    else:\n",
    "        print('Confusion matrix, without normalization')\n",
    "\n",
    "    plt.imshow(cm, interpolation='nearest', cmap=cmap)\n",
    "    plt.title(title)\n",
    "    plt.colorbar()\n",
    "    tick_marks = np.arange(len(classes))\n",
    "    plt.xticks(tick_marks, classes, rotation=45)\n",
    "    plt.yticks(tick_marks, classes)\n",
    "\n",
    "    fmt = '.2f' if normalize else 'd'\n",
    "    thresh = cm.max() / 2.\n",
    "    for i, j in itertools.product(range(cm.shape[0]), range(cm.shape[1])):\n",
    "        plt.text(j, i, format(cm[i, j], fmt),\n",
    "                 horizontalalignment=\"center\",\n",
    "                 color=\"white\" if cm[i, j] > thresh else \"black\")\n",
    "\n",
    "    plt.tight_layout()\n",
    "    plt.ylabel('True label')\n",
    "    plt.xlabel('Predicted label')"
   ]
  },
  {
   "cell_type": "markdown",
   "id": "cc50c55b",
   "metadata": {},
   "source": [
    "## TEST DATA"
   ]
  },
  {
   "cell_type": "code",
   "execution_count": 4,
   "id": "4e01477d",
   "metadata": {},
   "outputs": [
    {
     "data": {
      "text/plain": [
       "[array([0.05, 0.1 , 0.2 , 0.25, 0.3 , 0.35, 0.4 , 0.5 ])]"
      ]
     },
     "execution_count": 4,
     "metadata": {},
     "output_type": "execute_result"
    }
   ],
   "source": [
    "test_X = np.load(r\"C:\\Users\\bono2\\Desktop\\Pitching Airfoil\\dataset\\window_normalized\\test_X.npy\")\n",
    "test_Y = (np.load(r\"C:\\Users\\bono2\\Desktop\\Pitching Airfoil\\dataset\\window_normalized\\test_Y.npy\")[:,1]).reshape(-1,1)\n",
    "\n",
    "OHE = OneHotEncoder(sparse = False)\n",
    "test_Y = OHE.fit_transform(test_Y)\n",
    "\n",
    "OHE.categories_"
   ]
  },
  {
   "cell_type": "code",
   "execution_count": 5,
   "id": "a70a482b",
   "metadata": {},
   "outputs": [
    {
     "name": "stdout",
     "output_type": "stream",
     "text": [
      "53/53 [==============================] - 8s 14ms/step\n"
     ]
    }
   ],
   "source": [
    "# Get Predictions (reverse to_categorical)\n",
    "pred_proba = model.predict(test_X)\n",
    "prediction = np.argmax(pred_proba, axis = 1)\n",
    "actual = np.argmax(test_Y, axis = 1)"
   ]
  },
  {
   "cell_type": "code",
   "execution_count": 6,
   "id": "463e452c",
   "metadata": {},
   "outputs": [
    {
     "name": "stdout",
     "output_type": "stream",
     "text": [
      "              precision    recall  f1-score   support\n",
      "\n",
      "           0       1.00      1.00      1.00       210\n",
      "           1       1.00      1.00      1.00       210\n",
      "           2       1.00      1.00      1.00       210\n",
      "           3       1.00      1.00      1.00       210\n",
      "           4       1.00      1.00      1.00       210\n",
      "           5       1.00      1.00      1.00       210\n",
      "           6       1.00      1.00      1.00       210\n",
      "           7       1.00      1.00      1.00       210\n",
      "\n",
      "    accuracy                           1.00      1680\n",
      "   macro avg       1.00      1.00      1.00      1680\n",
      "weighted avg       1.00      1.00      1.00      1680\n",
      "\n"
     ]
    }
   ],
   "source": [
    "print(classification_report(actual, prediction))"
   ]
  },
  {
   "cell_type": "code",
   "execution_count": 7,
   "id": "def66ec4",
   "metadata": {},
   "outputs": [
    {
     "name": "stdout",
     "output_type": "stream",
     "text": [
      "Test Accuracy =  1.0\n"
     ]
    }
   ],
   "source": [
    "correct = 0\n",
    "wrong_indices = []\n",
    "wrong_actual = []\n",
    "wrong_pred = []\n",
    "\n",
    "for i in range(actual.shape[0]):\n",
    "    if actual[i] == prediction[i]:\n",
    "        correct += 1\n",
    "    else:\n",
    "        wrong_indices.append(i)\n",
    "        wrong_pred.append(prediction[i])\n",
    "        wrong_actual.append(actual[i])\n",
    "\n",
    "\n",
    "accuracy = correct/int(actual.shape[0])\n",
    "print(\"Test Accuracy = \", accuracy)"
   ]
  },
  {
   "cell_type": "code",
   "execution_count": 8,
   "id": "dd647eb9",
   "metadata": {
    "scrolled": false
   },
   "outputs": [
    {
     "name": "stdout",
     "output_type": "stream",
     "text": [
      "Confusion matrix, without normalization\n"
     ]
    },
    {
     "data": {
      "image/png": "[encoded data removed]",
      "text/plain": [
       "<Figure size 500x500 with 2 Axes>"
      ]
     },
     "metadata": {},
     "output_type": "display_data"
    }
   ],
   "source": [
    "# Compute confusion matrix\n",
    "cnf_matrix = confusion_matrix(actual, prediction)\n",
    "np.set_printoptions(precision=2)\n",
    "\n",
    "# Plot non-normalized confusion matrix\n",
    "plt.figure(figsize=(5, 5))\n",
    "plot_confusion_matrix(cnf_matrix, classes=list(OHE.categories_)[0],normalize=False,\n",
    "                      title='Confusion matrix')\n",
    "plt.show()"
   ]
  },
  {
   "cell_type": "markdown",
   "id": "f7f7cd8a",
   "metadata": {},
   "source": [
    "## VALIDATION DATA"
   ]
  },
  {
   "cell_type": "code",
   "execution_count": 9,
   "id": "39862676",
   "metadata": {},
   "outputs": [],
   "source": [
    "val_X = np.load(r\"C:\\Users\\bono2\\Desktop\\Pitching Airfoil\\dataset\\window_normalized\\val_X.npy\")\n",
    "val_Y = (np.load(r\"C:\\Users\\bono2\\Desktop\\Pitching Airfoil\\dataset\\window_normalized\\val_Y.npy\"))[:,1].reshape(-1,1)\n",
    "\n",
    "val_Y = OHE.transform(val_Y)"
   ]
  },
  {
   "cell_type": "code",
   "execution_count": 10,
   "id": "6de0ac13",
   "metadata": {},
   "outputs": [
    {
     "name": "stdout",
     "output_type": "stream",
     "text": [
      "53/53 [==============================] - 1s 15ms/step\n"
     ]
    }
   ],
   "source": [
    "# Get Predictions (reverse to_categorical)\n",
    "pred_proba = model.predict(val_X)\n",
    "prediction = np.argmax(pred_proba, axis = 1)\n",
    "actual = np.argmax(val_Y, axis = 1)\n",
    "del val_X\n",
    "del val_Y"
   ]
  },
  {
   "cell_type": "code",
   "execution_count": 11,
   "id": "6b0ea07f",
   "metadata": {},
   "outputs": [
    {
     "name": "stdout",
     "output_type": "stream",
     "text": [
      "              precision    recall  f1-score   support\n",
      "\n",
      "           0       1.00      1.00      1.00       210\n",
      "           1       1.00      1.00      1.00       210\n",
      "           2       1.00      1.00      1.00       210\n",
      "           3       1.00      1.00      1.00       210\n",
      "           4       1.00      1.00      1.00       210\n",
      "           5       1.00      1.00      1.00       210\n",
      "           6       1.00      1.00      1.00       210\n",
      "           7       1.00      1.00      1.00       210\n",
      "\n",
      "    accuracy                           1.00      1680\n",
      "   macro avg       1.00      1.00      1.00      1680\n",
      "weighted avg       1.00      1.00      1.00      1680\n",
      "\n"
     ]
    }
   ],
   "source": [
    "print(classification_report(actual, prediction))"
   ]
  },
  {
   "cell_type": "code",
   "execution_count": 12,
   "id": "1f0ff6a9",
   "metadata": {},
   "outputs": [
    {
     "name": "stdout",
     "output_type": "stream",
     "text": [
      "Validation Accuracy =  1.0\n"
     ]
    }
   ],
   "source": [
    "correct = 0\n",
    "wrong_indices = []\n",
    "wrong_actual = []\n",
    "wrong_pred = []\n",
    "\n",
    "for i in range(actual.shape[0]):\n",
    "    if actual[i] == prediction[i]:\n",
    "        correct += 1\n",
    "    else:\n",
    "        wrong_indices.append(i)\n",
    "        wrong_pred.append(prediction[i])\n",
    "        wrong_actual.append(actual[i])\n",
    "\n",
    "\n",
    "accuracy = correct/int(actual.shape[0])\n",
    "print(\"Validation Accuracy = \", accuracy)"
   ]
  },
  {
   "cell_type": "code",
   "execution_count": 13,
   "id": "0e532d82",
   "metadata": {},
   "outputs": [
    {
     "name": "stdout",
     "output_type": "stream",
     "text": [
      "Confusion matrix, without normalization\n"
     ]
    },
    {
     "data": {
      "image/png": "[encoded data removed]",
      "text/plain": [
       "<Figure size 500x500 with 2 Axes>"
      ]
     },
     "metadata": {},
     "output_type": "display_data"
    }
   ],
   "source": [
    "# Compute confusion matrix\n",
    "cnf_matrix = confusion_matrix(actual, prediction)\n",
    "np.set_printoptions(precision=2)\n",
    "\n",
    "# Plot non-normalized confusion matrix\n",
    "plt.figure(figsize=(5, 5))\n",
    "plot_confusion_matrix(cnf_matrix, classes=list(OHE.categories_)[0],normalize=False,\n",
    "                      title='Confusion matrix')\n",
    "plt.show()"
   ]
  },
  {
   "cell_type": "markdown",
   "id": "1cacda3a",
   "metadata": {},
   "source": [
    "## TRAIN DATA"
   ]
  },
  {
   "cell_type": "code",
   "execution_count": 14,
   "id": "63e14c6d",
   "metadata": {},
   "outputs": [
    {
     "ename": "FileNotFoundError",
     "evalue": "[Errno 2] No such file or directory: 'C:\\\\Users\\\\bono2\\\\Desktop\\\\Pitching Airfoil\\\\dataset\\\\window_normalizedw\\\\train_Y.npy'",
     "output_type": "error",
     "traceback": [
      "\u001b[1;31m---------------------------------------------------------------------------\u001b[0m",
      "\u001b[1;31mFileNotFoundError\u001b[0m                         Traceback (most recent call last)",
      "\u001b[1;32m~\\AppData\\Local\\Temp\\ipykernel_4048\\3677990278.py\u001b[0m in \u001b[0;36m<module>\u001b[1;34m\u001b[0m\n\u001b[0;32m      1\u001b[0m \u001b[0mtrain_X\u001b[0m \u001b[1;33m=\u001b[0m \u001b[0mnp\u001b[0m\u001b[1;33m.\u001b[0m\u001b[0mload\u001b[0m\u001b[1;33m(\u001b[0m\u001b[1;34mr\"C:\\Users\\bono2\\Desktop\\Pitching Airfoil\\dataset\\window_normalized\\train_X.npy\"\u001b[0m\u001b[1;33m)\u001b[0m\u001b[1;33m\u001b[0m\u001b[1;33m\u001b[0m\u001b[0m\n\u001b[1;32m----> 2\u001b[1;33m \u001b[0mtrain_Y\u001b[0m \u001b[1;33m=\u001b[0m \u001b[1;33m(\u001b[0m\u001b[0mnp\u001b[0m\u001b[1;33m.\u001b[0m\u001b[0mload\u001b[0m\u001b[1;33m(\u001b[0m\u001b[1;34mr\"C:\\Users\\bono2\\Desktop\\Pitching Airfoil\\dataset\\window_normalizedw\\train_Y.npy\"\u001b[0m\u001b[1;33m)\u001b[0m\u001b[1;33m)\u001b[0m\u001b[1;33m[\u001b[0m\u001b[1;33m:\u001b[0m\u001b[1;33m,\u001b[0m\u001b[1;36m1\u001b[0m\u001b[1;33m]\u001b[0m\u001b[1;33m.\u001b[0m\u001b[0mreshape\u001b[0m\u001b[1;33m(\u001b[0m\u001b[1;33m-\u001b[0m\u001b[1;36m1\u001b[0m\u001b[1;33m,\u001b[0m\u001b[1;36m1\u001b[0m\u001b[1;33m)\u001b[0m\u001b[1;33m\u001b[0m\u001b[1;33m\u001b[0m\u001b[0m\n\u001b[0m\u001b[0;32m      3\u001b[0m \u001b[1;33m\u001b[0m\u001b[0m\n\u001b[0;32m      4\u001b[0m \u001b[0mtrain_Y\u001b[0m \u001b[1;33m=\u001b[0m \u001b[0mOHE\u001b[0m\u001b[1;33m.\u001b[0m\u001b[0mtransform\u001b[0m\u001b[1;33m(\u001b[0m\u001b[0mtrain_Y\u001b[0m\u001b[1;33m)\u001b[0m\u001b[1;33m\u001b[0m\u001b[1;33m\u001b[0m\u001b[0m\n\u001b[0;32m      5\u001b[0m \u001b[1;33m\u001b[0m\u001b[0m\n",
      "\u001b[1;32mC:\\ProgramData\\Anaconda3\\envs\\tensorflow\\lib\\site-packages\\numpy\\lib\\npyio.py\u001b[0m in \u001b[0;36mload\u001b[1;34m(file, mmap_mode, allow_pickle, fix_imports, encoding)\u001b[0m\n\u001b[0;32m    415\u001b[0m             \u001b[0mown_fid\u001b[0m \u001b[1;33m=\u001b[0m \u001b[1;32mFalse\u001b[0m\u001b[1;33m\u001b[0m\u001b[1;33m\u001b[0m\u001b[0m\n\u001b[0;32m    416\u001b[0m         \u001b[1;32melse\u001b[0m\u001b[1;33m:\u001b[0m\u001b[1;33m\u001b[0m\u001b[1;33m\u001b[0m\u001b[0m\n\u001b[1;32m--> 417\u001b[1;33m             \u001b[0mfid\u001b[0m \u001b[1;33m=\u001b[0m \u001b[0mstack\u001b[0m\u001b[1;33m.\u001b[0m\u001b[0menter_context\u001b[0m\u001b[1;33m(\u001b[0m\u001b[0mopen\u001b[0m\u001b[1;33m(\u001b[0m\u001b[0mos_fspath\u001b[0m\u001b[1;33m(\u001b[0m\u001b[0mfile\u001b[0m\u001b[1;33m)\u001b[0m\u001b[1;33m,\u001b[0m \u001b[1;34m\"rb\"\u001b[0m\u001b[1;33m)\u001b[0m\u001b[1;33m)\u001b[0m\u001b[1;33m\u001b[0m\u001b[1;33m\u001b[0m\u001b[0m\n\u001b[0m\u001b[0;32m    418\u001b[0m             \u001b[0mown_fid\u001b[0m \u001b[1;33m=\u001b[0m \u001b[1;32mTrue\u001b[0m\u001b[1;33m\u001b[0m\u001b[1;33m\u001b[0m\u001b[0m\n\u001b[0;32m    419\u001b[0m \u001b[1;33m\u001b[0m\u001b[0m\n",
      "\u001b[1;31mFileNotFoundError\u001b[0m: [Errno 2] No such file or directory: 'C:\\\\Users\\\\bono2\\\\Desktop\\\\Pitching Airfoil\\\\dataset\\\\window_normalizedw\\\\train_Y.npy'"
     ]
    }
   ],
   "source": [
    "train_X = np.load(r\"C:\\Users\\bono2\\Desktop\\Pitching Airfoil\\dataset\\window_normalized\\train_X.npy\")\n",
    "train_Y = (np.load(r\"C:\\Users\\bono2\\Desktop\\Pitching Airfoil\\dataset\\window_normalizedw\\train_Y.npy\"))[:,1].reshape(-1,1)\n",
    "\n",
    "train_Y = OHE.transform(train_Y)\n",
    "\n",
    "# Get Predictions (reverse to_categorical)\n",
    "pred_proba = model.predict(train_X)\n",
    "prediction = np.argmax(pred_proba, axis = 1)\n",
    "actual = np.argmax(train_Y, axis = 1)"
   ]
  },
  {
   "cell_type": "code",
   "execution_count": null,
   "id": "d2b1f84d",
   "metadata": {},
   "outputs": [],
   "source": [
    "print(classification_report(actual, prediction))"
   ]
  },
  {
   "cell_type": "code",
   "execution_count": null,
   "id": "dde5467b",
   "metadata": {},
   "outputs": [],
   "source": [
    "correct = 0\n",
    "wrong_indices = []\n",
    "wrong_actual = []\n",
    "wrong_pred = []\n",
    "\n",
    "for i in range(actual.shape[0]):\n",
    "    if actual[i] == prediction[i]:\n",
    "        correct += 1\n",
    "    else:\n",
    "        wrong_indices.append(i)\n",
    "        wrong_pred.append(prediction[i])\n",
    "        wrong_actual.append(actual[i])\n",
    "\n",
    "\n",
    "accuracy = correct/int(actual.shape[0])\n",
    "print(\"Train Accuracy = \", accuracy)"
   ]
  },
  {
   "cell_type": "code",
   "execution_count": null,
   "id": "fc7e03e5",
   "metadata": {},
   "outputs": [],
   "source": [
    "# Compute confusion matrix\n",
    "cnf_matrix = confusion_matrix(actual, prediction)\n",
    "np.set_printoptions(precision=2)\n",
    "\n",
    "# Plot non-normalized confusion matrix\n",
    "plt.figure(figsize=(5, 5))\n",
    "plot_confusion_matrix(cnf_matrix, classes=list(OHE.categories_)[0],normalize=False,\n",
    "                      title='Confusion matrix')\n",
    "plt.show()"
   ]
  },
  {
   "cell_type": "code",
   "execution_count": null,
   "id": "16ee49ca",
   "metadata": {},
   "outputs": [],
   "source": [
    "print(Counter(actual))"
   ]
  },
  {
   "cell_type": "code",
   "execution_count": null,
   "id": "4e816751",
   "metadata": {},
   "outputs": [],
   "source": [
    "del test_X"
   ]
  },
  {
   "cell_type": "code",
   "execution_count": null,
   "id": "6e4cb502",
   "metadata": {},
   "outputs": [],
   "source": []
  },
  {
   "cell_type": "code",
   "execution_count": null,
   "id": "929193bb",
   "metadata": {},
   "outputs": [],
   "source": []
  },
  {
   "cell_type": "code",
   "execution_count": null,
   "id": "04a4955d",
   "metadata": {},
   "outputs": [],
   "source": []
  },
  {
   "cell_type": "code",
   "execution_count": null,
   "id": "b9752a24",
   "metadata": {},
   "outputs": [],
   "source": []
  }
 ],
 "metadata": {
  "kernelspec": {
   "display_name": "tensorflow",
   "language": "python",
   "name": "tensorflow"
  },
  "language_info": {
   "codemirror_mode": {
    "name": "ipython",
    "version": 3
   },
   "file_extension": ".py",
   "mimetype": "text/x-python",
   "name": "python",
   "nbconvert_exporter": "python",
   "pygments_lexer": "ipython3",
   "version": "3.7.16"
  }
 },
 "nbformat": 4,
 "nbformat_minor": 5
}

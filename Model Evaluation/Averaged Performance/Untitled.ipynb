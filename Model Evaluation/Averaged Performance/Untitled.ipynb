{
 "cells": [
  {
   "cell_type": "code",
   "execution_count": 1,
   "id": "8935365c",
   "metadata": {},
   "outputs": [],
   "source": [
    "import pickle"
   ]
  },
  {
   "cell_type": "code",
   "execution_count": 2,
   "id": "04a43222",
   "metadata": {},
   "outputs": [
    {
     "name": "stdout",
     "output_type": "stream",
     "text": [
      "{'one eighth': 0.9835714285714288, 'one eleventh': 0.944404761904762, 'one fifteenth': 0.9063095238095238, 'one fifth': 0.9892261904761905, 'one fourteenth': 0.8979166666666668, 'one fourth': 1.0, 'one nineth': 0.9727380952380951, 'one seventh': 0.992559523809524, 'one sixth': 0.9950000000000001, 'one tenth': 0.9605952380952383, 'one thirds': 1.0, 'one thirteenth': 0.9279761904761903, 'one twelveth': 0.9320238095238095}\n"
     ]
    }
   ],
   "source": [
    "with open(\"/Volumes/KleeFD/models/Testing effect of window size/result.pickle\", 'rb') as file:\n",
    "    f = pickle.load(file)\n",
    "    \n",
    "print(f)"
   ]
  },
  {
   "cell_type": "code",
   "execution_count": null,
   "id": "52ca33f4",
   "metadata": {},
   "outputs": [],
   "source": []
  }
 ],
 "metadata": {
  "kernelspec": {
   "display_name": "tf_metal",
   "language": "python",
   "name": "tf25"
  },
  "language_info": {
   "codemirror_mode": {
    "name": "ipython",
    "version": 3
   },
   "file_extension": ".py",
   "mimetype": "text/x-python",
   "name": "python",
   "nbconvert_exporter": "python",
   "pygments_lexer": "ipython3",
   "version": "3.8.16"
  }
 },
 "nbformat": 4,
 "nbformat_minor": 5
}

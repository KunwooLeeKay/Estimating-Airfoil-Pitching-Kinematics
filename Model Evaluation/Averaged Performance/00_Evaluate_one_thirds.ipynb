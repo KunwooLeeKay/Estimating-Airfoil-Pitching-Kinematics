{
 "cells": [
  {
   "cell_type": "markdown",
   "id": "78d745b1",
   "metadata": {},
   "source": [
    "# Model Using 1/3Window - Normalized"
   ]
  },
  {
   "cell_type": "code",
   "execution_count": 8,
   "id": "5a942f51",
   "metadata": {},
   "outputs": [],
   "source": [
    "from tensorflow import keras\n",
    "import numpy as np\n",
    "from sklearn.metrics import classification_report\n",
    "from sklearn.preprocessing import OneHotEncoder\n",
    "from collections import Counter"
   ]
  },
  {
   "cell_type": "code",
   "execution_count": 2,
   "id": "fcb32293",
   "metadata": {},
   "outputs": [],
   "source": [
    "model_dir = 'C:/Users/bono2/Desktop/Pitching Airfoil/models/Testing effect of window size/one thirds/'\n",
    "model = []\n",
    "\n",
    "for i in range(1,11):\n",
    "    model.append(keras.models.load_model(model_dir + 'iter '+str(i)+'.h5'))"
   ]
  },
  {
   "cell_type": "code",
   "execution_count": 3,
   "id": "bb2e16b3",
   "metadata": {},
   "outputs": [],
   "source": [
    "dataset_dir = r'C:\\Users\\bono2\\Desktop\\Pitching Airfoil\\dataset\\window_normalized\\window size\\one thirds'"
   ]
  },
  {
   "cell_type": "markdown",
   "id": "cc50c55b",
   "metadata": {},
   "source": [
    "## TEST DATA"
   ]
  },
  {
   "cell_type": "code",
   "execution_count": 5,
   "id": "4e01477d",
   "metadata": {},
   "outputs": [
    {
     "data": {
      "text/plain": [
       "array(['25.0, 0.05', '25.0, 0.1', '25.0, 0.2', '25.0, 0.25', '25.0, 0.3',\n",
       "       '25.0, 0.35', '25.0, 0.4', '25.0, 0.5', '30.0, 0.05', '30.0, 0.1',\n",
       "       '30.0, 0.2', '30.0, 0.25', '30.0, 0.3', '30.0, 0.35', '30.0, 0.4',\n",
       "       '30.0, 0.5'], dtype='<U10')"
      ]
     },
     "execution_count": 5,
     "metadata": {},
     "output_type": "execute_result"
    }
   ],
   "source": [
    "test_X = np.load(dataset_dir + r'\\test_X.npy')\n",
    "test_Y = (np.load(dataset_dir + r'\\test_Y.npy')).reshape(-1,2)\n",
    "Y = np.zeros((len(test_Y), 1), dtype = '<U10')\n",
    "for i in range(len(test_Y)):\n",
    "    Y[i] = (str(test_Y[i,0])+', '+ str(test_Y[i, 1]))\n",
    "test_Y = Y\n",
    "\n",
    "OHE = OneHotEncoder(sparse = False)\n",
    "test_Y = OHE.fit_transform(test_Y)\n",
    "\n",
    "OHE.categories_[0]"
   ]
  },
  {
   "cell_type": "code",
   "execution_count": 6,
   "id": "a70a482b",
   "metadata": {},
   "outputs": [
    {
     "name": "stdout",
     "output_type": "stream",
     "text": [
      "53/53 [==============================] - 8s 15ms/step\n",
      "53/53 [==============================] - 1s 12ms/step\n",
      "53/53 [==============================] - 1s 12ms/step\n",
      "53/53 [==============================] - 1s 12ms/step\n",
      "53/53 [==============================] - 1s 12ms/step\n",
      "53/53 [==============================] - 1s 11ms/step\n",
      "53/53 [==============================] - 1s 12ms/step\n",
      "53/53 [==============================] - 1s 12ms/step\n",
      "53/53 [==============================] - 1s 12ms/step\n",
      "53/53 [==============================] - 1s 12ms/step\n"
     ]
    }
   ],
   "source": [
    "actual = np.argmax(test_Y, axis = 1)\n",
    "prediction = []\n",
    "for i in range(10):\n",
    "    # Get Predictions (reverse to_categorical)\n",
    "    pred_proba = model[i].predict(test_X)\n",
    "    prediction.append(np.argmax(pred_proba, axis = 1))"
   ]
  },
  {
   "cell_type": "code",
   "execution_count": 12,
   "id": "a261510e",
   "metadata": {},
   "outputs": [],
   "source": [
    "accuracy = []\n",
    "\n",
    "for i in range(10):\n",
    "    accuracy.append(Counter(prediction[0] == actual)[True] / len(prediction[0]))"
   ]
  },
  {
   "cell_type": "code",
   "execution_count": 14,
   "id": "df62d77b",
   "metadata": {},
   "outputs": [
    {
     "name": "stdout",
     "output_type": "stream",
     "text": [
      "1.0\n"
     ]
    }
   ],
   "source": [
    "print(np.mean(accuracy))"
   ]
  },
  {
   "cell_type": "code",
   "execution_count": null,
   "id": "772627ed",
   "metadata": {},
   "outputs": [],
   "source": []
  }
 ],
 "metadata": {
  "kernelspec": {
   "display_name": "tensorflow",
   "language": "python",
   "name": "tensorflow"
  },
  "language_info": {
   "codemirror_mode": {
    "name": "ipython",
    "version": 3
   },
   "file_extension": ".py",
   "mimetype": "text/x-python",
   "name": "python",
   "nbconvert_exporter": "python",
   "pygments_lexer": "ipython3",
   "version": "3.7.16"
  }
 },
 "nbformat": 4,
 "nbformat_minor": 5
}

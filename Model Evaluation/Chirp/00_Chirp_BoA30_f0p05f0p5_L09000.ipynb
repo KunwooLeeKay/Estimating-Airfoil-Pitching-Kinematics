{
 "cells": [
  {
   "cell_type": "markdown",
   "id": "2bb3da65",
   "metadata": {},
   "source": [
    "# Chirp, BoA 30, varying frequency 0.05 -> 0.5 in 9000 timesteps\n",
    "## Use the original model that has BoA and Frequency output constrained"
   ]
  },
  {
   "cell_type": "code",
   "execution_count": 1,
   "id": "5a942f51",
   "metadata": {},
   "outputs": [],
   "source": [
    "from tensorflow import keras\n",
    "import numpy as np\n",
    "from sklearn.metrics import confusion_matrix\n",
    "from collections import Counter\n",
    "from matplotlib import pyplot as plt\n",
    "import tensorflow as tf\n",
    "from sklearn.metrics import classification_report\n",
    "from sklearn.preprocessing import OneHotEncoder"
   ]
  },
  {
   "cell_type": "code",
   "execution_count": 2,
   "id": "fcb32293",
   "metadata": {},
   "outputs": [],
   "source": [
    "model = keras.models.load_model(\"/Volumes/KleeFD/models/Testing effect of window size/one thirds/iter 1.h5\")"
   ]
  },
  {
   "cell_type": "code",
   "execution_count": 3,
   "id": "52d1db52",
   "metadata": {},
   "outputs": [],
   "source": [
    "dir = \"/Volumes/KleeFD/dataset/dataset_chirp\""
   ]
  },
  {
   "cell_type": "markdown",
   "id": "cc50c55b",
   "metadata": {},
   "source": [
    "## TEST DATA"
   ]
  },
  {
   "cell_type": "code",
   "execution_count": 4,
   "id": "4e01477d",
   "metadata": {},
   "outputs": [],
   "source": [
    "test_X = np.load(dir + '/Chirp_BoA30_f0p05f0p5_L09000.npy')\n",
    "freq = (np.load(dir + '/FREQ_Chirp_BoA30_f0p05f0p5_L09000.npy'))\n",
    "angle = (np.load(dir + '/ANGLE_Chirp_BoA30_f0p05f0p5_L09000.npy'))\n",
    "\n",
    "boa_cat = [25.0]*8 + [30.0]*8\n",
    "\n",
    "freq_cat = [0.05, 0.1, 0.2, 0.25, 0.3, 0.35, 0.4, 0.5, 0.05, 0.1, 0.2, 0.25, 0.3, 0.35, 0.4, 0.5]"
   ]
  },
  {
   "cell_type": "code",
   "execution_count": 5,
   "id": "a70a482b",
   "metadata": {},
   "outputs": [
    {
     "name": "stdout",
     "output_type": "stream",
     "text": [
      "29/29 [==============================] - 2s 51ms/step\n"
     ]
    }
   ],
   "source": [
    "# Get Predictions (reverse to_categorical)\n",
    "pred_proba = model.predict(test_X)\n",
    "prediction = np.argmax(pred_proba, axis = 1)"
   ]
  },
  {
   "cell_type": "code",
   "execution_count": 6,
   "id": "2b2bbb61",
   "metadata": {},
   "outputs": [
    {
     "name": "stdout",
     "output_type": "stream",
     "text": [
      "[0.05045 0.07545 0.10045 0.12545 0.15045 0.17545 0.20045 0.22545 0.25045\n",
      " 0.27545 0.30045 0.32545 0.35045 0.37545 0.40045 0.42545 0.45045 0.47545]\n",
      "[0.1, 0.05, 0.05, 0.05, 0.1, 0.1, 0.1, 0.25, 0.05, 0.1, 0.4, 0.4, 0.4, 0.4, 0.4, 0.4, 0.4, 0.4]\n",
      "[30.0, 30.0, 30.0, 30.0, 30.0, 30.0, 30.0, 30.0, 30.0, 30.0, 30.0, 30.0, 30.0, 30.0, 30.0, 30.0, 30.0, 30.0]\n"
     ]
    }
   ],
   "source": [
    "print(freq[0::50])\n",
    "\n",
    "freq_pred = []\n",
    "boa_pred = []\n",
    "\n",
    "for i, p in enumerate(prediction):\n",
    "    freq_pred.append(freq_cat[p])\n",
    "    boa_pred.append(boa_cat[p])\n",
    "    \n",
    "print(freq_pred[0::50])\n",
    "print(boa_pred[0::50])"
   ]
  },
  {
   "cell_type": "markdown",
   "id": "5dad503f",
   "metadata": {},
   "source": [
    "## Freqency Prediction"
   ]
  },
  {
   "cell_type": "code",
   "execution_count": 7,
   "id": "03857ba7",
   "metadata": {},
   "outputs": [
    {
     "data": {
      "text/plain": [
       "Text(0.5, 0, 'Time Step')"
      ]
     },
     "execution_count": 7,
     "metadata": {},
     "output_type": "execute_result"
    },
    {
     "data": {
      "image/png": "[encoded data removed]",
      "text/plain": [
       "<Figure size 1080x720 with 1 Axes>"
      ]
     },
     "metadata": {
      "needs_background": "light"
     },
     "output_type": "display_data"
    }
   ],
   "source": [
    "plt.figure(figsize = (15,10))\n",
    "plt.plot(list(range(len(freq))), freq, label = 'Actual')\n",
    "plt.scatter(list(range(len(freq))), freq_pred, c = 'r', label = 'Pred')\n",
    "plt.legend()\n",
    "plt.ylabel(\"Frequency\")\n",
    "plt.xlabel(\"Time Step\")"
   ]
  },
  {
   "cell_type": "markdown",
   "id": "161f59dd",
   "metadata": {},
   "source": [
    "## It doesn't seem to be working well...\n",
    "- categorize the frequencies. In that case, is the model working?"
   ]
  },
  {
   "cell_type": "code",
   "execution_count": 8,
   "id": "76ff048e",
   "metadata": {},
   "outputs": [
    {
     "name": "stdout",
     "output_type": "stream",
     "text": [
      "# of cat: 8\n",
      "899\n"
     ]
    }
   ],
   "source": [
    "## RANGE 0.05 - 0.10 - ----..... Is the prediction in the correct range??\n",
    "\n",
    "freq_cat = np.array([0, 0.05, 0.1, 0.2, 0.25, 0.3, 0.35, 0.4, 0.5, 0.6])\n",
    "\n",
    "# Set threshold values to be the mean value between two categoires. i.e. if 0.075 < x < 0.15 then 0.1\n",
    "thres = []\n",
    "for i in range(8):\n",
    "    thres.append(tuple([(freq_cat[i+1] + freq_cat[i])/2, (freq_cat[i+1] + freq_cat[i+2])/2]))\n",
    "\n",
    "print(\"# of cat:\",len(thres))\n",
    "\n",
    "# Make correct label according to that.\n",
    "categorized_freq = []\n",
    "for f in freq:\n",
    "    for cat_num in range(8):\n",
    "        bound = thres[cat_num]\n",
    "        if bound[0] < f and bound[1] > f:\n",
    "            categorized_freq.append(cat_num)\n",
    "            \n",
    "print(len(categorized_freq))"
   ]
  },
  {
   "cell_type": "code",
   "execution_count": 9,
   "id": "d1c92487",
   "metadata": {},
   "outputs": [],
   "source": [
    "import itertools\n",
    "def plot_confusion_matrix(cm, classes,\n",
    "                          normalize=False,\n",
    "                          title='Confusion matrix',\n",
    "                          cmap=plt.cm.Blues):\n",
    "    \"\"\"\n",
    "    This function prints and plots the confusion matrix.\n",
    "    Normalization can be applied by setting `normalize=True`.\n",
    "    \"\"\"\n",
    "    if normalize:\n",
    "        cm = cm.astype('float') / cm.sum(axis=1)[:, np.newaxis]\n",
    "        print(\"Normalized confusion matrix\")\n",
    "    else:\n",
    "        print('Confusion matrix, without normalization')\n",
    "\n",
    "    plt.imshow(cm, interpolation='nearest', cmap=cmap)\n",
    "    plt.title(title)\n",
    "    plt.colorbar()\n",
    "    tick_marks = np.arange(len(classes))\n",
    "    plt.xticks(tick_marks, classes, rotation=45)\n",
    "    plt.yticks(tick_marks, classes)\n",
    "\n",
    "    fmt = '.2f' if normalize else 'd'\n",
    "    thresh = cm.max() / 2.\n",
    "    for i, j in itertools.product(range(cm.shape[0]), range(cm.shape[1])):\n",
    "        plt.text(j, i, format(cm[i, j], fmt),\n",
    "                 horizontalalignment=\"center\",\n",
    "                 color=\"white\" if cm[i, j] > thresh else \"black\")\n",
    "\n",
    "    plt.tight_layout()\n",
    "    plt.ylabel('True label')\n",
    "    plt.xlabel('Predicted label')"
   ]
  },
  {
   "cell_type": "code",
   "execution_count": 10,
   "id": "22572edf",
   "metadata": {},
   "outputs": [],
   "source": [
    "categorized_freq = np.array(categorized_freq).reshape(-1,1)\n",
    "categorized_freq_pred = []\n",
    "freq_cat = np.array([0.05, 0.1, 0.2, 0.25, 0.3, 0.35, 0.4, 0.5])\n",
    "for p in freq_pred:\n",
    "    categorized_freq_pred.append(np.where(freq_cat == p)[0][0])\n",
    "categorized_freq_pred = np.array(categorized_freq_pred).reshape(-1,1)"
   ]
  },
  {
   "cell_type": "code",
   "execution_count": 11,
   "id": "38d17ca2",
   "metadata": {},
   "outputs": [
    {
     "name": "stdout",
     "output_type": "stream",
     "text": [
      "Confusion matrix, without normalization\n"
     ]
    },
    {
     "data": {
      "image/png": "[encoded data removed]",
      "text/plain": [
       "<Figure size 576x576 with 2 Axes>"
      ]
     },
     "metadata": {
      "needs_background": "light"
     },
     "output_type": "display_data"
    }
   ],
   "source": [
    "# Compute confusion matrix\n",
    "cnf_matrix = confusion_matrix(categorized_freq, categorized_freq_pred)\n",
    "np.set_printoptions(precision=2)\n",
    "\n",
    "# Plot non-normalized confusion matrix\n",
    "plt.figure(figsize=(8, 8))\n",
    "plot_confusion_matrix(cnf_matrix, classes = freq_cat, normalize=False,\n",
    "                      title='Confusion matrix')\n",
    "plt.show()"
   ]
  },
  {
   "cell_type": "code",
   "execution_count": 12,
   "id": "dc919312",
   "metadata": {},
   "outputs": [
    {
     "name": "stdout",
     "output_type": "stream",
     "text": [
      "              precision    recall  f1-score   support\n",
      "\n",
      "           0       0.18      0.82      0.29        50\n",
      "           1       0.41      0.40      0.41       150\n",
      "           2       1.00      0.07      0.12       150\n",
      "           3       0.23      0.20      0.22       100\n",
      "           4       0.00      0.00      0.00       100\n",
      "           5       0.00      0.00      0.00       100\n",
      "           6       0.38      1.00      0.55       150\n",
      "           7       0.00      0.00      0.00        99\n",
      "\n",
      "    accuracy                           0.31       899\n",
      "   macro avg       0.27      0.31      0.20       899\n",
      "weighted avg       0.33      0.31      0.22       899\n",
      "\n"
     ]
    },
    {
     "name": "stderr",
     "output_type": "stream",
     "text": [
      "/Users/kunwoosmac/miniconda3/envs/tf25/lib/python3.8/site-packages/sklearn/metrics/_classification.py:1344: UndefinedMetricWarning: Precision and F-score are ill-defined and being set to 0.0 in labels with no predicted samples. Use `zero_division` parameter to control this behavior.\n",
      "  _warn_prf(average, modifier, msg_start, len(result))\n",
      "/Users/kunwoosmac/miniconda3/envs/tf25/lib/python3.8/site-packages/sklearn/metrics/_classification.py:1344: UndefinedMetricWarning: Precision and F-score are ill-defined and being set to 0.0 in labels with no predicted samples. Use `zero_division` parameter to control this behavior.\n",
      "  _warn_prf(average, modifier, msg_start, len(result))\n",
      "/Users/kunwoosmac/miniconda3/envs/tf25/lib/python3.8/site-packages/sklearn/metrics/_classification.py:1344: UndefinedMetricWarning: Precision and F-score are ill-defined and being set to 0.0 in labels with no predicted samples. Use `zero_division` parameter to control this behavior.\n",
      "  _warn_prf(average, modifier, msg_start, len(result))\n"
     ]
    }
   ],
   "source": [
    "print(classification_report(categorized_freq, categorized_freq_pred))"
   ]
  },
  {
   "cell_type": "markdown",
   "id": "2438dd4b",
   "metadata": {},
   "source": [
    "- It is very bad...\n",
    "- Might wanna test on new model with two separate output to see if that can help"
   ]
  },
  {
   "cell_type": "code",
   "execution_count": 13,
   "id": "17c2cd02",
   "metadata": {},
   "outputs": [
    {
     "name": "stdout",
     "output_type": "stream",
     "text": [
      "ACCURACY : 31.25695216907675\n"
     ]
    }
   ],
   "source": [
    "a = np.array(categorized_freq == categorized_freq_pred)\n",
    "\n",
    "correct = 0\n",
    "\n",
    "for boolean in a:\n",
    "    if boolean == True:\n",
    "        correct += 1\n",
    "print(\"ACCURACY :\", correct/len(a)*100)"
   ]
  },
  {
   "cell_type": "markdown",
   "id": "8520a03a",
   "metadata": {},
   "source": [
    "## BoA Prediction"
   ]
  },
  {
   "cell_type": "code",
   "execution_count": 14,
   "id": "2062f4eb",
   "metadata": {},
   "outputs": [
    {
     "data": {
      "text/plain": [
       "Counter({30.0: 843, 25.0: 56})"
      ]
     },
     "execution_count": 14,
     "metadata": {},
     "output_type": "execute_result"
    }
   ],
   "source": [
    "from collections import Counter\n",
    "Counter(boa_pred)"
   ]
  },
  {
   "cell_type": "code",
   "execution_count": 15,
   "id": "0d14c6b3",
   "metadata": {},
   "outputs": [
    {
     "data": {
      "text/plain": [
       "4.560622914349278"
      ]
     },
     "execution_count": 15,
     "metadata": {},
     "output_type": "execute_result"
    }
   ],
   "source": [
    "41/(858+41)*100"
   ]
  },
  {
   "cell_type": "markdown",
   "id": "9cf4f3cf",
   "metadata": {},
   "source": [
    "## Seem to be bad at predicting frequency, but good at predicting BoA.\n",
    "- check in which cases did it predict wrong\n",
    "- Check on new DNS data with BoA 25, and see if the model predicts it correctly."
   ]
  },
  {
   "cell_type": "code",
   "execution_count": 16,
   "id": "cc6bdb9c",
   "metadata": {},
   "outputs": [
    {
     "name": "stdout",
     "output_type": "stream",
     "text": [
      "index: 153 , freq: 0.12695             , prediction: 0.1 , instantaneous angle: 25.20954099805335\n",
      "index: 154 , freq: 0.12745             , prediction: 0.1 , instantaneous angle: 25.06554975986646\n",
      "index: 155 , freq: 0.12795             , prediction: 0.1 , instantaneous angle: 25.002729915100034\n",
      "index: 156 , freq: 0.12845             , prediction: 0.1 , instantaneous angle: 25.02332934992379\n",
      "index: 157 , freq: 0.12895             , prediction: 0.1 , instantaneous angle: 25.128216036258742\n",
      "index: 158 , freq: 0.12945             , prediction: 0.1 , instantaneous angle: 25.31681572224546\n",
      "index: 159 , freq: 0.12995             , prediction: 0.1 , instantaneous angle: 25.58707336380626\n",
      "index: 160 , freq: 0.13045             , prediction: 0.1 , instantaneous angle: 25.935440269024795\n",
      "index: 161 , freq: 0.13095             , prediction: 0.1 , instantaneous angle: 26.35688853641727\n",
      "index: 162 , freq: 0.13145             , prediction: 0.1 , instantaneous angle: 26.84495391807266\n",
      "index: 163 , freq: 0.13195             , prediction: 0.1 , instantaneous angle: 27.39180773427273\n",
      "index: 164 , freq: 0.13245             , prediction: 0.1 , instantaneous angle: 27.98835791439771\n",
      "index: 165 , freq: 0.13295             , prediction: 0.1 , instantaneous angle: 28.624378648149207\n",
      "index: 166 , freq: 0.13345             , prediction: 0.1 , instantaneous angle: 29.28866751143512\n",
      "index: 167 , freq: 0.13395             , prediction: 0.1 , instantaneous angle: 29.96922829421248\n",
      "index: 168 , freq: 0.13445000000000001 , prediction: 0.1 , instantaneous angle: 30.65347711607282\n",
      "index: 169 , freq: 0.13495000000000001 , prediction: 0.1 , instantaneous angle: 31.328468783439327\n",
      "index: 170 , freq: 0.13545000000000001 , prediction: 0.1 , instantaneous angle: 31.98113973491637\n",
      "index: 171 , freq: 0.13595000000000002 , prediction: 0.1 , instantaneous angle: 32.59856335421436\n",
      "index: 172 , freq: 0.13645000000000002 , prediction: 0.1 , instantaneous angle: 33.16821291912056\n",
      "index: 173 , freq: 0.13695000000000002 , prediction: 0.1 , instantaneous angle: 33.67822701610074\n",
      "index: 174 , freq: 0.13745             , prediction: 0.1 , instantaneous angle: 34.117671898761635\n",
      "index: 175 , freq: 0.13795000000000002 , prediction: 0.1 , instantaneous angle: 34.47679501918097\n",
      "index: 176 , freq: 0.13845000000000002 , prediction: 0.1 , instantaneous angle: 34.74726382731231\n",
      "index: 177 , freq: 0.13895000000000002 , prediction: 0.1 , instantaneous angle: 34.922383926839814\n",
      "index: 178 , freq: 0.13945000000000002 , prediction: 0.1 , instantaneous angle: 34.99729080533778\n",
      "index: 179 , freq: 0.13995             , prediction: 0.1 , instantaneous angle: 34.96910962910048\n",
      "index: 180 , freq: 0.14045000000000002 , prediction: 0.1 , instantaneous angle: 34.837078012247495\n",
      "index: 181 , freq: 0.14095000000000002 , prediction: 0.1 , instantaneous angle: 34.60262723599341\n",
      "index: 182 , freq: 0.14145000000000002 , prediction: 0.1 , instantaneous angle: 34.269418103941575\n",
      "index: 183 , freq: 0.14195000000000002 , prediction: 0.1 , instantaneous angle: 33.843328465653904\n",
      "index: 184 , freq: 0.14245             , prediction: 0.1 , instantaneous angle: 33.332390412255215\n",
      "index: 185 , freq: 0.14295000000000002 , prediction: 0.1 , instantaneous angle: 32.746676229049385\n",
      "index: 186 , freq: 0.14345000000000002 , prediction: 0.1 , instantaneous angle: 32.098133361627426\n",
      "index: 370 , freq: 0.23545000000000005 , prediction: 0.3 , instantaneous angle: 30.538037785310888\n",
      "index: 371 , freq: 0.23595             , prediction: 0.3 , instantaneous angle: 29.218432748983012\n",
      "index: 372 , freq: 0.23645             , prediction: 0.3 , instantaneous angle: 27.95043418135969\n",
      "index: 373 , freq: 0.23695             , prediction: 0.3 , instantaneous angle: 26.823530896951272\n",
      "index: 374 , freq: 0.23745             , prediction: 0.3 , instantaneous angle: 25.91829467394342\n",
      "index: 375 , freq: 0.23795             , prediction: 0.3 , instantaneous angle: 25.30050564646219\n",
      "index: 376 , freq: 0.23845             , prediction: 0.3 , instantaneous angle: 25.01621089908867\n",
      "index: 377 , freq: 0.23895             , prediction: 0.3 , instantaneous angle: 25.088096361880496\n",
      "index: 378 , freq: 0.23945             , prediction: 0.3 , instantaneous angle: 25.513468529836853\n",
      "index: 379 , freq: 0.23995000000000005 , prediction: 0.3 , instantaneous angle: 26.264034328157432\n",
      "index: 380 , freq: 0.24045000000000005 , prediction: 0.3 , instantaneous angle: 27.28754159450121\n",
      "index: 381 , freq: 0.24095             , prediction: 0.3 , instantaneous angle: 28.511207755553716\n",
      "index: 382 , freq: 0.24145             , prediction: 0.3 , instantaneous angle: 29.846730000435382\n",
      "index: 383 , freq: 0.24195             , prediction: 0.3 , instantaneous angle: 31.19654664518181\n",
      "index: 384 , freq: 0.24245             , prediction: 0.3 , instantaneous angle: 32.46091613239062\n",
      "index: 385 , freq: 0.24295             , prediction: 0.3 , instantaneous angle: 33.545305801313766\n",
      "index: 386 , freq: 0.24345             , prediction: 0.3 , instantaneous angle: 34.36754396231962\n",
      "index: 387 , freq: 0.24395             , prediction: 0.3 , instantaneous angle: 34.86419025815631\n",
      "index: 388 , freq: 0.24445             , prediction: 0.3 , instantaneous angle: 34.995622259379566\n",
      "index: 389 , freq: 0.24495             , prediction: 0.3 , instantaneous angle: 34.74941906027551\n",
      "index: 390 , freq: 0.24545             , prediction: 0.3 , instantaneous angle: 34.14174050020456\n",
      "index: 391 , freq: 0.24595             , prediction: 0.3 , instantaneous angle: 33.216545789482254\n"
     ]
    }
   ],
   "source": [
    "for i in range(len(boa_pred)):\n",
    "    if boa_pred[i] == 25.0:\n",
    "        print(\"index: {:<4}, freq: {:<20}, prediction: {:<4}, instantaneous angle: {:<10}\".format(i, freq[i], freq_pred[i], 30 - 5*angle[i]))"
   ]
  },
  {
   "cell_type": "markdown",
   "id": "421eba9a",
   "metadata": {},
   "source": [
    "# Conclusion.\n",
    "\n",
    "- Create new model with two separate outputs : frequency & boa, and check the performance again\n",
    "- Create new DNS data with everything same but BoA = 25. Will the model predict the boa well?"
   ]
  }
 ],
 "metadata": {
  "kernelspec": {
   "display_name": "tf_metal",
   "language": "python",
   "name": "tf25"
  },
  "language_info": {
   "codemirror_mode": {
    "name": "ipython",
    "version": 3
   },
   "file_extension": ".py",
   "mimetype": "text/x-python",
   "name": "python",
   "nbconvert_exporter": "python",
   "pygments_lexer": "ipython3",
   "version": "3.8.16"
  }
 },
 "nbformat": 4,
 "nbformat_minor": 5
}

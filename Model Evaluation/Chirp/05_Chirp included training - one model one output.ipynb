{
 "cells": [
  {
   "cell_type": "markdown",
   "id": "c818fa5d",
   "metadata": {},
   "source": [
    "# Include Chirp In Training"
   ]
  },
  {
   "cell_type": "code",
   "execution_count": 2,
   "id": "d2bdcbdc",
   "metadata": {},
   "outputs": [
    {
     "data": {
      "text/plain": [
       "array([['[30.], [0.'],\n",
       "       ['[25.], [0.'],\n",
       "       ['[25.], [0.'],\n",
       "       ['[30.], [0.'],\n",
       "       ['[30.], [0.']], dtype='<U10')"
      ]
     },
     "execution_count": 2,
     "metadata": {},
     "output_type": "execute_result"
    }
   ],
   "source": [
    "import numpy as np\n",
    "import tensorflow as tf\n",
    "from sklearn.preprocessing import OneHotEncoder\n",
    "\n",
    "dir = '/Volumes/KleeFD/dataset/window_normalized/Window Size/one thirds/'\n",
    "\n",
    "# Load Data - Original\n",
    "train_X1 = np.load(dir + 'train_X.npy')\n",
    "train_Y = (np.load(dir + 'train_Y.npy')).reshape(-1,2)\n",
    "\n",
    "train_boa1 = train_Y[:,0].reshape(-1,1)\n",
    "train_freq1 = train_Y[:,1].reshape(-1,1)\n",
    "\n",
    "val_X = np.load(dir + 'val_X.npy')\n",
    "val_Y = (np.load(dir + 'val_Y.npy')).reshape(-1,2)\n",
    "\n",
    "val_boa1 = val_Y[:,0].reshape(-1,1)\n",
    "val_freq1 = val_Y[:,1].reshape(-1,1)\n",
    "\n",
    "train_boa1 = np.concatenate((train_boa1, val_boa1), axis = 0)\n",
    "train_freq1 = np.concatenate((train_freq1, val_freq1), axis = 0)\n",
    "\n",
    "# Load Data - Chirp\n",
    "dir = '/Volumes/KleeFD/dataset/dataset_chirp/02_boa25+30_f0p05f0p5/'\n",
    "train_X2 = np.load(dir + 'train_X.npy')\n",
    "train_Y = (np.load(dir + 'train_Y.npy')).reshape(-1,2)\n",
    "\n",
    "train_boa2 = train_Y[:,0].reshape(-1,1)\n",
    "train_freq2 = train_Y[:,1].reshape(-1,1)\n",
    "\n",
    "train_X = np.concatenate((train_X1, val_X,train_X2), axis = 0)\n",
    "\n",
    "train_boa = np.concatenate((train_boa1, train_boa2), axis = 0)\n",
    "train_freq = np.concatenate((train_freq1, train_freq2), axis = 0)\n",
    "\n",
    "Y = np.zeros((len(train_boa), 1), dtype = '<U10')\n",
    "for i in range(len(train_boa)):\n",
    "    Y[i] = (str(train_boa[i][0])+', '+ str(train_freq[i][0]))\n",
    "train_Y = Y\n",
    "\n",
    "train_Y[0:5]"
   ]
  },
  {
   "cell_type": "code",
   "execution_count": 6,
   "id": "dd724b85",
   "metadata": {},
   "outputs": [
    {
     "data": {
      "text/plain": [
       "array([['30.0, 0.5'],\n",
       "       ['25.0, 0.2'],\n",
       "       ['25.0, 0.2'],\n",
       "       ['30.0, 0.35'],\n",
       "       ['30.0, 0.25']], dtype='<U10')"
      ]
     },
     "execution_count": 6,
     "metadata": {},
     "output_type": "execute_result"
    }
   ],
   "source": [
    "Y = np.zeros((len(train_boa), 1), dtype = '<U10')\n",
    "for i in range(len(train_boa)):\n",
    "    Y[i] = (str(train_boa[i][0])+', '+ str(train_freq[i][0]))\n",
    "train_Y = Y\n",
    "\n",
    "train_Y[0:5]"
   ]
  },
  {
   "cell_type": "code",
   "execution_count": 1,
   "id": "5a942f51",
   "metadata": {},
   "outputs": [],
   "source": [
    "from tensorflow import keras\n",
    "import numpy as np\n",
    "from sklearn.metrics import confusion_matrix\n",
    "from collections import Counter\n",
    "from matplotlib import pyplot as plt\n",
    "import tensorflow as tf\n",
    "from sklearn.metrics import classification_report\n",
    "from sklearn.preprocessing import OneHotEncoder"
   ]
  },
  {
   "cell_type": "code",
   "execution_count": 2,
   "id": "eb557729",
   "metadata": {},
   "outputs": [],
   "source": [
    "import itertools\n",
    "def plot_confusion_matrix(cm, classes,\n",
    "                          normalize=False,\n",
    "                          title='Confusion matrix',\n",
    "                          cmap=plt.cm.Blues, cbar = False):\n",
    "    \"\"\"\n",
    "    This function prints and plots the confusion matrix.\n",
    "    Normalization can be applied by setting `normalize=True`.\n",
    "    \"\"\"\n",
    "    if normalize:\n",
    "        cm = cm.astype('float') / cm.sum(axis=1)[:, np.newaxis]\n",
    "        print(\"Normalized confusion matrix\")\n",
    "    else:\n",
    "        print('Confusion matrix, without normalization')\n",
    "\n",
    "    plt.imshow(cm, interpolation='nearest', cmap=cmap)\n",
    "    plt.title(title)\n",
    "    if cbar == True:\n",
    "        plt.colorbar()\n",
    "    tick_marks = np.arange(len(classes))\n",
    "    plt.xticks(tick_marks, classes, rotation=45)\n",
    "    plt.yticks(tick_marks, classes)\n",
    "\n",
    "    fmt = '.2f' if normalize else 'd'\n",
    "    thresh = cm.max() / 2.\n",
    "    for i, j in itertools.product(range(cm.shape[0]), range(cm.shape[1])):\n",
    "        plt.text(j, i, format(cm[i, j], fmt),\n",
    "                 horizontalalignment=\"center\",\n",
    "                 color=\"white\" if cm[i, j] > thresh else \"black\")\n",
    "\n",
    "    plt.tight_layout()\n",
    "    plt.ylabel('True label')\n",
    "    plt.xlabel('Predicted label')"
   ]
  },
  {
   "cell_type": "code",
   "execution_count": 3,
   "id": "fcb32293",
   "metadata": {},
   "outputs": [],
   "source": [
    "model = keras.models.load_model(\"/Volumes/KleeFD/models/Chirp/train with chirp.h5\")"
   ]
  },
  {
   "cell_type": "markdown",
   "id": "4da0ca6d",
   "metadata": {},
   "source": [
    "# Prediction for Chirp Signal"
   ]
  },
  {
   "cell_type": "code",
   "execution_count": 4,
   "id": "42b76ca0",
   "metadata": {},
   "outputs": [],
   "source": [
    "dir = \"/Volumes/KleeFD/dataset/dataset_chirp/02_boa25+30_f0p05f0p5\""
   ]
  },
  {
   "cell_type": "code",
   "execution_count": 5,
   "id": "4e01477d",
   "metadata": {},
   "outputs": [],
   "source": [
    "test_X = np.load(dir + '/test_X.npy')\n",
    "freq = (np.load(dir + '/test_Y.npy'))[:,1]\n",
    "boa = (np.load(dir + '/test_Y.npy'))[:,0]\n",
    "continuous_freq = (np.load('/Volumes/KleeFD/dataset/dataset_chirp/01_boa25_f0p05f0p5/FREQ_Chirp_BoA25_f0p05f0p5_L09000.npy'))\n",
    "\n",
    "\n",
    "boa_cat = np.array([25.0, 30.0])\n",
    "\n",
    "freq_cat = np.array([0.05, 0.1, 0.2, 0.25, 0.3, 0.35, 0.4, 0.5])"
   ]
  },
  {
   "cell_type": "code",
   "execution_count": 6,
   "id": "a70a482b",
   "metadata": {},
   "outputs": [
    {
     "name": "stdout",
     "output_type": "stream",
     "text": [
      "12/12 [==============================] - 1s 36ms/step\n"
     ]
    }
   ],
   "source": [
    "# Get Predictions\n",
    "pred_proba = model.predict(test_X)"
   ]
  },
  {
   "cell_type": "code",
   "execution_count": 7,
   "id": "2c16b5a4",
   "metadata": {},
   "outputs": [],
   "source": [
    "pred_proba_boa = pred_proba[1]\n",
    "pred_proba_freq = pred_proba[0]\n",
    "\n",
    "# proba -> get highest prba\n",
    "boa_pred_idx = np.argmax(pred_proba_boa, axis = 1)\n",
    "freq_pred_idx = np.argmax(pred_proba_freq, axis = 1)"
   ]
  },
  {
   "cell_type": "code",
   "execution_count": 8,
   "id": "dbb024f0",
   "metadata": {
    "scrolled": true
   },
   "outputs": [],
   "source": [
    "# Change the index to name of category\n",
    "freq_idx = []\n",
    "boa_idx = []\n",
    "\n",
    "for b,f in zip(boa, freq):\n",
    "    boa_idx.append(np.where(boa_cat == b)[0][0])\n",
    "    freq_idx.append(np.where(freq_cat == f)[0][0])\n",
    "    \n",
    "freq_idx = np.array(freq_idx)\n",
    "boa_idx = np.array(boa_idx)"
   ]
  },
  {
   "cell_type": "markdown",
   "id": "95f87f36",
   "metadata": {},
   "source": [
    "### Frequency Results"
   ]
  },
  {
   "cell_type": "code",
   "execution_count": 9,
   "id": "38d17ca2",
   "metadata": {},
   "outputs": [
    {
     "name": "stdout",
     "output_type": "stream",
     "text": [
      "Confusion matrix, without normalization\n"
     ]
    },
    {
     "data": {
      "image/png": "[encoded data removed]",
      "text/plain": [
       "<Figure size 432x432 with 1 Axes>"
      ]
     },
     "metadata": {
      "needs_background": "light"
     },
     "output_type": "display_data"
    },
    {
     "name": "stdout",
     "output_type": "stream",
     "text": [
      "              precision    recall  f1-score   support\n",
      "\n",
      "           0       0.02      0.15      0.04        20\n",
      "           1       0.52      0.57      0.54        60\n",
      "           2       0.44      0.62      0.51        60\n",
      "           3       0.50      0.17      0.26        40\n",
      "           4       0.00      0.00      0.00        40\n",
      "           5       0.50      0.07      0.13        40\n",
      "           6       0.50      0.15      0.23        60\n",
      "           7       0.28      0.28      0.28        40\n",
      "\n",
      "    accuracy                           0.29       360\n",
      "   macro avg       0.35      0.25      0.25       360\n",
      "weighted avg       0.39      0.29      0.29       360\n",
      "\n",
      "========================================\n",
      "ACCURACY : 28.888888888888886\n"
     ]
    }
   ],
   "source": [
    "# Compute confusion matrix\n",
    "cnf_matrix = confusion_matrix(freq_idx, freq_pred_idx)\n",
    "np.set_printoptions(precision=2)\n",
    "\n",
    "# Plot non-normalized confusion matrix\n",
    "plt.figure(figsize=(6,6))\n",
    "plot_confusion_matrix(cnf_matrix, classes = freq_cat, normalize=False,\n",
    "                      title='Frequency Prediction')\n",
    "plt.show()\n",
    "\n",
    "# Classification Report & Accuracy\n",
    "print(classification_report(freq_idx, freq_pred_idx, zero_division = 0))\n",
    "\n",
    "a = np.array(freq_idx == freq_pred_idx)\n",
    "\n",
    "correct = 0\n",
    "\n",
    "for boolean in a:\n",
    "    if boolean == True:\n",
    "        correct += 1\n",
    "print('='*40)\n",
    "print(\"ACCURACY :\", correct/len(a)*100)"
   ]
  },
  {
   "cell_type": "markdown",
   "id": "a5fdabef",
   "metadata": {},
   "source": [
    "### BoA Results"
   ]
  },
  {
   "cell_type": "code",
   "execution_count": 10,
   "id": "4cedaccb",
   "metadata": {},
   "outputs": [
    {
     "name": "stdout",
     "output_type": "stream",
     "text": [
      "Confusion matrix, without normalization\n"
     ]
    },
    {
     "data": {
      "image/png": "[encoded data removed]",
      "text/plain": [
       "<Figure size 432x432 with 1 Axes>"
      ]
     },
     "metadata": {
      "needs_background": "light"
     },
     "output_type": "display_data"
    },
    {
     "name": "stdout",
     "output_type": "stream",
     "text": [
      "              precision    recall  f1-score   support\n",
      "\n",
      "           0       1.00      0.49      0.66       180\n",
      "           1       0.66      1.00      0.80       180\n",
      "\n",
      "    accuracy                           0.75       360\n",
      "   macro avg       0.83      0.75      0.73       360\n",
      "weighted avg       0.83      0.75      0.73       360\n",
      "\n",
      "========================================\n",
      "ACCURACY : 74.72222222222223\n"
     ]
    }
   ],
   "source": [
    "# Compute confusion matrix\n",
    "cnf_matrix = confusion_matrix(boa_idx, boa_pred_idx)\n",
    "np.set_printoptions(precision=2)\n",
    "\n",
    "# Plot non-normalized confusion matrix\n",
    "plt.figure(figsize=(6,6))\n",
    "plot_confusion_matrix(cnf_matrix, classes = boa_cat, normalize=False,\n",
    "                      title='BoA Prediction')\n",
    "plt.show()\n",
    "\n",
    "# Classification Report & Accuracy\n",
    "print(classification_report(boa_idx, boa_pred_idx, zero_division = 0))\n",
    "\n",
    "a = np.array(boa_idx == boa_pred_idx)\n",
    "\n",
    "correct = 0\n",
    "\n",
    "for boolean in a:\n",
    "    if boolean == True:\n",
    "        correct += 1\n",
    "print('='*40)\n",
    "print(\"ACCURACY :\", correct/len(a)*100)"
   ]
  },
  {
   "cell_type": "markdown",
   "id": "b3b07b41",
   "metadata": {},
   "source": [
    "# Prediction for Sinusoidal Signal"
   ]
  },
  {
   "cell_type": "code",
   "execution_count": 11,
   "id": "f17586b4",
   "metadata": {},
   "outputs": [],
   "source": [
    "dir = \"/Volumes/KleeFD/dataset/window_normalized/Window Size/one thirds\""
   ]
  },
  {
   "cell_type": "code",
   "execution_count": 12,
   "id": "b93ec955",
   "metadata": {},
   "outputs": [],
   "source": [
    "test_X = np.load(dir + '/test_X.npy')\n",
    "freq = (np.load(dir + '/test_Y.npy'))[:,1]\n",
    "boa = (np.load(dir + '/test_Y.npy'))[:,0]"
   ]
  },
  {
   "cell_type": "code",
   "execution_count": 13,
   "id": "1807cabf",
   "metadata": {},
   "outputs": [
    {
     "name": "stdout",
     "output_type": "stream",
     "text": [
      "53/53 [==============================] - 2s 42ms/step\n"
     ]
    }
   ],
   "source": [
    "# Get Predictions\n",
    "pred_proba = model.predict(test_X)"
   ]
  },
  {
   "cell_type": "code",
   "execution_count": 14,
   "id": "2bcd5ed3",
   "metadata": {},
   "outputs": [],
   "source": [
    "pred_proba_boa = pred_proba[1]\n",
    "pred_proba_freq = pred_proba[0]\n",
    "\n",
    "# proba -> get highest prba\n",
    "boa_pred_idx = np.argmax(pred_proba_boa, axis = 1)\n",
    "freq_pred_idx = np.argmax(pred_proba_freq, axis = 1)"
   ]
  },
  {
   "cell_type": "code",
   "execution_count": 15,
   "id": "eb2b0aae",
   "metadata": {},
   "outputs": [],
   "source": [
    "# Change the index to name of category\n",
    "freq_idx = []\n",
    "boa_idx = []\n",
    "\n",
    "for b,f in zip(boa, freq):\n",
    "    boa_idx.append(np.where(boa_cat == b)[0][0])\n",
    "    freq_idx.append(np.where(freq_cat == f)[0][0])\n",
    "    \n",
    "freq_idx = np.array(freq_idx)\n",
    "boa_idx = np.array(boa_idx)"
   ]
  },
  {
   "cell_type": "markdown",
   "id": "052af80d",
   "metadata": {},
   "source": [
    "### Frequency Results"
   ]
  },
  {
   "cell_type": "code",
   "execution_count": 16,
   "id": "82fec2ae",
   "metadata": {},
   "outputs": [
    {
     "name": "stdout",
     "output_type": "stream",
     "text": [
      "Confusion matrix, without normalization\n"
     ]
    },
    {
     "data": {
      "image/png": "[encoded data removed]",
      "text/plain": [
       "<Figure size 432x432 with 1 Axes>"
      ]
     },
     "metadata": {
      "needs_background": "light"
     },
     "output_type": "display_data"
    },
    {
     "name": "stdout",
     "output_type": "stream",
     "text": [
      "              precision    recall  f1-score   support\n",
      "\n",
      "           0       0.41      0.46      0.44       210\n",
      "           1       0.37      0.66      0.47       210\n",
      "           2       0.51      1.00      0.67       210\n",
      "           3       0.98      0.93      0.96       210\n",
      "           4       0.98      0.26      0.41       210\n",
      "           5       0.20      0.06      0.09       210\n",
      "           6       0.53      0.12      0.20       210\n",
      "           7       0.71      1.00      0.83       210\n",
      "\n",
      "    accuracy                           0.56      1680\n",
      "   macro avg       0.59      0.56      0.51      1680\n",
      "weighted avg       0.59      0.56      0.51      1680\n",
      "\n",
      "========================================\n",
      "ACCURACY : 56.13095238095238\n"
     ]
    }
   ],
   "source": [
    "# Compute confusion matrix\n",
    "cnf_matrix = confusion_matrix(freq_idx, freq_pred_idx)\n",
    "np.set_printoptions(precision=2)\n",
    "\n",
    "# Plot non-normalized confusion matrix\n",
    "plt.figure(figsize=(6,6))\n",
    "plot_confusion_matrix(cnf_matrix, classes = freq_cat, normalize=False,\n",
    "                      title='Frequency Prediction')\n",
    "plt.show()\n",
    "\n",
    "# Classification Report & Accuracy\n",
    "print(classification_report(freq_idx, freq_pred_idx, zero_division = 0))\n",
    "\n",
    "a = np.array(freq_idx == freq_pred_idx)\n",
    "\n",
    "correct = 0\n",
    "\n",
    "for boolean in a:\n",
    "    if boolean == True:\n",
    "        correct += 1\n",
    "print('='*40)\n",
    "print(\"ACCURACY :\", correct/len(a)*100)"
   ]
  },
  {
   "cell_type": "markdown",
   "id": "84512602",
   "metadata": {},
   "source": [
    "### BoA Results"
   ]
  },
  {
   "cell_type": "code",
   "execution_count": 17,
   "id": "03003718",
   "metadata": {},
   "outputs": [
    {
     "name": "stdout",
     "output_type": "stream",
     "text": [
      "Confusion matrix, without normalization\n"
     ]
    },
    {
     "data": {
      "image/png": "[encoded data removed]",
      "text/plain": [
       "<Figure size 432x432 with 1 Axes>"
      ]
     },
     "metadata": {
      "needs_background": "light"
     },
     "output_type": "display_data"
    },
    {
     "name": "stdout",
     "output_type": "stream",
     "text": [
      "              precision    recall  f1-score   support\n",
      "\n",
      "           0       1.00      0.88      0.94       451\n",
      "           1       0.96      1.00      0.98      1229\n",
      "\n",
      "    accuracy                           0.97      1680\n",
      "   macro avg       0.98      0.94      0.96      1680\n",
      "weighted avg       0.97      0.97      0.97      1680\n",
      "\n",
      "========================================\n",
      "ACCURACY : 96.9047619047619\n"
     ]
    }
   ],
   "source": [
    "# Compute confusion matrix\n",
    "cnf_matrix = confusion_matrix(boa_idx, boa_pred_idx)\n",
    "np.set_printoptions(precision=2)\n",
    "\n",
    "# Plot non-normalized confusion matrix\n",
    "plt.figure(figsize=(6,6))\n",
    "plot_confusion_matrix(cnf_matrix, classes = boa_cat, normalize=False,\n",
    "                      title='BoA Prediction')\n",
    "plt.show()\n",
    "\n",
    "# Classification Report & Accuracy\n",
    "print(classification_report(boa_idx, boa_pred_idx, zero_division = 0))\n",
    "\n",
    "a = np.array(boa_idx == boa_pred_idx)\n",
    "\n",
    "correct = 0\n",
    "\n",
    "for boolean in a:\n",
    "    if boolean == True:\n",
    "        correct += 1\n",
    "print('='*40)\n",
    "print(\"ACCURACY :\", correct/len(a)*100)"
   ]
  },
  {
   "cell_type": "code",
   "execution_count": null,
   "id": "10fd371e",
   "metadata": {},
   "outputs": [],
   "source": []
  },
  {
   "cell_type": "code",
   "execution_count": null,
   "id": "8c000a45",
   "metadata": {},
   "outputs": [],
   "source": []
  },
  {
   "cell_type": "code",
   "execution_count": null,
   "id": "54e56989",
   "metadata": {},
   "outputs": [],
   "source": []
  },
  {
   "cell_type": "code",
   "execution_count": null,
   "id": "8a2dc0e0",
   "metadata": {},
   "outputs": [],
   "source": []
  },
  {
   "cell_type": "code",
   "execution_count": null,
   "id": "2a8a550e",
   "metadata": {},
   "outputs": [],
   "source": []
  },
  {
   "cell_type": "code",
   "execution_count": null,
   "id": "1139acc8",
   "metadata": {},
   "outputs": [],
   "source": []
  }
 ],
 "metadata": {
  "kernelspec": {
   "display_name": "tf_metal",
   "language": "python",
   "name": "tf25"
  },
  "language_info": {
   "codemirror_mode": {
    "name": "ipython",
    "version": 3
   },
   "file_extension": ".py",
   "mimetype": "text/x-python",
   "name": "python",
   "nbconvert_exporter": "python",
   "pygments_lexer": "ipython3",
   "version": "3.8.16"
  }
 },
 "nbformat": 4,
 "nbformat_minor": 5
}

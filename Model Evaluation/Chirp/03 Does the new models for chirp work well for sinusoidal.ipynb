{
 "cells": [
  {
   "cell_type": "markdown",
   "id": "c818fa5d",
   "metadata": {},
   "source": [
    "# Testing Freq-BoA separated output models"
   ]
  },
  {
   "cell_type": "code",
   "execution_count": 1,
   "id": "5a942f51",
   "metadata": {},
   "outputs": [],
   "source": [
    "from tensorflow import keras\n",
    "import numpy as np\n",
    "from sklearn.metrics import confusion_matrix\n",
    "from collections import Counter\n",
    "from matplotlib import pyplot as plt\n",
    "import tensorflow as tf\n",
    "from sklearn.metrics import classification_report\n",
    "from sklearn.preprocessing import OneHotEncoder"
   ]
  },
  {
   "cell_type": "code",
   "execution_count": 2,
   "id": "703ed205",
   "metadata": {},
   "outputs": [],
   "source": [
    "import itertools\n",
    "def plot_confusion_matrix(cm, classes,\n",
    "                          normalize=False,\n",
    "                          title='Confusion matrix',\n",
    "                          cmap=plt.cm.Blues, cbar = False):\n",
    "    \"\"\"\n",
    "    This function prints and plots the confusion matrix.\n",
    "    Normalization can be applied by setting `normalize=True`.\n",
    "    \"\"\"\n",
    "    if normalize:\n",
    "        cm = cm.astype('float') / cm.sum(axis=1)[:, np.newaxis]\n",
    "        print(\"Normalized confusion matrix\")\n",
    "    else:\n",
    "        print('Confusion matrix, without normalization')\n",
    "\n",
    "    plt.imshow(cm, interpolation='nearest', cmap=cmap)\n",
    "    plt.title(title)\n",
    "    if cbar == True:\n",
    "        plt.colorbar()\n",
    "    tick_marks = np.arange(len(classes))\n",
    "    plt.xticks(tick_marks, classes, rotation=45)\n",
    "    plt.yticks(tick_marks, classes)\n",
    "\n",
    "    fmt = '.2f' if normalize else 'd'\n",
    "    thresh = cm.max() / 2.\n",
    "    for i, j in itertools.product(range(cm.shape[0]), range(cm.shape[1])):\n",
    "        plt.text(j, i, format(cm[i, j], fmt),\n",
    "                 horizontalalignment=\"center\",\n",
    "                 color=\"white\" if cm[i, j] > thresh else \"black\")\n",
    "\n",
    "    plt.tight_layout()\n",
    "    plt.ylabel('True label')\n",
    "    plt.xlabel('Predicted label')"
   ]
  },
  {
   "cell_type": "markdown",
   "id": "a0ea9128",
   "metadata": {},
   "source": [
    "# Prediction for Sinusoidal Signal"
   ]
  },
  {
   "cell_type": "code",
   "execution_count": 4,
   "id": "f17586b4",
   "metadata": {},
   "outputs": [],
   "source": [
    "dir = \"/Volumes/KleeFD/dataset/window_normalized/Window Size/one thirds\""
   ]
  },
  {
   "cell_type": "markdown",
   "id": "c2ec3b2a",
   "metadata": {},
   "source": [
    "## one model two outputs"
   ]
  },
  {
   "cell_type": "code",
   "execution_count": null,
   "id": "c5f2d679",
   "metadata": {},
   "outputs": [],
   "source": [
    "model = keras.models.load_model(\"/Volumes/KleeFD/models/Chirp/one model two outputs.h5\")"
   ]
  },
  {
   "cell_type": "code",
   "execution_count": 5,
   "id": "af6b337a",
   "metadata": {},
   "outputs": [],
   "source": [
    "model = keras.models.load_model(\"/Volumes/KleeFD/models/Chirp/one model two outputs.h5\")"
   ]
  },
  {
   "cell_type": "code",
   "execution_count": 6,
   "id": "b93ec955",
   "metadata": {},
   "outputs": [],
   "source": [
    "test_X = np.load(dir + '/test_X.npy')\n",
    "freq = (np.load(dir + '/test_Y.npy'))[:,1]\n",
    "boa = (np.load(dir + '/test_Y.npy'))[:,0]"
   ]
  },
  {
   "cell_type": "code",
   "execution_count": 7,
   "id": "1807cabf",
   "metadata": {},
   "outputs": [
    {
     "name": "stdout",
     "output_type": "stream",
     "text": [
      "53/53 [==============================] - 3s 37ms/step\n"
     ]
    }
   ],
   "source": [
    "# Get Predictions\n",
    "pred_proba = model.predict(test_X)"
   ]
  },
  {
   "cell_type": "code",
   "execution_count": 8,
   "id": "8b2990a2",
   "metadata": {},
   "outputs": [],
   "source": [
    "pred_proba_boa = pred_proba[1]\n",
    "pred_proba_freq = pred_proba[0]\n",
    "\n",
    "# proba -> get highest prba\n",
    "boa_pred_idx = np.argmax(pred_proba_boa, axis = 1)\n",
    "freq_pred_idx = np.argmax(pred_proba_freq, axis = 1)"
   ]
  },
  {
   "cell_type": "code",
   "execution_count": 10,
   "id": "76c63fd8",
   "metadata": {},
   "outputs": [],
   "source": [
    "boa_cat = np.array([25.0, 30.0])\n",
    "\n",
    "freq_cat = np.array([0.05, 0.1, 0.2, 0.25, 0.3, 0.35, 0.4, 0.5])\n",
    "\n",
    "# Change the index to name of category\n",
    "freq_idx = []\n",
    "boa_idx = []\n",
    "\n",
    "for b,f in zip(boa, freq):\n",
    "    boa_idx.append(np.where(boa_cat == b)[0][0])\n",
    "    freq_idx.append(np.where(freq_cat == f)[0][0])\n",
    "    \n",
    "freq_idx = np.array(freq_idx)\n",
    "boa_idx = np.array(boa_idx)"
   ]
  },
  {
   "cell_type": "markdown",
   "id": "5c7ed1bb",
   "metadata": {},
   "source": [
    "### Frequency Results"
   ]
  },
  {
   "cell_type": "code",
   "execution_count": 11,
   "id": "e87c98b1",
   "metadata": {},
   "outputs": [
    {
     "name": "stdout",
     "output_type": "stream",
     "text": [
      "Confusion matrix, without normalization\n"
     ]
    },
    {
     "data": {
      "image/png": "[encoded data removed]",
      "text/plain": [
       "<Figure size 432x432 with 1 Axes>"
      ]
     },
     "metadata": {
      "needs_background": "light"
     },
     "output_type": "display_data"
    },
    {
     "name": "stdout",
     "output_type": "stream",
     "text": [
      "              precision    recall  f1-score   support\n",
      "\n",
      "           0       1.00      0.19      0.32       210\n",
      "           1       1.00      0.84      0.91       210\n",
      "           2       1.00      1.00      1.00       210\n",
      "           3       0.93      0.89      0.91       210\n",
      "           4       0.43      1.00      0.60       210\n",
      "           5       0.67      0.81      0.73       210\n",
      "           6       0.99      0.66      0.79       210\n",
      "           7       0.95      0.73      0.82       210\n",
      "\n",
      "    accuracy                           0.77      1680\n",
      "   macro avg       0.87      0.77      0.76      1680\n",
      "weighted avg       0.87      0.77      0.76      1680\n",
      "\n",
      "========================================\n",
      "ACCURACY : 76.60714285714286\n"
     ]
    }
   ],
   "source": [
    "# Compute confusion matrix\n",
    "cnf_matrix = confusion_matrix(freq_idx, freq_pred_idx)\n",
    "np.set_printoptions(precision=2)\n",
    "\n",
    "# Plot non-normalized confusion matrix\n",
    "plt.figure(figsize=(6,6))\n",
    "plot_confusion_matrix(cnf_matrix, classes = freq_cat, normalize=False,\n",
    "                      title='Frequency Prediction')\n",
    "plt.show()\n",
    "\n",
    "# Classification Report & Accuracy\n",
    "print(classification_report(freq_idx, freq_pred_idx, zero_division = 0))\n",
    "\n",
    "a = np.array(freq_idx == freq_pred_idx)\n",
    "\n",
    "correct = 0\n",
    "\n",
    "for boolean in a:\n",
    "    if boolean == True:\n",
    "        correct += 1\n",
    "print('='*40)\n",
    "print(\"ACCURACY :\", correct/len(a)*100)"
   ]
  },
  {
   "cell_type": "markdown",
   "id": "14b9fe64",
   "metadata": {},
   "source": [
    "### BoA Results"
   ]
  },
  {
   "cell_type": "code",
   "execution_count": 12,
   "id": "d2be8676",
   "metadata": {},
   "outputs": [
    {
     "name": "stdout",
     "output_type": "stream",
     "text": [
      "Confusion matrix, without normalization\n"
     ]
    },
    {
     "data": {
      "image/png": "[encoded data removed]",
      "text/plain": [
       "<Figure size 432x432 with 1 Axes>"
      ]
     },
     "metadata": {
      "needs_background": "light"
     },
     "output_type": "display_data"
    },
    {
     "name": "stdout",
     "output_type": "stream",
     "text": [
      "              precision    recall  f1-score   support\n",
      "\n",
      "           0       0.60      1.00      0.75       451\n",
      "           1       1.00      0.75      0.86      1229\n",
      "\n",
      "    accuracy                           0.82      1680\n",
      "   macro avg       0.80      0.88      0.80      1680\n",
      "weighted avg       0.89      0.82      0.83      1680\n",
      "\n",
      "========================================\n",
      "ACCURACY : 81.84523809523809\n"
     ]
    }
   ],
   "source": [
    "# Compute confusion matrix\n",
    "cnf_matrix = confusion_matrix(boa_idx, boa_pred_idx)\n",
    "np.set_printoptions(precision=2)\n",
    "\n",
    "# Plot non-normalized confusion matrix\n",
    "plt.figure(figsize=(6,6))\n",
    "plot_confusion_matrix(cnf_matrix, classes = boa_cat, normalize=False,\n",
    "                      title='BoA Prediction')\n",
    "plt.show()\n",
    "\n",
    "# Classification Report & Accuracy\n",
    "print(classification_report(boa_idx, boa_pred_idx, zero_division = 0))\n",
    "\n",
    "a = np.array(boa_idx == boa_pred_idx)\n",
    "\n",
    "correct = 0\n",
    "\n",
    "for boolean in a:\n",
    "    if boolean == True:\n",
    "        correct += 1\n",
    "print('='*40)\n",
    "print(\"ACCURACY :\", correct/len(a)*100)"
   ]
  },
  {
   "cell_type": "markdown",
   "id": "fc080f0c",
   "metadata": {},
   "source": [
    "## two separate models for boa and freq"
   ]
  },
  {
   "cell_type": "code",
   "execution_count": 16,
   "id": "a894d486",
   "metadata": {},
   "outputs": [],
   "source": [
    "boa_model = keras.models.load_model(\"/Volumes/KleeFD/models/Chirp/two models boa.h5\")"
   ]
  },
  {
   "cell_type": "code",
   "execution_count": 17,
   "id": "1cc23a74",
   "metadata": {},
   "outputs": [],
   "source": [
    "freq_model = keras.models.load_model(\"/Volumes/KleeFD/models/Chirp/two models freq.h5\")"
   ]
  },
  {
   "cell_type": "code",
   "execution_count": 18,
   "id": "15938dc1",
   "metadata": {},
   "outputs": [],
   "source": [
    "test_X = np.load(dir + '/test_X.npy')\n",
    "freq = (np.load(dir + '/test_Y.npy'))[:,1]\n",
    "boa = (np.load(dir + '/test_Y.npy'))[:,0]"
   ]
  },
  {
   "cell_type": "code",
   "execution_count": 19,
   "id": "16fdf758",
   "metadata": {},
   "outputs": [
    {
     "name": "stdout",
     "output_type": "stream",
     "text": [
      "53/53 [==============================] - 2s 35ms/step\n",
      "53/53 [==============================] - 2s 34ms/step\n"
     ]
    }
   ],
   "source": [
    "# Get Predictions\n",
    "pred_proba_boa = boa_model.predict(test_X)\n",
    "pred_proba_freq = freq_model.predict(test_X)"
   ]
  },
  {
   "cell_type": "code",
   "execution_count": 20,
   "id": "9c13e6cc",
   "metadata": {},
   "outputs": [],
   "source": [
    "# proba -> get highest prba\n",
    "boa_pred_idx = np.argmax(pred_proba_boa, axis = 1)\n",
    "freq_pred_idx = np.argmax(pred_proba_freq, axis = 1)"
   ]
  },
  {
   "cell_type": "code",
   "execution_count": 21,
   "id": "8c55b1d0",
   "metadata": {},
   "outputs": [],
   "source": [
    "boa_cat = np.array([25.0, 30.0])\n",
    "\n",
    "freq_cat = np.array([0.05, 0.1, 0.2, 0.25, 0.3, 0.35, 0.4, 0.5])\n",
    "\n",
    "# Change the name to index of category\n",
    "freq_idx = []\n",
    "boa_idx = []\n",
    "\n",
    "for b,f in zip(boa, freq):\n",
    "    boa_idx.append(np.where(boa_cat == b)[0][0])\n",
    "    freq_idx.append(np.where(freq_cat == f)[0][0])\n",
    "    \n",
    "freq_idx = np.array(freq_idx)\n",
    "boa_idx = np.array(boa_idx)"
   ]
  },
  {
   "cell_type": "markdown",
   "id": "d143e6e9",
   "metadata": {},
   "source": [
    "### Frequency Results"
   ]
  },
  {
   "cell_type": "code",
   "execution_count": 22,
   "id": "1a039244",
   "metadata": {},
   "outputs": [
    {
     "name": "stdout",
     "output_type": "stream",
     "text": [
      "Confusion matrix, without normalization\n"
     ]
    },
    {
     "data": {
      "image/png": "[encoded data removed]",
      "text/plain": [
       "<Figure size 432x432 with 1 Axes>"
      ]
     },
     "metadata": {
      "needs_background": "light"
     },
     "output_type": "display_data"
    },
    {
     "name": "stdout",
     "output_type": "stream",
     "text": [
      "              precision    recall  f1-score   support\n",
      "\n",
      "           0       0.00      0.00      0.00       210\n",
      "           1       1.00      0.14      0.24       210\n",
      "           2       1.00      1.00      1.00       210\n",
      "           3       0.99      1.00      0.99       210\n",
      "           4       0.24      1.00      0.39       210\n",
      "           5       0.84      0.25      0.39       210\n",
      "           6       0.97      0.61      0.75       210\n",
      "           7       1.00      0.73      0.84       210\n",
      "\n",
      "    accuracy                           0.59      1680\n",
      "   macro avg       0.75      0.59      0.58      1680\n",
      "weighted avg       0.75      0.59      0.58      1680\n",
      "\n",
      "========================================\n",
      "ACCURACY : 59.10714285714286\n"
     ]
    }
   ],
   "source": [
    "# Compute confusion matrix\n",
    "cnf_matrix = confusion_matrix(freq_idx, freq_pred_idx)\n",
    "np.set_printoptions(precision=2)\n",
    "\n",
    "# Plot non-normalized confusion matrix\n",
    "plt.figure(figsize=(6,6))\n",
    "plot_confusion_matrix(cnf_matrix, classes = freq_cat, normalize=False,\n",
    "                      title='Frequency Prediction')\n",
    "plt.show()\n",
    "\n",
    "# Classification Report & Accuracy\n",
    "print(classification_report(freq_idx, freq_pred_idx, zero_division = 0))\n",
    "\n",
    "a = np.array(freq_idx == freq_pred_idx)\n",
    "\n",
    "correct = 0\n",
    "\n",
    "for boolean in a:\n",
    "    if boolean == True:\n",
    "        correct += 1\n",
    "print('='*40)\n",
    "print(\"ACCURACY :\", correct/len(a)*100)"
   ]
  },
  {
   "cell_type": "markdown",
   "id": "11202d63",
   "metadata": {},
   "source": [
    "### BoA Results"
   ]
  },
  {
   "cell_type": "code",
   "execution_count": 23,
   "id": "71a48c7b",
   "metadata": {},
   "outputs": [
    {
     "name": "stdout",
     "output_type": "stream",
     "text": [
      "Confusion matrix, without normalization\n"
     ]
    },
    {
     "data": {
      "image/png": "[encoded data removed]",
      "text/plain": [
       "<Figure size 432x432 with 1 Axes>"
      ]
     },
     "metadata": {
      "needs_background": "light"
     },
     "output_type": "display_data"
    },
    {
     "name": "stdout",
     "output_type": "stream",
     "text": [
      "              precision    recall  f1-score   support\n",
      "\n",
      "           0       1.00      1.00      1.00       451\n",
      "           1       1.00      1.00      1.00      1229\n",
      "\n",
      "    accuracy                           1.00      1680\n",
      "   macro avg       1.00      1.00      1.00      1680\n",
      "weighted avg       1.00      1.00      1.00      1680\n",
      "\n",
      "========================================\n",
      "ACCURACY : 100.0\n"
     ]
    }
   ],
   "source": [
    "# Compute confusion matrix\n",
    "cnf_matrix = confusion_matrix(boa_idx, boa_pred_idx)\n",
    "np.set_printoptions(precision=2)\n",
    "\n",
    "# Plot non-normalized confusion matrix\n",
    "plt.figure(figsize=(6,6))\n",
    "plot_confusion_matrix(cnf_matrix, classes = boa_cat, normalize=False,\n",
    "                      title='BoA Prediction')\n",
    "plt.show()\n",
    "\n",
    "# Classification Report & Accuracy\n",
    "print(classification_report(boa_idx, boa_pred_idx, zero_division = 0))\n",
    "\n",
    "a = np.array(boa_idx == boa_pred_idx)\n",
    "\n",
    "correct = 0\n",
    "\n",
    "for boolean in a:\n",
    "    if boolean == True:\n",
    "        correct += 1\n",
    "print('='*40)\n",
    "print(\"ACCURACY :\", correct/len(a)*100)"
   ]
  }
 ],
 "metadata": {
  "kernelspec": {
   "display_name": "tf_metal",
   "language": "python",
   "name": "tf25"
  },
  "language_info": {
   "codemirror_mode": {
    "name": "ipython",
    "version": 3
   },
   "file_extension": ".py",
   "mimetype": "text/x-python",
   "name": "python",
   "nbconvert_exporter": "python",
   "pygments_lexer": "ipython3",
   "version": "3.8.16"
  }
 },
 "nbformat": 4,
 "nbformat_minor": 5
}

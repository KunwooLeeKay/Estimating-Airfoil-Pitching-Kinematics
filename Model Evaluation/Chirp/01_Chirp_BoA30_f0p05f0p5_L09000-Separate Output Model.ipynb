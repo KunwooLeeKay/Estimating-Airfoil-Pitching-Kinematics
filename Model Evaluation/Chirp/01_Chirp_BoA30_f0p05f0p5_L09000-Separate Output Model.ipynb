{
 "cells": [
  {
   "cell_type": "markdown",
   "id": "c818fa5d",
   "metadata": {},
   "source": [
    "# Chirp, BoA 30, varying frequency 0.05 -> 0.5 in 9000 timesteps\n",
    "## Use the modified model that has BoA and Frequency output separtely"
   ]
  },
  {
   "cell_type": "code",
   "execution_count": 1,
   "id": "5a942f51",
   "metadata": {},
   "outputs": [],
   "source": [
    "from tensorflow import keras\n",
    "import numpy as np\n",
    "from sklearn.metrics import confusion_matrix\n",
    "from collections import Counter\n",
    "from matplotlib import pyplot as plt\n",
    "import tensorflow as tf\n",
    "from sklearn.metrics import classification_report\n",
    "from sklearn.preprocessing import OneHotEncoder"
   ]
  },
  {
   "cell_type": "code",
   "execution_count": 2,
   "id": "fcb32293",
   "metadata": {},
   "outputs": [],
   "source": [
    "model = keras.models.load_model(\"/Volumes/KleeFD/models/Chirp/one model two outputs.h5\")"
   ]
  },
  {
   "cell_type": "code",
   "execution_count": 3,
   "id": "52d1db52",
   "metadata": {},
   "outputs": [],
   "source": [
    "dir = \"/Volumes/KleeFD/dataset/dataset_chirp\""
   ]
  },
  {
   "cell_type": "markdown",
   "id": "cc50c55b",
   "metadata": {},
   "source": [
    "## TEST DATA"
   ]
  },
  {
   "cell_type": "code",
   "execution_count": 4,
   "id": "4e01477d",
   "metadata": {},
   "outputs": [],
   "source": [
    "test_X = np.load(dir + '/Chirp_BoA30_f0p05f0p5_L09000.npy')\n",
    "freq = (np.load(dir + '/FREQ_Chirp_BoA30_f0p05f0p5_L09000.npy'))\n",
    "angle = (np.load(dir + '/ANGLE_Chirp_BoA30_f0p05f0p5_L09000.npy'))\n",
    "\n",
    "boa_cat = [25.0, 30.0]\n",
    "\n",
    "freq_cat = [0.05, 0.1, 0.2, 0.25, 0.3, 0.35, 0.4, 0.5]"
   ]
  },
  {
   "cell_type": "code",
   "execution_count": 5,
   "id": "a70a482b",
   "metadata": {},
   "outputs": [
    {
     "name": "stdout",
     "output_type": "stream",
     "text": [
      "29/29 [==============================] - 2s 53ms/step\n"
     ]
    }
   ],
   "source": [
    "# Get Predictions (reverse to_categorical)\n",
    "pred_proba = model.predict(test_X)"
   ]
  },
  {
   "cell_type": "code",
   "execution_count": 6,
   "id": "2c16b5a4",
   "metadata": {},
   "outputs": [],
   "source": [
    "pred_proba_boa = pred_proba[1]\n",
    "pred_proba_freq = pred_proba[0]\n",
    "\n",
    "boa_pred_idx = np.argmax(pred_proba_boa, axis = 1)\n",
    "freq_pred_idx = np.argmax(pred_proba_freq, axis = 1)"
   ]
  },
  {
   "cell_type": "code",
   "execution_count": 7,
   "id": "dbb024f0",
   "metadata": {
    "scrolled": true
   },
   "outputs": [],
   "source": [
    "boa_pred = []\n",
    "freq_pred = []\n",
    "\n",
    "for b,f in zip(boa_pred_idx, freq_pred_idx):\n",
    "    boa_pred.append(boa_cat[b])\n",
    "    freq_pred.append(freq_cat[f])"
   ]
  },
  {
   "cell_type": "markdown",
   "id": "5dad503f",
   "metadata": {},
   "source": [
    "## Freqency Prediction"
   ]
  },
  {
   "cell_type": "code",
   "execution_count": 8,
   "id": "03857ba7",
   "metadata": {},
   "outputs": [
    {
     "data": {
      "text/plain": [
       "Text(0.5, 0, 'Time Step')"
      ]
     },
     "execution_count": 8,
     "metadata": {},
     "output_type": "execute_result"
    },
    {
     "data": {
      "image/png": "[encoded data removed]",
      "text/plain": [
       "<Figure size 1080x720 with 1 Axes>"
      ]
     },
     "metadata": {
      "needs_background": "light"
     },
     "output_type": "display_data"
    }
   ],
   "source": [
    "plt.figure(figsize = (15,10))\n",
    "plt.plot(list(range(len(freq))), freq, label = 'Actual')\n",
    "plt.scatter(list(range(len(freq))), freq_pred, c = 'r', label = 'Pred')\n",
    "plt.legend()\n",
    "plt.ylabel(\"Frequency\")\n",
    "plt.xlabel(\"Time Step\")"
   ]
  },
  {
   "cell_type": "markdown",
   "id": "161f59dd",
   "metadata": {},
   "source": [
    "## It doesn't seem to be working well...\n",
    "- categorize the frequencies (which is linear now). In that case, is the model working?"
   ]
  },
  {
   "cell_type": "code",
   "execution_count": 9,
   "id": "76ff048e",
   "metadata": {},
   "outputs": [
    {
     "name": "stdout",
     "output_type": "stream",
     "text": [
      "# of cat: 8\n",
      "899\n"
     ]
    }
   ],
   "source": [
    "## RANGE 0.05 - 0.10 - ----..... Is the prediction in the correct range??\n",
    "\n",
    "freq_cat = np.array([0, 0.05, 0.1, 0.2, 0.25, 0.3, 0.35, 0.4, 0.5, 0.6])\n",
    "\n",
    "# Set threshold values to be the mean value between two categoires. i.e. if 0.075 < x < 0.15 then 0.1\n",
    "thres = []\n",
    "for i in range(8):\n",
    "    thres.append(tuple([(freq_cat[i+1] + freq_cat[i])/2, (freq_cat[i+1] + freq_cat[i+2])/2]))\n",
    "\n",
    "print(\"# of cat:\",len(thres))\n",
    "\n",
    "# Make correct label according to that.\n",
    "categorized_freq = []\n",
    "for f in freq:\n",
    "    for cat_num in range(8):\n",
    "        bound = thres[cat_num]\n",
    "        if bound[0] < f and bound[1] > f:\n",
    "            categorized_freq.append(cat_num)\n",
    "            \n",
    "print(len(categorized_freq))"
   ]
  },
  {
   "cell_type": "code",
   "execution_count": 10,
   "id": "d1c92487",
   "metadata": {},
   "outputs": [],
   "source": [
    "import itertools\n",
    "def plot_confusion_matrix(cm, classes,\n",
    "                          normalize=False,\n",
    "                          title='Confusion matrix',\n",
    "                          cmap=plt.cm.Blues):\n",
    "    \"\"\"\n",
    "    This function prints and plots the confusion matrix.\n",
    "    Normalization can be applied by setting `normalize=True`.\n",
    "    \"\"\"\n",
    "    if normalize:\n",
    "        cm = cm.astype('float') / cm.sum(axis=1)[:, np.newaxis]\n",
    "        print(\"Normalized confusion matrix\")\n",
    "    else:\n",
    "        print('Confusion matrix, without normalization')\n",
    "\n",
    "    plt.imshow(cm, interpolation='nearest', cmap=cmap)\n",
    "    plt.title(title)\n",
    "    plt.colorbar()\n",
    "    tick_marks = np.arange(len(classes))\n",
    "    plt.xticks(tick_marks, classes, rotation=45)\n",
    "    plt.yticks(tick_marks, classes)\n",
    "\n",
    "    fmt = '.2f' if normalize else 'd'\n",
    "    thresh = cm.max() / 2.\n",
    "    for i, j in itertools.product(range(cm.shape[0]), range(cm.shape[1])):\n",
    "        plt.text(j, i, format(cm[i, j], fmt),\n",
    "                 horizontalalignment=\"center\",\n",
    "                 color=\"white\" if cm[i, j] > thresh else \"black\")\n",
    "\n",
    "    plt.tight_layout()\n",
    "    plt.ylabel('True label')\n",
    "    plt.xlabel('Predicted label')"
   ]
  },
  {
   "cell_type": "code",
   "execution_count": 11,
   "id": "22572edf",
   "metadata": {},
   "outputs": [],
   "source": [
    "categorized_freq = np.array(categorized_freq).reshape(-1,1)\n",
    "categorized_freq_pred = []\n",
    "freq_cat = np.array([0.05, 0.1, 0.2, 0.25, 0.3, 0.35, 0.4, 0.5])\n",
    "for p in freq_pred:\n",
    "    categorized_freq_pred.append(np.where(freq_cat == p)[0][0])\n",
    "categorized_freq_pred = np.array(categorized_freq_pred).reshape(-1,1)"
   ]
  },
  {
   "cell_type": "code",
   "execution_count": 12,
   "id": "38d17ca2",
   "metadata": {},
   "outputs": [
    {
     "name": "stdout",
     "output_type": "stream",
     "text": [
      "Confusion matrix, without normalization\n"
     ]
    },
    {
     "data": {
      "image/png": "[encoded data removed]",
      "text/plain": [
       "<Figure size 576x576 with 2 Axes>"
      ]
     },
     "metadata": {
      "needs_background": "light"
     },
     "output_type": "display_data"
    }
   ],
   "source": [
    "# Compute confusion matrix\n",
    "cnf_matrix = confusion_matrix(categorized_freq, categorized_freq_pred)\n",
    "np.set_printoptions(precision=2)\n",
    "\n",
    "# Plot non-normalized confusion matrix\n",
    "plt.figure(figsize=(8, 8))\n",
    "plot_confusion_matrix(cnf_matrix, classes = freq_cat, normalize=False,\n",
    "                      title='Confusion matrix')\n",
    "plt.show()"
   ]
  },
  {
   "cell_type": "code",
   "execution_count": 13,
   "id": "dc919312",
   "metadata": {},
   "outputs": [
    {
     "name": "stdout",
     "output_type": "stream",
     "text": [
      "              precision    recall  f1-score   support\n",
      "\n",
      "           0       0.12      0.74      0.20        50\n",
      "           1       0.30      0.35      0.32       150\n",
      "           2       0.00      0.00      0.00       150\n",
      "           3       0.10      0.04      0.06       100\n",
      "           4       0.00      0.00      0.00       100\n",
      "           5       0.00      0.00      0.00       100\n",
      "           6       0.47      1.00      0.64       150\n",
      "           7       0.00      0.00      0.00        99\n",
      "\n",
      "    accuracy                           0.27       899\n",
      "   macro avg       0.12      0.27      0.15       899\n",
      "weighted avg       0.15      0.27      0.18       899\n",
      "\n"
     ]
    },
    {
     "name": "stderr",
     "output_type": "stream",
     "text": [
      "/Users/kunwoosmac/miniconda3/envs/tf25/lib/python3.8/site-packages/sklearn/metrics/_classification.py:1344: UndefinedMetricWarning: Precision and F-score are ill-defined and being set to 0.0 in labels with no predicted samples. Use `zero_division` parameter to control this behavior.\n",
      "  _warn_prf(average, modifier, msg_start, len(result))\n",
      "/Users/kunwoosmac/miniconda3/envs/tf25/lib/python3.8/site-packages/sklearn/metrics/_classification.py:1344: UndefinedMetricWarning: Precision and F-score are ill-defined and being set to 0.0 in labels with no predicted samples. Use `zero_division` parameter to control this behavior.\n",
      "  _warn_prf(average, modifier, msg_start, len(result))\n",
      "/Users/kunwoosmac/miniconda3/envs/tf25/lib/python3.8/site-packages/sklearn/metrics/_classification.py:1344: UndefinedMetricWarning: Precision and F-score are ill-defined and being set to 0.0 in labels with no predicted samples. Use `zero_division` parameter to control this behavior.\n",
      "  _warn_prf(average, modifier, msg_start, len(result))\n"
     ]
    }
   ],
   "source": [
    "print(classification_report(categorized_freq, categorized_freq_pred))"
   ]
  },
  {
   "cell_type": "code",
   "execution_count": 14,
   "id": "35cea864",
   "metadata": {},
   "outputs": [
    {
     "name": "stdout",
     "output_type": "stream",
     "text": [
      "ACCURACY : 27.030033370411566\n"
     ]
    }
   ],
   "source": [
    "a = np.array(categorized_freq == categorized_freq_pred)\n",
    "\n",
    "correct = 0\n",
    "\n",
    "for boolean in a:\n",
    "    if boolean == True:\n",
    "        correct += 1\n",
    "print(\"ACCURACY :\", correct/len(a)*100)"
   ]
  },
  {
   "cell_type": "markdown",
   "id": "2438dd4b",
   "metadata": {},
   "source": [
    "- previous accuracy was 31% when two outputs were tied.\n",
    "- maybe the previous output was getting benefitted from the accuracy of boa prediction"
   ]
  },
  {
   "cell_type": "markdown",
   "id": "8520a03a",
   "metadata": {},
   "source": [
    "## BoA Prediction"
   ]
  },
  {
   "cell_type": "code",
   "execution_count": 15,
   "id": "2062f4eb",
   "metadata": {},
   "outputs": [
    {
     "data": {
      "text/plain": [
       "Counter({30.0: 889, 25.0: 10})"
      ]
     },
     "execution_count": 15,
     "metadata": {},
     "output_type": "execute_result"
    }
   ],
   "source": [
    "from collections import Counter\n",
    "Counter(boa_pred)"
   ]
  },
  {
   "cell_type": "code",
   "execution_count": 16,
   "id": "0d14c6b3",
   "metadata": {},
   "outputs": [
    {
     "name": "stdout",
     "output_type": "stream",
     "text": [
      "Error when two outputs were tied : 4.560622914349278, Error when two separate output : 1.1123470522803114\n"
     ]
    }
   ],
   "source": [
    "print(\"Error when two outputs were tied : {}, Error when two separate output : {}\".format(41/(858+41)*100, 10/(889+10)*100))"
   ]
  },
  {
   "cell_type": "markdown",
   "id": "8aff0dde",
   "metadata": {},
   "source": [
    "## The error got much smaller"
   ]
  },
  {
   "cell_type": "code",
   "execution_count": 17,
   "id": "cc6bdb9c",
   "metadata": {},
   "outputs": [
    {
     "name": "stdout",
     "output_type": "stream",
     "text": [
      "index: 164 , freq: 0.13245             , prediction: 0.1 , instantaneous angle: 27.98835791439771\n",
      "index: 165 , freq: 0.13295             , prediction: 0.1 , instantaneous angle: 28.624378648149207\n",
      "index: 166 , freq: 0.13345             , prediction: 0.1 , instantaneous angle: 29.28866751143512\n",
      "index: 167 , freq: 0.13395             , prediction: 0.1 , instantaneous angle: 29.96922829421248\n",
      "index: 168 , freq: 0.13445000000000001 , prediction: 0.1 , instantaneous angle: 30.65347711607282\n",
      "index: 169 , freq: 0.13495000000000001 , prediction: 0.1 , instantaneous angle: 31.328468783439327\n",
      "index: 170 , freq: 0.13545000000000001 , prediction: 0.1 , instantaneous angle: 31.98113973491637\n",
      "index: 360 , freq: 0.23045000000000004 , prediction: 0.05, instantaneous angle: 32.04153918435031\n",
      "index: 361 , freq: 0.23095             , prediction: 0.1 , instantaneous angle: 33.140425122129216\n",
      "index: 362 , freq: 0.23145             , prediction: 0.1 , instantaneous angle: 34.03250061963807\n"
     ]
    }
   ],
   "source": [
    "for i in range(len(boa_pred)):\n",
    "    if boa_pred[i] == 25.0:\n",
    "        print(\"index: {:<4}, freq: {:<20}, prediction: {:<4}, instantaneous angle: {:<10}\".format(i, freq[i], freq_pred[i], 30 - 5*angle[i]))"
   ]
  },
  {
   "cell_type": "markdown",
   "id": "421eba9a",
   "metadata": {},
   "source": [
    "# From previous conclutsion we did...\n",
    "\n",
    "- Create new model with two separate outputs : frequency & boa, and check the performance again\n",
    "\n",
    "# Conclusion\n",
    "- The model can't predict frequency\n",
    "- The model can predict boa"
   ]
  }
 ],
 "metadata": {
  "kernelspec": {
   "display_name": "tf_metal",
   "language": "python",
   "name": "tf25"
  },
  "language_info": {
   "codemirror_mode": {
    "name": "ipython",
    "version": 3
   },
   "file_extension": ".py",
   "mimetype": "text/x-python",
   "name": "python",
   "nbconvert_exporter": "python",
   "pygments_lexer": "ipython3",
   "version": "3.8.16"
  }
 },
 "nbformat": 4,
 "nbformat_minor": 5
}

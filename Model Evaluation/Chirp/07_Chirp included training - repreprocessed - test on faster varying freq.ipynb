{
 "cells": [
  {
   "cell_type": "markdown",
   "id": "c818fa5d",
   "metadata": {},
   "source": [
    "# Include Chirp In Training - testing for 6000"
   ]
  },
  {
   "cell_type": "code",
   "execution_count": 1,
   "id": "5a942f51",
   "metadata": {},
   "outputs": [],
   "source": [
    "from tensorflow import keras\n",
    "import numpy as np\n",
    "from sklearn.metrics import confusion_matrix\n",
    "from collections import Counter\n",
    "from matplotlib import pyplot as plt\n",
    "import tensorflow as tf\n",
    "from sklearn.metrics import classification_report\n",
    "from sklearn.preprocessing import OneHotEncoder\n",
    "from scipy.signal import chirp"
   ]
  },
  {
   "cell_type": "code",
   "execution_count": 2,
   "id": "eb557729",
   "metadata": {},
   "outputs": [],
   "source": [
    "import itertools\n",
    "def plot_confusion_matrix(cm, classes,\n",
    "                          normalize=False,\n",
    "                          title='Confusion matrix',\n",
    "                          cmap=plt.cm.Blues, cbar = False):\n",
    "    \"\"\"\n",
    "    This function prints and plots the confusion matrix.\n",
    "    Normalization can be applied by setting `normalize=True`.\n",
    "    \"\"\"\n",
    "    if normalize:\n",
    "        cm = cm.astype('float') / cm.sum(axis=1)[:, np.newaxis]\n",
    "        print(\"Normalized confusion matrix\")\n",
    "    else:\n",
    "        print('Confusion matrix, without normalization')\n",
    "\n",
    "    plt.imshow(cm, interpolation='nearest', cmap=cmap)\n",
    "    plt.title(title)\n",
    "    if cbar == True:\n",
    "        plt.colorbar()\n",
    "    tick_marks = np.arange(len(classes))\n",
    "    plt.xticks(tick_marks, classes, rotation=45)\n",
    "    plt.yticks(tick_marks, classes)\n",
    "\n",
    "    fmt = '.2f' if normalize else 'd'\n",
    "    thresh = cm.max() / 2.\n",
    "    for i, j in itertools.product(range(cm.shape[0]), range(cm.shape[1])):\n",
    "        plt.text(j, i, format(cm[i, j], fmt),\n",
    "                 horizontalalignment=\"center\",\n",
    "                 color=\"white\" if cm[i, j] > thresh else \"black\")\n",
    "\n",
    "    plt.tight_layout()\n",
    "    plt.ylabel('True label')\n",
    "    plt.xlabel('Predicted label')"
   ]
  },
  {
   "cell_type": "code",
   "execution_count": 3,
   "id": "fcb32293",
   "metadata": {},
   "outputs": [],
   "source": [
    "model = keras.models.load_model(\"/Volumes/KleeFD/models/Chirp/train with chirp-one model one output _ re-preprocessed data.h5\")"
   ]
  },
  {
   "cell_type": "code",
   "execution_count": 4,
   "id": "de7cc327",
   "metadata": {},
   "outputs": [],
   "source": [
    "# model = keras.models.load_model(\"/Volumes/KleeFD/models/Testing effect of window size/one thirds/iter 1.h5\")"
   ]
  },
  {
   "cell_type": "code",
   "execution_count": 5,
   "id": "25f094c8",
   "metadata": {},
   "outputs": [],
   "source": [
    "categories = []\n",
    "\n",
    "boa_cat = [25.0]*8 + [30.0]*8\n",
    "freq_cat = [0.05, 0.1, 0.2, 0.25, 0.3, 0.35, 0.4, 0.5, 0.05, 0.1, 0.2, 0.25, 0.3, 0.35, 0.4, 0.5]\n",
    "\n",
    "for b, f in zip(boa_cat, freq_cat):\n",
    "    categories.append((str(b) + ', '+ str(f)))"
   ]
  },
  {
   "cell_type": "markdown",
   "id": "4b1742b6",
   "metadata": {},
   "source": [
    "# Convert plt -> npy"
   ]
  },
  {
   "cell_type": "code",
   "execution_count": null,
   "id": "53359a22",
   "metadata": {},
   "outputs": [],
   "source": [
    "def velfield(ts, boa):\n",
    "    \n",
    "    path = '/Volumes/KleeFD/ibpm raw data/klee-chirp_BoA'+str(boa)+'_f0p05f0p5_L06000/ibpm'\\\n",
    "                + str(format(ts, '05'))+'.plt'\n",
    "    with open(path) as file:\n",
    "        f_text = file.read()\n",
    "\n",
    "    f_list = f_text[191:]\n",
    "    f_list = f_list.split(' ')\n",
    "    f_list.pop()\n",
    "\n",
    "    UX, UY = [], []\n",
    "    for idx, val in enumerate(f_list):\n",
    "        if val[0] == '\\n':\n",
    "            UX.append(float(f_list[idx+2]))\n",
    "            UY.append(float(f_list[idx+3]))\n",
    "    UX = np.array(UX); UY = np.array(UY)\n",
    "\n",
    "    UX = UX.reshape(299, 599)\n",
    "    UY = UY.reshape(299, 599)\n",
    "\n",
    "    return UX, UY"
   ]
  },
  {
   "cell_type": "code",
   "execution_count": null,
   "id": "0a19f36c",
   "metadata": {},
   "outputs": [],
   "source": [
    "# This is how timestep, freq, angle is defined\n",
    "\n",
    "ibpm_time = np.arange(5510, 11500, 10)\n",
    "freq = 0.05 + ((ibpm_time - 5501)/100)/60*(0.5-0.05)\n",
    "\n",
    "ori_time = np.arange(0, 60, 0.01)\n",
    "\n",
    "angle = 5*chirp(ori_time, 0.05, 30, 0.5, method = 'linear', phi = 0)\n",
    "angle = angle[9::10][:-1]"
   ]
  },
  {
   "cell_type": "code",
   "execution_count": null,
   "id": "89914f7b",
   "metadata": {},
   "outputs": [],
   "source": [
    "mean = np.load(\"/Volumes/KleeFD/dataset/dataset_chirp/04_sinusoidal + chirp _repreprocessed/mean.npy\")\n",
    "ux_range = np.load(\"/Volumes/KleeFD/dataset/dataset_chirp/04_sinusoidal + chirp _repreprocessed/ux_range.npy\")\n",
    "uy_range = np.load(\"/Volumes/KleeFD/dataset/dataset_chirp/04_sinusoidal + chirp _repreprocessed/uy_range.npy\")"
   ]
  },
  {
   "cell_type": "code",
   "execution_count": null,
   "id": "5b388147",
   "metadata": {},
   "outputs": [],
   "source": [
    "chirp_X25 = np.zeros((len(ibpm_time), 200, 200))\n",
    "\n",
    "for i, timestep in enumerate(ibpm_time):\n",
    "    \n",
    "    UX, UY = velfield(timestep, 25)\n",
    "    \n",
    "    UX = UX[99:199, 399:599]/ux_range\n",
    "    UY = UY[99:199, 399:599]/uy_range\n",
    "    \n",
    "    chirp_X25[i] = np.concatenate((UX, UY))\n",
    "    chirp_X25[i] -= mean\n",
    "    \n",
    "chirp_X25 = chirp_X25.reshape(len(ibpm_time), 200, 200,1)\n",
    "\n",
    "# Categorize the continuous frequency\n",
    "\n",
    "freq_cat = np.array([0, 0.05, 0.1, 0.2, 0.25, 0.3, 0.35, 0.4, 0.5, 0.6])\n",
    "\n",
    "# Set threshold values to be the mean value between two categoires. i.e. if 0.075 < x < 0.15 then 0.1\n",
    "thres = []\n",
    "for i in range(8):\n",
    "    thres.append(tuple([(freq_cat[i+1] + freq_cat[i])/2, (freq_cat[i+1] + freq_cat[i+2])/2]))\n",
    "\n",
    "freq_cat = np.array([0.05, 0.1, 0.2, 0.25, 0.3, 0.35, 0.4, 0.5])\n",
    "\n",
    "freq = 0.05 + ((ibpm_time - 5501)/100)/60*(0.5-0.05)\n",
    "\n",
    "categorized_freq = []\n",
    "for i, f in enumerate(freq):\n",
    "    for cat_num in range(8):\n",
    "        bound = thres[cat_num]\n",
    "        if bound[0] < f and bound[1] > f:\n",
    "            categorized_freq.append(freq_cat[cat_num])\n",
    "            \n",
    "categorized_freq = np.array(categorized_freq)\n",
    "boa = (np.full((len(ibpm_time), 1), 25.0)).reshape(-1,1)\n",
    "typ = (np.full((len(ibpm_time), 1), 'chirp')).reshape(-1,1)\n",
    "inst_angle = (25 - angle).reshape(-1,1)\n",
    "inst_freq = freq.reshape(-1,1)\n",
    "\n",
    "chirp_Y25 = np.column_stack((boa, categorized_freq, typ, inst_angle, inst_freq))"
   ]
  },
  {
   "cell_type": "code",
   "execution_count": null,
   "id": "0dcb7e6b",
   "metadata": {},
   "outputs": [],
   "source": [
    "chirp_X30 = np.zeros((len(ibpm_time), 200, 200))\n",
    "\n",
    "for i, timestep in enumerate(ibpm_time):\n",
    "    \n",
    "    UX, UY = velfield(timestep, 30)\n",
    "    \n",
    "    UX = UX[99:199, 399:599]/ux_range\n",
    "    UY = UY[99:199, 399:599]/uy_range\n",
    "    \n",
    "    chirp_X30[i] = np.concatenate((UX, UY))\n",
    "    chirp_X30[i] -= mean\n",
    "    \n",
    "chirp_X30 = chirp_X30.reshape(len(ibpm_time), 200, 200,1)\n",
    "\n",
    "# Categorize the continuous frequency\n",
    "\n",
    "freq_cat = np.array([0, 0.05, 0.1, 0.2, 0.25, 0.3, 0.35, 0.4, 0.5, 0.6])\n",
    "\n",
    "# Set threshold values to be the mean value between two categoires. i.e. if 0.075 < x < 0.15 then 0.1\n",
    "thres = []\n",
    "for i in range(8):\n",
    "    thres.append(tuple([(freq_cat[i+1] + freq_cat[i])/2, (freq_cat[i+1] + freq_cat[i+2])/2]))\n",
    "\n",
    "freq_cat = np.array([0.05, 0.1, 0.2, 0.25, 0.3, 0.35, 0.4, 0.5])\n",
    "\n",
    "freq = 0.05 + ((ibpm_time - 5501)/100)/60*(0.5-0.05)\n",
    "\n",
    "categorized_freq = []\n",
    "for i, f in enumerate(freq):\n",
    "    for cat_num in range(8):\n",
    "        bound = thres[cat_num]\n",
    "        if bound[0] < f and bound[1] > f:\n",
    "            categorized_freq.append(freq_cat[cat_num])\n",
    "            \n",
    "categorized_freq = np.array(categorized_freq)\n",
    "boa = (np.full((len(ibpm_time), 1), 30.0)).reshape(-1,1)\n",
    "typ = (np.full((len(ibpm_time), 1), 'chirp')).reshape(-1,1)\n",
    "inst_angle = (30 - angle).reshape(-1,1)\n",
    "inst_freq = freq.reshape(-1,1)\n",
    "\n",
    "chirp_Y30 = np.column_stack((boa, categorized_freq, typ, inst_angle, inst_freq))"
   ]
  },
  {
   "cell_type": "code",
   "execution_count": 9,
   "id": "544d32b6",
   "metadata": {},
   "outputs": [],
   "source": [
    "Y = np.zeros((len(chirp_Y25), 1), dtype = '<U10')\n",
    "for i in range(len(chirp_Y25)):\n",
    "    Y[i] = (str(chirp_Y25[i,0])+', '+ str(chirp_Y25[i, 1]))\n",
    "chirp_Y25 = Y\n",
    "\n",
    "Y = np.zeros((len(chirp_Y30), 1), dtype = '<U10')\n",
    "for i in range(len(chirp_Y30)):\n",
    "    Y[i] = (str(chirp_Y30[i,0])+', '+ str(chirp_Y30[i, 1]))\n",
    "chirp_Y30 = Y"
   ]
  },
  {
   "cell_type": "code",
   "execution_count": null,
   "id": "c5f37406",
   "metadata": {},
   "outputs": [],
   "source": [
    "chirp_X = np.concatenate((chirp_X25, chirp_X30), axis = 0)\n",
    "chirp_Y = np.concatenate((chirp_Y25, chirp_Y30), axis = 0)"
   ]
  },
  {
   "cell_type": "markdown",
   "id": "1f54ab77",
   "metadata": {},
   "source": [
    "# Chirp Evaluation"
   ]
  },
  {
   "cell_type": "code",
   "execution_count": 10,
   "id": "f954c226",
   "metadata": {},
   "outputs": [
    {
     "name": "stdout",
     "output_type": "stream",
     "text": [
      "9/9 [==============================] - 1s 40ms/step\n"
     ]
    }
   ],
   "source": [
    "pred_proba = model.predict(chirp_X)"
   ]
  },
  {
   "cell_type": "code",
   "execution_count": 11,
   "id": "639d79c9",
   "metadata": {},
   "outputs": [
    {
     "name": "stdout",
     "output_type": "stream",
     "text": [
      "              precision    recall  f1-score   support\n",
      "\n",
      "  25.0, 0.05       1.00      0.86      0.92         7\n",
      "   25.0, 0.1       0.96      1.00      0.98        22\n",
      "   25.0, 0.2       1.00      1.00      1.00        23\n",
      "  25.0, 0.25       1.00      0.73      0.85        15\n",
      "   25.0, 0.3       0.78      0.93      0.85        15\n",
      "  25.0, 0.35       0.87      0.87      0.87        15\n",
      "   25.0, 0.4       0.92      0.96      0.94        23\n",
      "   25.0, 0.5       0.94      1.00      0.97        15\n",
      "  30.0, 0.05       0.39      1.00      0.56         7\n",
      "   30.0, 0.1       1.00      0.45      0.62        22\n",
      "   30.0, 0.2       1.00      1.00      1.00        23\n",
      "  30.0, 0.25       1.00      1.00      1.00        15\n",
      "   30.0, 0.3       1.00      0.60      0.75        15\n",
      "  30.0, 0.35       1.00      0.07      0.12        15\n",
      "   30.0, 0.4       0.41      0.52      0.46        23\n",
      "   30.0, 0.5       0.28      0.53      0.36        15\n",
      "\n",
      "    accuracy                           0.78       270\n",
      "   macro avg       0.85      0.78      0.77       270\n",
      "weighted avg       0.86      0.78      0.78       270\n",
      "\n"
     ]
    }
   ],
   "source": [
    "pred_idx = np.argmax(pred_proba, axis = 1)\n",
    "pred = []\n",
    "\n",
    "for p in pred_idx:\n",
    "    pred.append(categories[p])\n",
    "\n",
    "print(classification_report(chirp_Y, pred))"
   ]
  },
  {
   "cell_type": "code",
   "execution_count": 12,
   "id": "2d959d21",
   "metadata": {},
   "outputs": [
    {
     "name": "stdout",
     "output_type": "stream",
     "text": [
      "Confusion matrix, without normalization\n"
     ]
    },
    {
     "data": {
      "image/png": "[encoded data removed]",
      "text/plain": [
       "<Figure size 720x720 with 1 Axes>"
      ]
     },
     "metadata": {
      "needs_background": "light"
     },
     "output_type": "display_data"
    }
   ],
   "source": [
    "cnf_matrix = confusion_matrix(chirp_Y, pred)\n",
    "\n",
    "plt.figure(figsize=(10,10))\n",
    "plot_confusion_matrix(cnf_matrix, classes = categories, normalize=False,\n",
    "                      title='Chirp Prediction')\n",
    "plt.show()"
   ]
  },
  {
   "cell_type": "markdown",
   "id": "16e6fa39",
   "metadata": {},
   "source": [
    "# In depth investigation for chirp"
   ]
  },
  {
   "cell_type": "markdown",
   "id": "2abd6fd5",
   "metadata": {},
   "source": [
    "1. check for freq - boa separately\n",
    "1. check instantaneous angle of attack & frequency for incorrect cases"
   ]
  },
  {
   "cell_type": "code",
   "execution_count": 13,
   "id": "eaa17125",
   "metadata": {
    "scrolled": true
   },
   "outputs": [],
   "source": [
    "boa_pred = []; freq_pred = []\n",
    "for p in pred:\n",
    "    boa_pred.append(p.split(', ')[0])\n",
    "    freq_pred.append(p.split(', ')[1])\n",
    "\n",
    "boa_pred = np.array(boa_pred); freq_pred = np.array(freq_pred)"
   ]
  },
  {
   "cell_type": "code",
   "execution_count": 14,
   "id": "99aac277",
   "metadata": {},
   "outputs": [],
   "source": [
    "boa = []; freq = []\n",
    "for p in chirp_Y[:,:2]:\n",
    "    p = p[0]\n",
    "    boa.append(p.split(', ')[0])\n",
    "    freq.append(p.split(', ')[1])\n",
    "\n",
    "boa = np.array(boa); freq = np.array(freq)"
   ]
  },
  {
   "cell_type": "code",
   "execution_count": 15,
   "id": "4034af87",
   "metadata": {},
   "outputs": [
    {
     "name": "stdout",
     "output_type": "stream",
     "text": [
      "BoA\n",
      "              precision    recall  f1-score   support\n",
      "\n",
      "        25.0       0.99      1.00      1.00       135\n",
      "        30.0       1.00      0.99      1.00       135\n",
      "\n",
      "    accuracy                           1.00       270\n",
      "   macro avg       1.00      1.00      1.00       270\n",
      "weighted avg       1.00      1.00      1.00       270\n",
      "\n",
      "==================================================\n",
      "freq\n",
      "              precision    recall  f1-score   support\n",
      "\n",
      "        0.05       0.54      0.93      0.68        14\n",
      "         0.1       0.97      0.73      0.83        44\n",
      "         0.2       1.00      1.00      1.00        46\n",
      "        0.25       1.00      0.87      0.93        30\n",
      "         0.3       0.85      0.77      0.81        30\n",
      "        0.35       0.88      0.47      0.61        30\n",
      "         0.4       0.64      0.74      0.69        46\n",
      "         0.5       0.51      0.77      0.61        30\n",
      "\n",
      "    accuracy                           0.78       270\n",
      "   macro avg       0.80      0.78      0.77       270\n",
      "weighted avg       0.83      0.78      0.79       270\n",
      "\n"
     ]
    }
   ],
   "source": [
    "print(\"BoA\")\n",
    "print(classification_report(boa, boa_pred))\n",
    "print('='*50)\n",
    "print(\"freq\")\n",
    "print(classification_report(freq, freq_pred))"
   ]
  },
  {
   "cell_type": "code",
   "execution_count": 16,
   "id": "5c201fb0",
   "metadata": {},
   "outputs": [
    {
     "name": "stdout",
     "output_type": "stream",
     "text": [
      "Confusion matrix, without normalization\n"
     ]
    },
    {
     "data": {
      "image/png": "[encoded data removed]",
      "text/plain": [
       "<Figure size 576x576 with 1 Axes>"
      ]
     },
     "metadata": {
      "needs_background": "light"
     },
     "output_type": "display_data"
    },
    {
     "name": "stdout",
     "output_type": "stream",
     "text": [
      "Confusion matrix, without normalization\n"
     ]
    },
    {
     "data": {
      "image/png": "[encoded data removed]",
      "text/plain": [
       "<Figure size 576x576 with 1 Axes>"
      ]
     },
     "metadata": {
      "needs_background": "light"
     },
     "output_type": "display_data"
    }
   ],
   "source": [
    "cnf_matrix1 = confusion_matrix(boa, boa_pred)\n",
    "cnf_matrix2 = confusion_matrix(freq, freq_pred)\n",
    "\n",
    "plt.figure(figsize = (8,8))\n",
    "plot_confusion_matrix(cnf_matrix1, classes = ['25.0', '30.0'], normalize=False,\n",
    "                      title='BoA Prediction')\n",
    "plt.show()\n",
    "\n",
    "plt.figure(figsize = (8,8))\n",
    "plot_confusion_matrix(cnf_matrix2, classes = [str(f) for f in freq_cat[0:8]], normalize=False,\n",
    "                      title='Freq Prediction')\n",
    "plt.show()"
   ]
  },
  {
   "cell_type": "markdown",
   "id": "a64fa7f0",
   "metadata": {},
   "source": [
    "## checking instantaneous angle & frequency for incorrect cases"
   ]
  },
  {
   "cell_type": "code",
   "execution_count": 17,
   "id": "d806faf3",
   "metadata": {},
   "outputs": [],
   "source": [
    "chirp_Y = test_Y[chirp]\n",
    "sin_Y = test_Y[sin]\n",
    "\n",
    "chirp_X = test_X[chirp]\n",
    "sin_X = test_X[sin]"
   ]
  },
  {
   "cell_type": "code",
   "execution_count": 18,
   "id": "6f0f2aca",
   "metadata": {},
   "outputs": [
    {
     "name": "stdout",
     "output_type": "stream",
     "text": [
      "frequency : 0.05\n",
      "freq_pred : 0.10, inst_angle : 28.045, inst_freq : 0.074\n",
      "========================================\n",
      "frequency : 0.1\n",
      "freq_pred : 0.05, inst_angle : 26.030, inst_freq : 0.096\n",
      "freq_pred : 0.05, inst_angle : 34.940, inst_freq : 0.114\n",
      "freq_pred : 0.05, inst_angle : 34.945, inst_freq : 0.082\n",
      "freq_pred : 0.05, inst_angle : 33.125, inst_freq : 0.087\n",
      "freq_pred : 0.05, inst_angle : 31.586, inst_freq : 0.109\n",
      "freq_pred : 0.05, inst_angle : 26.752, inst_freq : 0.104\n",
      "freq_pred : 0.05, inst_angle : 35.000, inst_freq : 0.081\n",
      "freq_pred : 0.05, inst_angle : 28.502, inst_freq : 0.093\n",
      "freq_pred : 0.05, inst_angle : 34.787, inst_freq : 0.083\n",
      "freq_pred : 0.35, inst_angle : 25.096, inst_freq : 0.099\n",
      "freq_pred : 0.05, inst_angle : 34.985, inst_freq : 0.081\n",
      "freq_pred : 0.05, inst_angle : 34.778, inst_freq : 0.116\n",
      "========================================\n",
      "frequency : 0.2\n",
      "========================================\n",
      "frequency : 0.25\n",
      "freq_pred : 0.30, inst_angle : 24.078, inst_freq : 0.273\n",
      "freq_pred : 0.30, inst_angle : 25.634, inst_freq : 0.274\n",
      "freq_pred : 0.30, inst_angle : 28.423, inst_freq : 0.275\n",
      "freq_pred : 0.30, inst_angle : 27.131, inst_freq : 0.274\n",
      "========================================\n",
      "frequency : 0.3\n",
      "freq_pred : 0.35, inst_angle : 28.426, inst_freq : 0.323\n",
      "freq_pred : 0.40, inst_angle : 34.382, inst_freq : 0.275\n",
      "freq_pred : 0.40, inst_angle : 29.276, inst_freq : 0.279\n",
      "freq_pred : 0.40, inst_angle : 27.759, inst_freq : 0.279\n",
      "freq_pred : 0.40, inst_angle : 34.996, inst_freq : 0.286\n",
      "freq_pred : 0.50, inst_angle : 33.426, inst_freq : 0.323\n",
      "freq_pred : 0.40, inst_angle : 26.770, inst_freq : 0.289\n",
      "========================================\n",
      "frequency : 0.35\n",
      "freq_pred : 0.40, inst_angle : 26.487, inst_freq : 0.374\n",
      "freq_pred : 0.40, inst_angle : 28.377, inst_freq : 0.375\n",
      "freq_pred : 0.50, inst_angle : 27.324, inst_freq : 0.341\n",
      "freq_pred : 0.50, inst_angle : 28.847, inst_freq : 0.336\n",
      "freq_pred : 0.40, inst_angle : 34.979, inst_freq : 0.361\n",
      "freq_pred : 0.50, inst_angle : 34.256, inst_freq : 0.339\n",
      "freq_pred : 0.40, inst_angle : 31.487, inst_freq : 0.374\n",
      "freq_pred : 0.40, inst_angle : 33.377, inst_freq : 0.375\n",
      "freq_pred : 0.50, inst_angle : 25.041, inst_freq : 0.357\n",
      "freq_pred : 0.50, inst_angle : 30.247, inst_freq : 0.370\n",
      "freq_pred : 0.40, inst_angle : 33.652, inst_freq : 0.360\n",
      "freq_pred : 0.50, inst_angle : 34.880, inst_freq : 0.330\n",
      "freq_pred : 0.40, inst_angle : 26.204, inst_freq : 0.358\n",
      "freq_pred : 0.50, inst_angle : 25.837, inst_freq : 0.343\n",
      "freq_pred : 0.50, inst_angle : 31.108, inst_freq : 0.355\n",
      "freq_pred : 0.50, inst_angle : 34.271, inst_freq : 0.329\n",
      "========================================\n",
      "frequency : 0.4\n",
      "freq_pred : 0.50, inst_angle : 27.879, inst_freq : 0.448\n",
      "freq_pred : 0.50, inst_angle : 34.405, inst_freq : 0.376\n",
      "freq_pred : 0.50, inst_angle : 29.726, inst_freq : 0.433\n",
      "freq_pred : 0.50, inst_angle : 34.983, inst_freq : 0.435\n",
      "freq_pred : 0.50, inst_angle : 25.983, inst_freq : 0.412\n",
      "freq_pred : 0.50, inst_angle : 29.335, inst_freq : 0.439\n",
      "freq_pred : 0.50, inst_angle : 25.992, inst_freq : 0.437\n",
      "freq_pred : 0.50, inst_angle : 34.646, inst_freq : 0.389\n",
      "freq_pred : 0.50, inst_angle : 25.656, inst_freq : 0.399\n",
      "freq_pred : 0.50, inst_angle : 30.561, inst_freq : 0.391\n",
      "freq_pred : 0.50, inst_angle : 32.970, inst_freq : 0.377\n",
      "freq_pred : 0.50, inst_angle : 34.912, inst_freq : 0.396\n",
      "========================================\n",
      "frequency : 0.5\n",
      "freq_pred : 0.40, inst_angle : 25.074, inst_freq : 0.467\n",
      "freq_pred : 0.40, inst_angle : 26.161, inst_freq : 0.490\n",
      "freq_pred : 0.40, inst_angle : 25.363, inst_freq : 0.467\n",
      "freq_pred : 0.40, inst_angle : 32.291, inst_freq : 0.465\n",
      "freq_pred : 0.40, inst_angle : 25.031, inst_freq : 0.489\n",
      "freq_pred : 0.40, inst_angle : 31.344, inst_freq : 0.469\n",
      "freq_pred : 0.40, inst_angle : 26.269, inst_freq : 0.468\n",
      "========================================\n"
     ]
    }
   ],
   "source": [
    "data = {}\n",
    "for cat in freq_cat[0:8]:\n",
    "    print(\"frequency :\", cat)\n",
    "    f_indices = np.where(freq == str(cat))[0].reshape(-1)\n",
    "\n",
    "    wrong_indices = []\n",
    "    for idx in f_indices:\n",
    "        if freq_pred[idx] != freq[idx]:\n",
    "            wrong_indices.append(idx)\n",
    "    wrong_indices = np.array(wrong_indices).reshape(-1)\n",
    "    data[float(cat)] = wrong_indices\n",
    "    \n",
    "    for wi in wrong_indices:\n",
    "        print(\"freq_pred : {:.2f}, inst_angle : {:.3f}, inst_freq : {:.3f}\".format(float(freq_pred[wi]),float(chirp_Y[wi][3]), float(chirp_Y[wi][4])))\n",
    "    print(\"=\" * 40)"
   ]
  },
  {
   "cell_type": "code",
   "execution_count": 19,
   "id": "38871666",
   "metadata": {},
   "outputs": [
    {
     "data": {
      "text/plain": [
       "{0.05: array([124]),\n",
       " 0.1: array([135, 158, 164, 165, 177, 186, 199, 213, 216, 227, 241, 249]),\n",
       " 0.2: array([], dtype=float64),\n",
       " 0.25: array([  7,  60,  67, 125]),\n",
       " 0.3: array([ 89, 144, 193, 198, 223, 224, 263]),\n",
       " 0.35: array([ 50,  61, 148, 160, 168, 172, 185, 196, 197, 220, 229, 231, 239,\n",
       "        240, 254, 269]),\n",
       " 0.4: array([ 32, 139, 140, 145, 149, 162, 166, 189, 208, 222, 225, 232]),\n",
       " 0.5: array([151, 155, 173, 184, 243, 255, 264])}"
      ]
     },
     "execution_count": 19,
     "metadata": {},
     "output_type": "execute_result"
    }
   ],
   "source": [
    "data # contains wrong indices"
   ]
  }
 ],
 "metadata": {
  "kernelspec": {
   "display_name": "tf_metal",
   "language": "python",
   "name": "tf25"
  },
  "language_info": {
   "codemirror_mode": {
    "name": "ipython",
    "version": 3
   },
   "file_extension": ".py",
   "mimetype": "text/x-python",
   "name": "python",
   "nbconvert_exporter": "python",
   "pygments_lexer": "ipython3",
   "version": "3.8.16"
  }
 },
 "nbformat": 4,
 "nbformat_minor": 5
}

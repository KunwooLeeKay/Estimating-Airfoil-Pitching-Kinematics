{
 "cells": [
  {
   "cell_type": "markdown",
   "id": "c818fa5d",
   "metadata": {},
   "source": [
    "# Suspicion 1\n",
    "- If using the old model for sinusoidal, it can't predict the sin data that I re-preprocessed & created\n",
    "- Is it because of zero centering & normalization issue?"
   ]
  },
  {
   "cell_type": "code",
   "execution_count": 1,
   "id": "5a942f51",
   "metadata": {},
   "outputs": [],
   "source": [
    "from tensorflow import keras\n",
    "import numpy as np\n",
    "from sklearn.metrics import confusion_matrix\n",
    "from collections import Counter\n",
    "from matplotlib import pyplot as plt\n",
    "import tensorflow as tf\n",
    "from sklearn.metrics import classification_report\n",
    "from sklearn.preprocessing import OneHotEncoder"
   ]
  },
  {
   "cell_type": "code",
   "execution_count": 2,
   "id": "eb557729",
   "metadata": {},
   "outputs": [],
   "source": [
    "import itertools\n",
    "def plot_confusion_matrix(cm, classes,\n",
    "                          normalize=False,\n",
    "                          title='Confusion matrix',\n",
    "                          cmap=plt.cm.Blues, cbar = False):\n",
    "    \"\"\"\n",
    "    This function prints and plots the confusion matrix.\n",
    "    Normalization can be applied by setting `normalize=True`.\n",
    "    \"\"\"\n",
    "    if normalize:\n",
    "        cm = cm.astype('float') / cm.sum(axis=1)[:, np.newaxis]\n",
    "        print(\"Normalized confusion matrix\")\n",
    "    else:\n",
    "        print('Confusion matrix, without normalization')\n",
    "\n",
    "    plt.imshow(cm, interpolation='nearest', cmap=cmap)\n",
    "    plt.title(title)\n",
    "    if cbar == True:\n",
    "        plt.colorbar()\n",
    "    tick_marks = np.arange(len(classes))\n",
    "    plt.xticks(tick_marks, classes, rotation=45)\n",
    "    plt.yticks(tick_marks, classes)\n",
    "\n",
    "    fmt = '.2f' if normalize else 'd'\n",
    "    thresh = cm.max() / 2.\n",
    "    for i, j in itertools.product(range(cm.shape[0]), range(cm.shape[1])):\n",
    "        plt.text(j, i, format(cm[i, j], fmt),\n",
    "                 horizontalalignment=\"center\",\n",
    "                 color=\"white\" if cm[i, j] > thresh else \"black\")\n",
    "\n",
    "    plt.tight_layout()\n",
    "    plt.ylabel('True label')\n",
    "    plt.xlabel('Predicted label')"
   ]
  },
  {
   "cell_type": "code",
   "execution_count": 3,
   "id": "fcb32293",
   "metadata": {},
   "outputs": [],
   "source": [
    "# model = keras.models.load_model(\"/Volumes/KleeFD/models/Chirp/train with chirp-one model one output _ re-preprocessed data.h5\")"
   ]
  },
  {
   "cell_type": "code",
   "execution_count": 51,
   "id": "ada282d2",
   "metadata": {},
   "outputs": [
    {
     "name": "stdout",
     "output_type": "stream",
     "text": [
      "Model: \"sequential_10\"\n",
      "_________________________________________________________________\n",
      " Layer (type)                Output Shape              Param #   \n",
      "=================================================================\n",
      " conv2d_70 (Conv2D)          (None, 198, 198, 32)      320       \n",
      "                                                                 \n",
      " batch_normalization_70 (Ba  (None, 198, 198, 32)      128       \n",
      " tchNormalization)                                               \n",
      "                                                                 \n",
      " max_pooling2d_50 (MaxPooli  (None, 99, 99, 32)        0         \n",
      " ng2D)                                                           \n",
      "                                                                 \n",
      " conv2d_71 (Conv2D)          (None, 97, 97, 32)        9248      \n",
      "                                                                 \n",
      " batch_normalization_71 (Ba  (None, 97, 97, 32)        128       \n",
      " tchNormalization)                                               \n",
      "                                                                 \n",
      " max_pooling2d_51 (MaxPooli  (None, 48, 48, 32)        0         \n",
      " ng2D)                                                           \n",
      "                                                                 \n",
      " conv2d_72 (Conv2D)          (None, 48, 48, 64)        51264     \n",
      "                                                                 \n",
      " batch_normalization_72 (Ba  (None, 48, 48, 64)        256       \n",
      " tchNormalization)                                               \n",
      "                                                                 \n",
      " max_pooling2d_52 (MaxPooli  (None, 24, 24, 64)        0         \n",
      " ng2D)                                                           \n",
      "                                                                 \n",
      " conv2d_73 (Conv2D)          (None, 24, 24, 64)        102464    \n",
      "                                                                 \n",
      " batch_normalization_73 (Ba  (None, 24, 24, 64)        256       \n",
      " tchNormalization)                                               \n",
      "                                                                 \n",
      " max_pooling2d_53 (MaxPooli  (None, 12, 12, 64)        0         \n",
      " ng2D)                                                           \n",
      "                                                                 \n",
      " conv2d_74 (Conv2D)          (None, 12, 12, 128)       204928    \n",
      "                                                                 \n",
      " batch_normalization_74 (Ba  (None, 12, 12, 128)       512       \n",
      " tchNormalization)                                               \n",
      "                                                                 \n",
      " max_pooling2d_54 (MaxPooli  (None, 6, 6, 128)         0         \n",
      " ng2D)                                                           \n",
      "                                                                 \n",
      " conv2d_75 (Conv2D)          (None, 6, 6, 128)         409728    \n",
      "                                                                 \n",
      " batch_normalization_75 (Ba  (None, 6, 6, 128)         512       \n",
      " tchNormalization)                                               \n",
      "                                                                 \n",
      " conv2d_76 (Conv2D)          (None, 6, 6, 128)         409728    \n",
      "                                                                 \n",
      " batch_normalization_76 (Ba  (None, 6, 6, 128)         512       \n",
      " tchNormalization)                                               \n",
      "                                                                 \n",
      " flatten_10 (Flatten)        (None, 4608)              0         \n",
      "                                                                 \n",
      " dense_20 (Dense)            (None, 120)               553080    \n",
      "                                                                 \n",
      " dense_21 (Dense)            (None, 16)                1936      \n",
      "                                                                 \n",
      "=================================================================\n",
      "Total params: 1745000 (6.66 MB)\n",
      "Trainable params: 1743848 (6.65 MB)\n",
      "Non-trainable params: 1152 (4.50 KB)\n",
      "_________________________________________________________________\n"
     ]
    }
   ],
   "source": [
    "model.summary()"
   ]
  },
  {
   "cell_type": "code",
   "execution_count": 50,
   "id": "de7cc327",
   "metadata": {},
   "outputs": [],
   "source": [
    "model = keras.models.load_model(\"/Volumes/KleeFD/models/Testing effect of window size/one thirds/iter 2.h5\")\n",
    "model = keras.models.load_model(\"/Users/kunwoosmac/Library/CloudStorage/OneDrive-IllinoisInstituteofTechnology/Lab PC backup/Pitching Airfoil/models/Testing effect of window size/one thirds/iter 1.h5\")\n",
    "model = keras.models.load_model(\"/Users/kunwoosmac/Library/CloudStorage/OneDrive-IllinoisInstituteofTechnology/Lab PC backup/Pitching Airfoil/models/Testing effect of window size/one thirds/iter1.keras\")\n",
    "\n",
    "# model.compile(loss = 'categorical_crossentropy', optimizer = 'adam', metrics = ['categorical_accuracy'])"
   ]
  },
  {
   "cell_type": "code",
   "execution_count": 39,
   "id": "25f094c8",
   "metadata": {},
   "outputs": [],
   "source": [
    "categories = []\n",
    "\n",
    "boa_cat = [25.0]*8 + [30.0]*8\n",
    "freq_cat = [0.05, 0.1, 0.2, 0.25, 0.3, 0.35, 0.4, 0.5, 0.05, 0.1, 0.2, 0.25, 0.3, 0.35, 0.4, 0.5]\n",
    "\n",
    "for b, f in zip(boa_cat, freq_cat):\n",
    "    categories.append((str(b) + ', '+ str(f)))"
   ]
  },
  {
   "cell_type": "code",
   "execution_count": 40,
   "id": "42b76ca0",
   "metadata": {},
   "outputs": [],
   "source": [
    "dir = \"/Volumes/KleeFD/dataset/dataset_chirp/04_sinusoidal + chirp _repreprocessed\""
   ]
  },
  {
   "cell_type": "code",
   "execution_count": 41,
   "id": "e533b2a3",
   "metadata": {},
   "outputs": [
    {
     "data": {
      "text/plain": [
       "((270,), (1682,))"
      ]
     },
     "execution_count": 41,
     "metadata": {},
     "output_type": "execute_result"
    }
   ],
   "source": [
    "test_X = np.load(dir + '/test_X.npy')\n",
    "test_Y = np.load(dir + '/test_Y.npy')\n",
    "\n",
    "chirp = np.where(test_Y[:,2] == 'chirp')[0]\n",
    "sin = np.where(test_Y[:,2] == 'sin')[0]\n",
    "\n",
    "chirp.shape, sin.shape"
   ]
  },
  {
   "cell_type": "code",
   "execution_count": 42,
   "id": "ba888bbc",
   "metadata": {},
   "outputs": [],
   "source": [
    "chirp_Y = test_Y[chirp]\n",
    "sin_Y = test_Y[sin]\n",
    "\n",
    "chirp_X = test_X[chirp]\n",
    "sin_X = test_X[sin]"
   ]
  },
  {
   "cell_type": "code",
   "execution_count": 43,
   "id": "544d32b6",
   "metadata": {},
   "outputs": [],
   "source": [
    "Y = np.zeros((len(chirp_Y), 1), dtype = '<U10')\n",
    "for i in range(len(chirp_Y)):\n",
    "    Y[i] = (str(chirp_Y[i,0])+', '+ str(chirp_Y[i, 1]))\n",
    "chirp_Y = Y"
   ]
  },
  {
   "cell_type": "markdown",
   "id": "ec091f2e",
   "metadata": {},
   "source": [
    "# Sinusoidal Evaluation"
   ]
  },
  {
   "cell_type": "code",
   "execution_count": 44,
   "id": "20df793f",
   "metadata": {},
   "outputs": [
    {
     "name": "stdout",
     "output_type": "stream",
     "text": [
      "53/53 [==============================] - 4s 57ms/step\n"
     ]
    }
   ],
   "source": [
    "pred_proba = model.predict(sin_X)"
   ]
  },
  {
   "cell_type": "code",
   "execution_count": 45,
   "id": "2772d104",
   "metadata": {},
   "outputs": [],
   "source": [
    "Y = np.zeros((len(sin_Y), 1), dtype = '<U10')\n",
    "for i in range(len(sin_Y)):\n",
    "    Y[i] = (str(sin_Y[i,0])+', '+ str(sin_Y[i, 1]))\n",
    "sin_Y = Y"
   ]
  },
  {
   "cell_type": "code",
   "execution_count": 46,
   "id": "9dcdc19b",
   "metadata": {},
   "outputs": [
    {
     "data": {
      "text/plain": [
       "array([['30.0, 0.35'],\n",
       "       ['25.0, 0.5'],\n",
       "       ['25.0, 0.3'],\n",
       "       ['30.0, 0.5'],\n",
       "       ['30.0, 0.3'],\n",
       "       ['30.0, 0.35'],\n",
       "       ['30.0, 0.25'],\n",
       "       ['25.0, 0.1'],\n",
       "       ['30.0, 0.1'],\n",
       "       ['25.0, 0.1']], dtype='<U10')"
      ]
     },
     "execution_count": 46,
     "metadata": {},
     "output_type": "execute_result"
    }
   ],
   "source": [
    "sin_Y[0:10]"
   ]
  },
  {
   "cell_type": "code",
   "execution_count": 47,
   "id": "bfeb9130",
   "metadata": {},
   "outputs": [
    {
     "name": "stdout",
     "output_type": "stream",
     "text": [
      "              precision    recall  f1-score   support\n",
      "\n",
      "  25.0, 0.05       1.00      0.37      0.54        60\n",
      "   25.0, 0.1       0.88      1.00      0.94        60\n",
      "   25.0, 0.2       0.95      0.93      0.94        60\n",
      "  25.0, 0.25       0.00      0.00      0.00        60\n",
      "   25.0, 0.3       0.41      1.00      0.59        60\n",
      "  25.0, 0.35       0.14      1.00      0.24        60\n",
      "   25.0, 0.4       1.00      0.33      0.50        60\n",
      "   25.0, 0.5       0.00      0.00      0.00        60\n",
      "  30.0, 0.05       0.00      0.00      0.00       151\n",
      "   30.0, 0.1       1.00      0.05      0.09       150\n",
      "   30.0, 0.2       1.00      0.90      0.95       151\n",
      "  30.0, 0.25       1.00      0.53      0.69       150\n",
      "   30.0, 0.3       0.00      0.00      0.00       150\n",
      "  30.0, 0.35       0.27      0.99      0.43       150\n",
      "   30.0, 0.4       0.00      0.00      0.00       150\n",
      "   30.0, 0.5       1.00      1.00      1.00       150\n",
      "\n",
      "    accuracy                           0.48      1682\n",
      "   macro avg       0.54      0.51      0.43      1682\n",
      "weighted avg       0.54      0.48      0.42      1682\n",
      "\n"
     ]
    },
    {
     "name": "stderr",
     "output_type": "stream",
     "text": [
      "/Users/kunwoosmac/miniconda3/envs/tf25/lib/python3.8/site-packages/sklearn/metrics/_classification.py:1344: UndefinedMetricWarning: Precision and F-score are ill-defined and being set to 0.0 in labels with no predicted samples. Use `zero_division` parameter to control this behavior.\n",
      "  _warn_prf(average, modifier, msg_start, len(result))\n",
      "/Users/kunwoosmac/miniconda3/envs/tf25/lib/python3.8/site-packages/sklearn/metrics/_classification.py:1344: UndefinedMetricWarning: Precision and F-score are ill-defined and being set to 0.0 in labels with no predicted samples. Use `zero_division` parameter to control this behavior.\n",
      "  _warn_prf(average, modifier, msg_start, len(result))\n",
      "/Users/kunwoosmac/miniconda3/envs/tf25/lib/python3.8/site-packages/sklearn/metrics/_classification.py:1344: UndefinedMetricWarning: Precision and F-score are ill-defined and being set to 0.0 in labels with no predicted samples. Use `zero_division` parameter to control this behavior.\n",
      "  _warn_prf(average, modifier, msg_start, len(result))\n"
     ]
    }
   ],
   "source": [
    "pred_idx = np.argmax(pred_proba, axis = 1)\n",
    "pred = []\n",
    "\n",
    "for p in pred_idx:\n",
    "    pred.append(categories[p])\n",
    "\n",
    "print(classification_report(sin_Y, pred))"
   ]
  },
  {
   "cell_type": "code",
   "execution_count": 48,
   "id": "acea6976",
   "metadata": {
    "scrolled": false
   },
   "outputs": [
    {
     "name": "stdout",
     "output_type": "stream",
     "text": [
      "Confusion matrix, without normalization\n"
     ]
    },
    {
     "data": {
      "image/png": "[encoded data removed]",
      "text/plain": [
       "<Figure size 720x720 with 1 Axes>"
      ]
     },
     "metadata": {
      "needs_background": "light"
     },
     "output_type": "display_data"
    }
   ],
   "source": [
    "cnf_matrix = confusion_matrix(sin_Y, pred)\n",
    "\n",
    "plt.figure(figsize=(10,10))\n",
    "plot_confusion_matrix(cnf_matrix, classes = categories, normalize=False,\n",
    "                      title='Sinusoidal Prediction')\n",
    "plt.show()"
   ]
  },
  {
   "cell_type": "markdown",
   "id": "3860854e",
   "metadata": {},
   "source": [
    "## Redo the normlization & zero-centering for sinusoidal and check again"
   ]
  },
  {
   "cell_type": "code",
   "execution_count": 62,
   "id": "3d63fad9",
   "metadata": {},
   "outputs": [],
   "source": [
    "test_X = np.load(dir + '/test_X.npy')\n",
    "test_Y = np.load(dir + '/test_Y.npy')\n",
    "\n",
    "chirp = np.where(test_Y[:,2] == 'chirp')[0]\n",
    "sin = np.where(test_Y[:,2] == 'sin')[0]\n",
    "\n",
    "chirp.shape, sin.shape\n",
    "\n",
    "chirp_Y = test_Y[chirp]\n",
    "sin_Y = test_Y[sin]\n",
    "\n",
    "chirp_X = test_X[chirp]\n",
    "sin_X = test_X[sin]\n",
    "\n",
    "Y = np.zeros((len(sin_Y), 1), dtype = '<U10')\n",
    "for i in range(len(sin_Y)):\n",
    "    Y[i] = (str(sin_Y[i,0])+', '+ str(sin_Y[i, 1]))\n",
    "sin_Y = Y"
   ]
  },
  {
   "cell_type": "code",
   "execution_count": 63,
   "id": "7a6a451b",
   "metadata": {},
   "outputs": [],
   "source": [
    "sin_X -= np.mean(sin_X, axis = 0)\n",
    "\n",
    "test_ux = sin_X[:,0:100,:,:]; test_uy = sin_X[:,100:200,:,:]\n",
    "\n",
    "test_ux = test_ux/(np.max(test_ux) - np.min(test_ux))\n",
    "test_uy = test_ux/(np.max(test_uy) - np.min(test_uy))"
   ]
  },
  {
   "cell_type": "code",
   "execution_count": 64,
   "id": "19dce49a",
   "metadata": {},
   "outputs": [
    {
     "data": {
      "text/plain": [
       "(-4.959436217493209e-19, 0.47832503748268035, -0.558466208868863)"
      ]
     },
     "execution_count": 64,
     "metadata": {},
     "output_type": "execute_result"
    }
   ],
   "source": [
    "np.mean(sin_X), np.max(sin_X), np.min(sin_X)"
   ]
  },
  {
   "cell_type": "code",
   "execution_count": 65,
   "id": "bf93f096",
   "metadata": {},
   "outputs": [
    {
     "name": "stdout",
     "output_type": "stream",
     "text": [
      "53/53 [==============================] - 3s 57ms/step\n"
     ]
    }
   ],
   "source": [
    "pred_proba = model.predict(sin_X)"
   ]
  },
  {
   "cell_type": "code",
   "execution_count": 66,
   "id": "c6f4564b",
   "metadata": {},
   "outputs": [
    {
     "name": "stdout",
     "output_type": "stream",
     "text": [
      "              precision    recall  f1-score   support\n",
      "\n",
      "  25.0, 0.05       1.00      0.38      0.55        60\n",
      "   25.0, 0.1       0.88      1.00      0.94        60\n",
      "   25.0, 0.2       0.95      0.93      0.94        60\n",
      "  25.0, 0.25       0.00      0.00      0.00        60\n",
      "   25.0, 0.3       0.42      1.00      0.59        60\n",
      "  25.0, 0.35       0.13      1.00      0.23        60\n",
      "   25.0, 0.4       1.00      0.02      0.03        60\n",
      "   25.0, 0.5       0.00      0.00      0.00        60\n",
      "  30.0, 0.05       0.00      0.00      0.00       151\n",
      "   30.0, 0.1       1.00      0.03      0.06       150\n",
      "   30.0, 0.2       1.00      0.90      0.95       151\n",
      "  30.0, 0.25       1.00      0.55      0.71       150\n",
      "   30.0, 0.3       0.00      0.00      0.00       150\n",
      "  30.0, 0.35       0.27      1.00      0.43       150\n",
      "   30.0, 0.4       0.00      0.00      0.00       150\n",
      "   30.0, 0.5       1.00      1.00      1.00       150\n",
      "\n",
      "    accuracy                           0.47      1682\n",
      "   macro avg       0.54      0.49      0.40      1682\n",
      "weighted avg       0.54      0.47      0.40      1682\n",
      "\n"
     ]
    },
    {
     "name": "stderr",
     "output_type": "stream",
     "text": [
      "/Users/kunwoosmac/miniconda3/envs/tf25/lib/python3.8/site-packages/sklearn/metrics/_classification.py:1344: UndefinedMetricWarning: Precision and F-score are ill-defined and being set to 0.0 in labels with no predicted samples. Use `zero_division` parameter to control this behavior.\n",
      "  _warn_prf(average, modifier, msg_start, len(result))\n",
      "/Users/kunwoosmac/miniconda3/envs/tf25/lib/python3.8/site-packages/sklearn/metrics/_classification.py:1344: UndefinedMetricWarning: Precision and F-score are ill-defined and being set to 0.0 in labels with no predicted samples. Use `zero_division` parameter to control this behavior.\n",
      "  _warn_prf(average, modifier, msg_start, len(result))\n",
      "/Users/kunwoosmac/miniconda3/envs/tf25/lib/python3.8/site-packages/sklearn/metrics/_classification.py:1344: UndefinedMetricWarning: Precision and F-score are ill-defined and being set to 0.0 in labels with no predicted samples. Use `zero_division` parameter to control this behavior.\n",
      "  _warn_prf(average, modifier, msg_start, len(result))\n"
     ]
    }
   ],
   "source": [
    "pred_idx = np.argmax(pred_proba, axis = 1)\n",
    "pred = []\n",
    "\n",
    "for p in pred_idx:\n",
    "    pred.append(categories[p])\n",
    "\n",
    "print(classification_report(sin_Y, pred))"
   ]
  },
  {
   "cell_type": "markdown",
   "id": "a212e798",
   "metadata": {},
   "source": [
    "## Doesn't fix the issue\n",
    "- Load the original dataset to compare"
   ]
  },
  {
   "cell_type": "code",
   "execution_count": 71,
   "id": "a1f405dc",
   "metadata": {},
   "outputs": [],
   "source": [
    "dir = '/Volumes/KleeFD/dataset/window_normalized/Window Size/one thirds'\n",
    "test_X = np.load(dir + '/test_X.npy')\n",
    "test_Y = np.load(dir + '/test_Y.npy')\n",
    "\n",
    "Y = np.zeros((len(test_Y), 1), dtype = '<U10')\n",
    "for i in range(len(test_Y)):\n",
    "    Y[i] = (str(test_Y[i,0])+', '+ str(test_Y[i, 1]))\n",
    "test_Y = Y"
   ]
  },
  {
   "cell_type": "code",
   "execution_count": 72,
   "id": "b295c100",
   "metadata": {},
   "outputs": [
    {
     "name": "stdout",
     "output_type": "stream",
     "text": [
      "53/53 [==============================] - 2s 37ms/step\n",
      "              precision    recall  f1-score   support\n",
      "\n",
      "  25.0, 0.05       1.00      0.62      0.77        56\n",
      "   25.0, 0.1       0.84      1.00      0.91        56\n",
      "   25.0, 0.2       1.00      0.90      0.95        52\n",
      "  25.0, 0.25       0.00      0.00      0.00        52\n",
      "   25.0, 0.3       0.40      1.00      0.58        55\n",
      "  25.0, 0.35       0.14      1.00      0.24        56\n",
      "   25.0, 0.4       1.00      0.42      0.59        67\n",
      "   25.0, 0.5       0.00      0.00      0.00        57\n",
      "  30.0, 0.05       0.00      0.00      0.00       154\n",
      "   30.0, 0.1       1.00      0.06      0.12       154\n",
      "   30.0, 0.2       1.00      0.85      0.92       158\n",
      "  30.0, 0.25       1.00      0.57      0.73       158\n",
      "   30.0, 0.3       0.00      0.00      0.00       155\n",
      "  30.0, 0.35       0.28      0.99      0.43       154\n",
      "   30.0, 0.4       0.00      0.00      0.00       143\n",
      "   30.0, 0.5       1.00      1.00      1.00       153\n",
      "\n",
      "    accuracy                           0.49      1680\n",
      "   macro avg       0.54      0.53      0.45      1680\n",
      "weighted avg       0.55      0.49      0.43      1680\n",
      "\n"
     ]
    },
    {
     "name": "stderr",
     "output_type": "stream",
     "text": [
      "/Users/kunwoosmac/miniconda3/envs/tf25/lib/python3.8/site-packages/sklearn/metrics/_classification.py:1344: UndefinedMetricWarning: Precision and F-score are ill-defined and being set to 0.0 in labels with no predicted samples. Use `zero_division` parameter to control this behavior.\n",
      "  _warn_prf(average, modifier, msg_start, len(result))\n",
      "/Users/kunwoosmac/miniconda3/envs/tf25/lib/python3.8/site-packages/sklearn/metrics/_classification.py:1344: UndefinedMetricWarning: Precision and F-score are ill-defined and being set to 0.0 in labels with no predicted samples. Use `zero_division` parameter to control this behavior.\n",
      "  _warn_prf(average, modifier, msg_start, len(result))\n",
      "/Users/kunwoosmac/miniconda3/envs/tf25/lib/python3.8/site-packages/sklearn/metrics/_classification.py:1344: UndefinedMetricWarning: Precision and F-score are ill-defined and being set to 0.0 in labels with no predicted samples. Use `zero_division` parameter to control this behavior.\n",
      "  _warn_prf(average, modifier, msg_start, len(result))\n"
     ]
    }
   ],
   "source": [
    "pred_proba = model.predict(test_X)\n",
    "\n",
    "pred_idx = np.argmax(pred_proba, axis = 1)\n",
    "pred = []\n",
    "\n",
    "for p in pred_idx:\n",
    "    pred.append(categories[p])\n",
    "\n",
    "print(classification_report(test_Y, pred))"
   ]
  },
  {
   "cell_type": "markdown",
   "id": "c50a91dd",
   "metadata": {},
   "source": [
    "# ??? Using iter 1 model with original data -> accuracy 0.48\n",
    "# Something wrong with the model\n",
    "- retrained and checking"
   ]
  },
  {
   "cell_type": "code",
   "execution_count": 26,
   "id": "414f187b",
   "metadata": {},
   "outputs": [
    {
     "ename": "OSError",
     "evalue": "No file or directory found at /Volumes/KleeFD/test.h5",
     "output_type": "error",
     "traceback": [
      "\u001b[0;31m---------------------------------------------------------------------------\u001b[0m",
      "\u001b[0;31mOSError\u001b[0m                                   Traceback (most recent call last)",
      "Cell \u001b[0;32mIn[26], line 1\u001b[0m\n\u001b[0;32m----> 1\u001b[0m model \u001b[38;5;241m=\u001b[39m \u001b[43mkeras\u001b[49m\u001b[38;5;241;43m.\u001b[39;49m\u001b[43mmodels\u001b[49m\u001b[38;5;241;43m.\u001b[39;49m\u001b[43mload_model\u001b[49m\u001b[43m(\u001b[49m\u001b[38;5;124;43m\"\u001b[39;49m\u001b[38;5;124;43m/Volumes/KleeFD/test.h5\u001b[39;49m\u001b[38;5;124;43m\"\u001b[39;49m\u001b[43m)\u001b[49m\n",
      "File \u001b[0;32m~/miniconda3/envs/tf25/lib/python3.8/site-packages/keras/src/saving/saving_api.py:238\u001b[0m, in \u001b[0;36mload_model\u001b[0;34m(filepath, custom_objects, compile, safe_mode, **kwargs)\u001b[0m\n\u001b[1;32m    230\u001b[0m     \u001b[38;5;28;01mreturn\u001b[39;00m saving_lib\u001b[38;5;241m.\u001b[39mload_model(\n\u001b[1;32m    231\u001b[0m         filepath,\n\u001b[1;32m    232\u001b[0m         custom_objects\u001b[38;5;241m=\u001b[39mcustom_objects,\n\u001b[1;32m    233\u001b[0m         \u001b[38;5;28mcompile\u001b[39m\u001b[38;5;241m=\u001b[39m\u001b[38;5;28mcompile\u001b[39m,\n\u001b[1;32m    234\u001b[0m         safe_mode\u001b[38;5;241m=\u001b[39msafe_mode,\n\u001b[1;32m    235\u001b[0m     )\n\u001b[1;32m    237\u001b[0m \u001b[38;5;66;03m# Legacy case.\u001b[39;00m\n\u001b[0;32m--> 238\u001b[0m \u001b[38;5;28;01mreturn\u001b[39;00m \u001b[43mlegacy_sm_saving_lib\u001b[49m\u001b[38;5;241;43m.\u001b[39;49m\u001b[43mload_model\u001b[49m\u001b[43m(\u001b[49m\n\u001b[1;32m    239\u001b[0m \u001b[43m    \u001b[49m\u001b[43mfilepath\u001b[49m\u001b[43m,\u001b[49m\u001b[43m \u001b[49m\u001b[43mcustom_objects\u001b[49m\u001b[38;5;241;43m=\u001b[39;49m\u001b[43mcustom_objects\u001b[49m\u001b[43m,\u001b[49m\u001b[43m \u001b[49m\u001b[38;5;28;43mcompile\u001b[39;49m\u001b[38;5;241;43m=\u001b[39;49m\u001b[38;5;28;43mcompile\u001b[39;49m\u001b[43m,\u001b[49m\u001b[43m \u001b[49m\u001b[38;5;241;43m*\u001b[39;49m\u001b[38;5;241;43m*\u001b[39;49m\u001b[43mkwargs\u001b[49m\n\u001b[1;32m    240\u001b[0m \u001b[43m\u001b[49m\u001b[43m)\u001b[49m\n",
      "File \u001b[0;32m~/miniconda3/envs/tf25/lib/python3.8/site-packages/keras/src/utils/traceback_utils.py:70\u001b[0m, in \u001b[0;36mfilter_traceback.<locals>.error_handler\u001b[0;34m(*args, **kwargs)\u001b[0m\n\u001b[1;32m     67\u001b[0m     filtered_tb \u001b[38;5;241m=\u001b[39m _process_traceback_frames(e\u001b[38;5;241m.\u001b[39m__traceback__)\n\u001b[1;32m     68\u001b[0m     \u001b[38;5;66;03m# To get the full stack trace, call:\u001b[39;00m\n\u001b[1;32m     69\u001b[0m     \u001b[38;5;66;03m# `tf.debugging.disable_traceback_filtering()`\u001b[39;00m\n\u001b[0;32m---> 70\u001b[0m     \u001b[38;5;28;01mraise\u001b[39;00m e\u001b[38;5;241m.\u001b[39mwith_traceback(filtered_tb) \u001b[38;5;28;01mfrom\u001b[39;00m \u001b[38;5;28mNone\u001b[39m\n\u001b[1;32m     71\u001b[0m \u001b[38;5;28;01mfinally\u001b[39;00m:\n\u001b[1;32m     72\u001b[0m     \u001b[38;5;28;01mdel\u001b[39;00m filtered_tb\n",
      "File \u001b[0;32m~/miniconda3/envs/tf25/lib/python3.8/site-packages/keras/src/saving/legacy/save.py:234\u001b[0m, in \u001b[0;36mload_model\u001b[0;34m(filepath, custom_objects, compile, options)\u001b[0m\n\u001b[1;32m    232\u001b[0m \u001b[38;5;28;01mif\u001b[39;00m \u001b[38;5;28misinstance\u001b[39m(filepath_str, \u001b[38;5;28mstr\u001b[39m):\n\u001b[1;32m    233\u001b[0m     \u001b[38;5;28;01mif\u001b[39;00m \u001b[38;5;129;01mnot\u001b[39;00m tf\u001b[38;5;241m.\u001b[39mio\u001b[38;5;241m.\u001b[39mgfile\u001b[38;5;241m.\u001b[39mexists(filepath_str):\n\u001b[0;32m--> 234\u001b[0m         \u001b[38;5;28;01mraise\u001b[39;00m \u001b[38;5;167;01mIOError\u001b[39;00m(\n\u001b[1;32m    235\u001b[0m             \u001b[38;5;124mf\u001b[39m\u001b[38;5;124m\"\u001b[39m\u001b[38;5;124mNo file or directory found at \u001b[39m\u001b[38;5;132;01m{\u001b[39;00mfilepath_str\u001b[38;5;132;01m}\u001b[39;00m\u001b[38;5;124m\"\u001b[39m\n\u001b[1;32m    236\u001b[0m         )\n\u001b[1;32m    238\u001b[0m     \u001b[38;5;28;01mif\u001b[39;00m tf\u001b[38;5;241m.\u001b[39mio\u001b[38;5;241m.\u001b[39mgfile\u001b[38;5;241m.\u001b[39misdir(filepath_str):\n\u001b[1;32m    239\u001b[0m         \u001b[38;5;28;01mreturn\u001b[39;00m saved_model_load\u001b[38;5;241m.\u001b[39mload(\n\u001b[1;32m    240\u001b[0m             filepath_str, \u001b[38;5;28mcompile\u001b[39m, options\n\u001b[1;32m    241\u001b[0m         )\n",
      "\u001b[0;31mOSError\u001b[0m: No file or directory found at /Volumes/KleeFD/test.h5"
     ]
    }
   ],
   "source": [
    "model = keras.models.load_model(\"/Volumes/KleeFD/test.h5\")"
   ]
  },
  {
   "cell_type": "code",
   "execution_count": 5,
   "id": "bf60d7f6",
   "metadata": {},
   "outputs": [],
   "source": [
    "categories = []\n",
    "\n",
    "boa_cat = [25.0]*8 + [30.0]*8\n",
    "freq_cat = [0.05, 0.1, 0.2, 0.25, 0.3, 0.35, 0.4, 0.5, 0.05, 0.1, 0.2, 0.25, 0.3, 0.35, 0.4, 0.5]\n",
    "\n",
    "for b, f in zip(boa_cat, freq_cat):\n",
    "    categories.append((str(b) + ', '+ str(f)))"
   ]
  },
  {
   "cell_type": "code",
   "execution_count": 6,
   "id": "6892b4c2",
   "metadata": {},
   "outputs": [],
   "source": [
    "dir = \"/Volumes/KleeFD/dataset/window_normalized/Window Size/one thirds\""
   ]
  },
  {
   "cell_type": "code",
   "execution_count": 7,
   "id": "e4b9acac",
   "metadata": {},
   "outputs": [
    {
     "data": {
      "text/plain": [
       "((270,), (1682,))"
      ]
     },
     "execution_count": 7,
     "metadata": {},
     "output_type": "execute_result"
    }
   ],
   "source": [
    "test_X = np.load(dir + '/test_X.npy')\n",
    "test_Y = np.load(dir + '/test_Y.npy')"
   ]
  },
  {
   "cell_type": "code",
   "execution_count": 9,
   "id": "6f2e9b02",
   "metadata": {},
   "outputs": [],
   "source": [
    "Y = np.zeros((len(chirp_Y), 1), dtype = '<U10')\n",
    "for i in range(len(chirp_Y)):\n",
    "    Y[i] = (str(chirp_Y[i,0])+', '+ str(chirp_Y[i, 1]))\n",
    "chirp_Y = Y"
   ]
  },
  {
   "cell_type": "markdown",
   "id": "ffe27b05",
   "metadata": {},
   "source": [
    "# Sinusoidal Evaluation"
   ]
  },
  {
   "cell_type": "code",
   "execution_count": 10,
   "id": "6a64ef1e",
   "metadata": {},
   "outputs": [
    {
     "name": "stdout",
     "output_type": "stream",
     "text": [
      "53/53 [==============================] - 2s 40ms/step\n"
     ]
    }
   ],
   "source": [
    "pred_proba = model.predict(sin_X)"
   ]
  },
  {
   "cell_type": "code",
   "execution_count": 11,
   "id": "598e3cca",
   "metadata": {},
   "outputs": [],
   "source": [
    "Y = np.zeros((len(sin_Y), 1), dtype = '<U10')\n",
    "for i in range(len(sin_Y)):\n",
    "    Y[i] = (str(sin_Y[i,0])+', '+ str(sin_Y[i, 1]))\n",
    "sin_Y = Y"
   ]
  },
  {
   "cell_type": "code",
   "execution_count": 12,
   "id": "a9dc4f8e",
   "metadata": {},
   "outputs": [
    {
     "data": {
      "text/plain": [
       "array([['30.0, 0.35'],\n",
       "       ['25.0, 0.5'],\n",
       "       ['25.0, 0.3'],\n",
       "       ['30.0, 0.5'],\n",
       "       ['30.0, 0.3'],\n",
       "       ['30.0, 0.35'],\n",
       "       ['30.0, 0.25'],\n",
       "       ['25.0, 0.1'],\n",
       "       ['30.0, 0.1'],\n",
       "       ['25.0, 0.1']], dtype='<U10')"
      ]
     },
     "execution_count": 12,
     "metadata": {},
     "output_type": "execute_result"
    }
   ],
   "source": [
    "sin_Y[0:10]"
   ]
  },
  {
   "cell_type": "code",
   "execution_count": 13,
   "id": "ebbd117c",
   "metadata": {},
   "outputs": [
    {
     "name": "stdout",
     "output_type": "stream",
     "text": [
      "              precision    recall  f1-score   support\n",
      "\n",
      "  25.0, 0.05       1.00      1.00      1.00        60\n",
      "   25.0, 0.1       0.95      1.00      0.98        60\n",
      "   25.0, 0.2       1.00      1.00      1.00        60\n",
      "  25.0, 0.25       1.00      1.00      1.00        60\n",
      "   25.0, 0.3       1.00      1.00      1.00        60\n",
      "  25.0, 0.35       1.00      1.00      1.00        60\n",
      "   25.0, 0.4       0.50      1.00      0.67        60\n",
      "   25.0, 0.5       0.00      0.00      0.00        60\n",
      "  30.0, 0.05       1.00      0.70      0.82       151\n",
      "   30.0, 0.1       0.94      0.93      0.93       150\n",
      "   30.0, 0.2       1.00      1.00      1.00       151\n",
      "  30.0, 0.25       1.00      1.00      1.00       150\n",
      "   30.0, 0.3       1.00      1.00      1.00       150\n",
      "  30.0, 0.35       0.77      1.00      0.87       150\n",
      "   30.0, 0.4       0.98      0.99      0.98       150\n",
      "   30.0, 0.5       1.00      1.00      1.00       150\n",
      "\n",
      "    accuracy                           0.93      1682\n",
      "   macro avg       0.88      0.91      0.89      1682\n",
      "weighted avg       0.92      0.93      0.92      1682\n",
      "\n"
     ]
    },
    {
     "name": "stderr",
     "output_type": "stream",
     "text": [
      "/Users/kunwoosmac/miniconda3/envs/tf25/lib/python3.8/site-packages/sklearn/metrics/_classification.py:1344: UndefinedMetricWarning: Precision and F-score are ill-defined and being set to 0.0 in labels with no predicted samples. Use `zero_division` parameter to control this behavior.\n",
      "  _warn_prf(average, modifier, msg_start, len(result))\n",
      "/Users/kunwoosmac/miniconda3/envs/tf25/lib/python3.8/site-packages/sklearn/metrics/_classification.py:1344: UndefinedMetricWarning: Precision and F-score are ill-defined and being set to 0.0 in labels with no predicted samples. Use `zero_division` parameter to control this behavior.\n",
      "  _warn_prf(average, modifier, msg_start, len(result))\n",
      "/Users/kunwoosmac/miniconda3/envs/tf25/lib/python3.8/site-packages/sklearn/metrics/_classification.py:1344: UndefinedMetricWarning: Precision and F-score are ill-defined and being set to 0.0 in labels with no predicted samples. Use `zero_division` parameter to control this behavior.\n",
      "  _warn_prf(average, modifier, msg_start, len(result))\n"
     ]
    }
   ],
   "source": [
    "pred_idx = np.argmax(pred_proba, axis = 1)\n",
    "pred = []\n",
    "\n",
    "for p in pred_idx:\n",
    "    pred.append(categories[p])\n",
    "\n",
    "print(classification_report(sin_Y, pred))"
   ]
  },
  {
   "cell_type": "code",
   "execution_count": 14,
   "id": "1fa1b92b",
   "metadata": {
    "scrolled": false
   },
   "outputs": [
    {
     "name": "stdout",
     "output_type": "stream",
     "text": [
      "Confusion matrix, without normalization\n"
     ]
    },
    {
     "data": {
      "image/png": "[encoded data removed]",
      "text/plain": [
       "<Figure size 720x720 with 1 Axes>"
      ]
     },
     "metadata": {
      "needs_background": "light"
     },
     "output_type": "display_data"
    }
   ],
   "source": [
    "cnf_matrix = confusion_matrix(sin_Y, pred)\n",
    "\n",
    "plt.figure(figsize=(10,10))\n",
    "plot_confusion_matrix(cnf_matrix, classes = categories, normalize=False,\n",
    "                      title='Sinusoidal Prediction')\n",
    "plt.show()"
   ]
  },
  {
   "cell_type": "code",
   "execution_count": null,
   "id": "fb8e4f2d",
   "metadata": {},
   "outputs": [],
   "source": []
  }
 ],
 "metadata": {
  "kernelspec": {
   "display_name": "tf_metal",
   "language": "python",
   "name": "tf25"
  },
  "language_info": {
   "codemirror_mode": {
    "name": "ipython",
    "version": 3
   },
   "file_extension": ".py",
   "mimetype": "text/x-python",
   "name": "python",
   "nbconvert_exporter": "python",
   "pygments_lexer": "ipython3",
   "version": "3.8.16"
  }
 },
 "nbformat": 4,
 "nbformat_minor": 5
}
